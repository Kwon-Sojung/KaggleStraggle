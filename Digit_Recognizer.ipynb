{
 "cells": [
  {
   "cell_type": "markdown",
   "id": "0d383eec",
   "metadata": {},
   "source": [
    "# Digit Recognizer"
   ]
  },
  {
   "cell_type": "markdown",
   "id": "88b48056",
   "metadata": {},
   "source": [
    "## 프로젝트를 통해 알게된 사실\u001f\n",
    "* np.random.seed() : 랜덤성 제어\n",
    "* import itertools : 효율적인 루핑을 위한 이터레이터 만드는 함수\n",
    "* from keras.optimizers import RMSprop  ->  from tensorflow.keras.optimizers import RMSprop\n",
    "* sns.set() : seaborn 테마 설정\n",
    "* more the pooling dimension is high, more the downsampling is important.\n",
    "* dropout은 일반화를 개선하고 과적합을 줄인다.\n",
    "* Its better to have a decreasing learning rate during the training to reach efficiently the global minimum of the loss function.\n",
    "* ZCA whitening :sero-phase component analysis를 의미. ZCA를 적용하면 입력데이터의 n차원을 유지하며 차원감소는 일어나지 않는다."
   ]
  },
  {
   "cell_type": "markdown",
   "id": "28759cde",
   "metadata": {},
   "source": [
    "## Dataset"
   ]
  },
  {
   "cell_type": "markdown",
   "id": "433e227c",
   "metadata": {},
   "source": [
    "https://www.kaggle.com/competitions/digit-recognizer/data"
   ]
  },
  {
   "cell_type": "code",
   "execution_count": 1,
   "id": "73797bad",
   "metadata": {},
   "outputs": [],
   "source": [
    "# 라이브러리 불러오기\n",
    "import pandas as pd\n",
    "import numpy as np\n",
    "import matplotlib.pyplot as plt\n",
    "import matplotlib.image as mpimg\n",
    "import seaborn as sns\n",
    "%matplotlib inline\n",
    "\n",
    "np.random.seed(2) # 랜덤성 제어\n",
    "\n",
    "from sklearn.model_selection import train_test_split\n",
    "from sklearn.metrics import confusion_matrix\n",
    "import itertools # 효율적인 루핑을 위한 이터레이터 만드는 함수\n",
    "\n",
    "from keras.utils.np_utils import to_categorical # 원핫인코딩 변환\n",
    "from keras.models import Sequential\n",
    "from keras.layers import Dense, Dropout, Flatten, Conv2D, MaxPool2D\n",
    "from tensorflow.keras.optimizers import RMSprop\n",
    "from keras.preprocessing.image import ImageDataGenerator\n",
    "from keras.callbacks import ReduceLROnPlateau\n",
    "\n",
    "\n",
    "sns.set(style=\"white\", context=\"notebook\", palette=\"deep\") #seaborn 테마 설정\n"
   ]
  },
  {
   "cell_type": "markdown",
   "id": "2d208639",
   "metadata": {},
   "source": [
    "## Data preparation"
   ]
  },
  {
   "cell_type": "markdown",
   "id": "e7456ba6",
   "metadata": {},
   "source": [
    "### Load data"
   ]
  },
  {
   "cell_type": "code",
   "execution_count": 2,
   "id": "d267b13e",
   "metadata": {},
   "outputs": [],
   "source": [
    "# 압축풀기\n",
    "# !unzip digit-recognizer.zip"
   ]
  },
  {
   "cell_type": "code",
   "execution_count": 3,
   "id": "c5d6cd64",
   "metadata": {},
   "outputs": [
    {
     "data": {
      "text/plain": [
       "((42000, 785), (28000, 784))"
      ]
     },
     "execution_count": 3,
     "metadata": {},
     "output_type": "execute_result"
    }
   ],
   "source": [
    "# Load the data\n",
    "train = pd.read_csv(\"train.csv\")\n",
    "test = pd.read_csv(\"test.csv\")\n",
    "train.shape, test.shape"
   ]
  },
  {
   "cell_type": "code",
   "execution_count": 4,
   "id": "0d5f2a09",
   "metadata": {},
   "outputs": [
    {
     "data": {
      "text/plain": [
       "{'label'}"
      ]
     },
     "execution_count": 4,
     "metadata": {},
     "output_type": "execute_result"
    }
   ],
   "source": [
    "# Confirm target\n",
    "set(train.columns) - set(test.columns)"
   ]
  },
  {
   "cell_type": "code",
   "execution_count": 5,
   "id": "591faac3",
   "metadata": {},
   "outputs": [
    {
     "data": {
      "text/plain": [
       "1    4684\n",
       "7    4401\n",
       "3    4351\n",
       "9    4188\n",
       "2    4177\n",
       "6    4137\n",
       "0    4132\n",
       "4    4072\n",
       "8    4063\n",
       "5    3795\n",
       "Name: label, dtype: int64"
      ]
     },
     "execution_count": 5,
     "metadata": {},
     "output_type": "execute_result"
    },
    {
     "data": {
      "image/png": "[encoded data removed]",
      "text/plain": [
       "<Figure size 432x288 with 1 Axes>"
      ]
     },
     "metadata": {},
     "output_type": "display_data"
    }
   ],
   "source": [
    "Y_train = train[\"label\"]\n",
    "\n",
    "# Drop 'label' column\n",
    "X_train = train.drop(labels=[\"label\"], axis=1)\n",
    "\n",
    "# free some space\n",
    "del train\n",
    "\n",
    "g = sns.countplot(Y_train)\n",
    "\n",
    "Y_train.value_counts()"
   ]
  },
  {
   "cell_type": "markdown",
   "id": "33a7e54c",
   "metadata": {},
   "source": [
    "* 각 숫자는 비슷한 분포를 띄고 있음"
   ]
  },
  {
   "cell_type": "markdown",
   "id": "01daa981",
   "metadata": {},
   "source": [
    "### Check for null and missing values"
   ]
  },
  {
   "cell_type": "code",
   "execution_count": 6,
   "id": "13bc3883",
   "metadata": {},
   "outputs": [
    {
     "data": {
      "text/plain": [
       "0"
      ]
     },
     "execution_count": 6,
     "metadata": {},
     "output_type": "execute_result"
    }
   ],
   "source": [
    "# Check missing\n",
    "X_train.isnull().sum().sum()"
   ]
  },
  {
   "cell_type": "code",
   "execution_count": 7,
   "id": "2983a84c",
   "metadata": {},
   "outputs": [
    {
     "data": {
      "text/plain": [
       "0"
      ]
     },
     "execution_count": 7,
     "metadata": {},
     "output_type": "execute_result"
    }
   ],
   "source": [
    "test.isnull().sum().sum()"
   ]
  },
  {
   "cell_type": "markdown",
   "id": "7585cef8",
   "metadata": {},
   "source": [
    "### Normalization"
   ]
  },
  {
   "cell_type": "code",
   "execution_count": 8,
   "id": "9235ee4c",
   "metadata": {},
   "outputs": [],
   "source": [
    "# Normalize the data\n",
    "X_train = X_train/255\n",
    "test = test/255"
   ]
  },
  {
   "cell_type": "markdown",
   "id": "40b65979",
   "metadata": {},
   "source": [
    "### Reshape"
   ]
  },
  {
   "cell_type": "code",
   "execution_count": 9,
   "id": "6d3a8406",
   "metadata": {},
   "outputs": [],
   "source": [
    "# Reshape image in 3 dimensions (height=28px, width=28px, channel=1)\n",
    "# mnist 이미지는 회색으로 하니까 channel 1로\n",
    "X_train = X_train.values.reshape(-1,28,28,1)\n",
    "test = test.values.reshape(-1,28,28,1)"
   ]
  },
  {
   "cell_type": "markdown",
   "id": "b4686f63",
   "metadata": {},
   "source": [
    "### Label encoding"
   ]
  },
  {
   "cell_type": "code",
   "execution_count": 10,
   "id": "c0fff7f3",
   "metadata": {},
   "outputs": [],
   "source": [
    "# one-hot encoding\n",
    "Y_train = to_categorical(Y_train, num_classes=10)"
   ]
  },
  {
   "cell_type": "markdown",
   "id": "6504f132",
   "metadata": {},
   "source": [
    "### Split training and validation set"
   ]
  },
  {
   "cell_type": "code",
   "execution_count": 11,
   "id": "b03887bf",
   "metadata": {},
   "outputs": [],
   "source": [
    "# Set the random seed\n",
    "random_seed = 2"
   ]
  },
  {
   "cell_type": "code",
   "execution_count": 12,
   "id": "1e2c0e26",
   "metadata": {},
   "outputs": [],
   "source": [
    "# Split the train and the validation set for the fitting\n",
    "X_train, X_val, Y_train, Y_val = train_test_split(X_train, Y_train,\n",
    "                                                  test_size=0.1,\n",
    "                                                  random_state=random_seed)"
   ]
  },
  {
   "cell_type": "markdown",
   "id": "1dd9f985",
   "metadata": {},
   "source": [
    "* train 데이터가 비교적 균일한 데이터이므로 무작위 분할을 했을 때 과대적합 되지 않습니다. 만약 균일하지 않은 데이터는 stratify 옵션을 활용하여 층화추출을 해줘야합니다."
   ]
  },
  {
   "cell_type": "code",
   "execution_count": 15,
   "id": "21fce315",
   "metadata": {},
   "outputs": [
    {
     "data": {
      "image/png": "[encoded data removed]",
      "text/plain": [
       "<Figure size 432x288 with 1 Axes>"
      ]
     },
     "metadata": {},
     "output_type": "display_data"
    }
   ],
   "source": [
    "# Some examples\n",
    "g = plt.imshow(X_train[0][:,:,0], cmap=\"Greys\")"
   ]
  },
  {
   "cell_type": "markdown",
   "id": "7f139611",
   "metadata": {},
   "source": [
    "* 나는 왜 cmap=\"Greys\" 따로 설정해줘야 회색으로 바뀌지..?"
   ]
  },
  {
   "cell_type": "markdown",
   "id": "974c219c",
   "metadata": {},
   "source": [
    "## CNN"
   ]
  },
  {
   "cell_type": "markdown",
   "id": "e2d820c2",
   "metadata": {},
   "source": [
    "### Define the model"
   ]
  },
  {
   "cell_type": "code",
   "execution_count": 18,
   "id": "9ca351b1",
   "metadata": {
    "scrolled": true
   },
   "outputs": [],
   "source": [
    "# Set the CNN model\n",
    "# my CNN architechture is In -> [[Conv2D->relu]*2 -> MaxPool2D -> Dropout]*2\\\n",
    "# -> Flatten ->Dense-> Dropout -> Out\n",
    "\n",
    "model = Sequential()\n",
    "\n",
    "model.add(Conv2D(filters=32, kernel_size=(5,5), padding=\"Same\",\n",
    "                 activation=\"relu\", input_shape=(28,28,1)))\n",
    "model.add(Conv2D(filters=32, kernel_size=(5,5), padding=\"Same\",\n",
    "                 activation=\"relu\"))\n",
    "model.add(MaxPool2D(pool_size=(2,2)))\n",
    "model.add(Dropout(0.25))\n",
    "\n",
    "\n",
    "model.add(Conv2D(filters=64, kernel_size=(3,3), padding=\"Same\",\n",
    "                 activation=\"relu\", input_shape=(28,28,1)))\n",
    "model.add(Conv2D(filters=64, kernel_size=(3,3), padding=\"Same\",\n",
    "                 activation=\"relu\"))\n",
    "model.add(MaxPool2D(pool_size=(2,2), strides=(2,2)))\n",
    "model.add(Dropout(0.25))\n",
    "\n",
    "\n",
    "model.add(Flatten())\n",
    "model.add(Dense(256, activation=\"relu\"))\n",
    "model.add(Dropout(0.5))\n",
    "model.add(Dense(10, activation=\"softmax\"))\n"
   ]
  },
  {
   "cell_type": "markdown",
   "id": "51cb9d6c",
   "metadata": {},
   "source": [
    "### Set the optimizer and annealer"
   ]
  },
  {
   "cell_type": "code",
   "execution_count": 19,
   "id": "6b08b7c0",
   "metadata": {},
   "outputs": [
    {
     "name": "stderr",
     "output_type": "stream",
     "text": [
      "/usr/local/lib/python3.8/dist-packages/keras/optimizer_v2/rmsprop.py:130: UserWarning: The `lr` argument is deprecated, use `learning_rate` instead.\n",
      "  super(RMSprop, self).__init__(name, **kwargs)\n"
     ]
    }
   ],
   "source": [
    "# Define the optimizer\n",
    "optimizer = RMSprop(lr=0.001, rho=0.9, epsilon=1e-08, decay=0)"
   ]
  },
  {
   "cell_type": "code",
   "execution_count": 20,
   "id": "8dcaf5aa",
   "metadata": {},
   "outputs": [],
   "source": [
    "# Compile the model\n",
    "model.compile(optimizer = optimizer,\n",
    "              loss=\"categorical_crossentropy\",\n",
    "              metrics=[\"accuracy\"])\n"
   ]
  },
  {
   "cell_type": "code",
   "execution_count": 30,
   "id": "95ffe984",
   "metadata": {},
   "outputs": [],
   "source": [
    "# Set a learning rate annealer\n",
    "learning_rate_reduction = ReduceLROnPlateau(monitor=\"val_accuracy\",\n",
    "                                            patience=3,\n",
    "                                            verbose=1,\n",
    "                                            factor=0.5,\n",
    "                                            min_lr=0.00001)\n"
   ]
  },
  {
   "cell_type": "code",
   "execution_count": 31,
   "id": "a01a10b1",
   "metadata": {},
   "outputs": [],
   "source": [
    "epochs = 30\n",
    "batch_size=86"
   ]
  },
  {
   "cell_type": "markdown",
   "id": "0b2717cd",
   "metadata": {},
   "source": [
    "### Data augmentation"
   ]
  },
  {
   "cell_type": "markdown",
   "id": "5b26f75a",
   "metadata": {},
   "source": [
    "* 여기서는 데이터증강기법을 사용하여 정확도를 98.114% -> 99.67% 로 늘림"
   ]
  },
  {
   "cell_type": "code",
   "execution_count": 32,
   "id": "f0ba8850",
   "metadata": {},
   "outputs": [],
   "source": [
    "# Without data augmentation i obtained an accuracy of 0.98114\n",
    "\n",
    "# history = model.fit(X_train, Y_train, batch_size=batch_size, epochs=epochs,\n",
    "#            validation_date=(X_val, Y_val), verbose=2)"
   ]
  },
  {
   "cell_type": "code",
   "execution_count": 33,
   "id": "d706329d",
   "metadata": {},
   "outputs": [],
   "source": [
    "# With data augmentation to prevent overfitting (accuracy 0.99286)\n",
    "\n",
    "datagen = ImageDataGenerator(\n",
    "        featurewise_center=False, # set input mean to 0 over the dataset\n",
    "        samplewise_center=False, # set each sample mean to 0\n",
    "        featurewise_std_normalization=False, # divide inputs by std of the dataset\n",
    "        samplewise_std_normalization=False, # divide each input by its std\n",
    "        zca_whitening=False, # apply ZCA whitening\n",
    "        rotation_range=10, # randomly rotate images in the range (degrees, 0~180)\n",
    "        zoom_range=0.1, # Randomly zoom image\n",
    "        width_shift_range=0.1, # 이미지를 수평하게 랜덤으로 이동 (전체 너비의 크기)\n",
    "        height_shift_range=0.1, # 이미지를 세로로 랜덤으로 이동 (전체 너비의 크기)\n",
    "        horizontal_flip=False, # 랜덤하게 이미지 뒤집기\n",
    "        vertical_flip=False) # 랜덤하게 이미지 뒤집기\n",
    "\n",
    "datagen.fit(X_train)"
   ]
  },
  {
   "cell_type": "markdown",
   "id": "91d7232b",
   "metadata": {},
   "source": [
    "* 이미지를 \n",
    "1. 10도씩 임의로 회전\n",
    "2. 10% 확대\n",
    "3. 너비와 세로 각각 10%씩 임의로 이동\n",
    "4. 6과 9와 같은 대칭적인 숫자가 있기 때문에 뒤집기는 적용하지 않음"
   ]
  },
  {
   "cell_type": "code",
   "execution_count": 35,
   "id": "a22b5fa7",
   "metadata": {},
   "outputs": [
    {
     "name": "stdout",
     "output_type": "stream",
     "text": [
      "Epoch 1/30\n",
      "439/439 - 7s - loss: 0.0647 - accuracy: 0.9826 - val_loss: 0.0223 - val_accuracy: 0.9940 - lr: 0.0010 - 7s/epoch - 16ms/step\n",
      "Epoch 2/30\n",
      "439/439 - 7s - loss: 0.0640 - accuracy: 0.9830 - val_loss: 0.0375 - val_accuracy: 0.9938 - lr: 0.0010 - 7s/epoch - 16ms/step\n",
      "Epoch 3/30\n",
      "439/439 - 7s - loss: 0.0697 - accuracy: 0.9830 - val_loss: 0.0277 - val_accuracy: 0.9926 - lr: 0.0010 - 7s/epoch - 17ms/step\n",
      "Epoch 4/30\n",
      "\n",
      "Epoch 00004: ReduceLROnPlateau reducing learning rate to 0.0005000000237487257.\n",
      "439/439 - 7s - loss: 0.0706 - accuracy: 0.9821 - val_loss: 0.0219 - val_accuracy: 0.9938 - lr: 0.0010 - 7s/epoch - 17ms/step\n",
      "Epoch 5/30\n",
      "439/439 - 7s - loss: 0.0492 - accuracy: 0.9872 - val_loss: 0.0205 - val_accuracy: 0.9943 - lr: 5.0000e-04 - 7s/epoch - 17ms/step\n",
      "Epoch 6/30\n",
      "439/439 - 7s - loss: 0.0503 - accuracy: 0.9866 - val_loss: 0.0261 - val_accuracy: 0.9945 - lr: 5.0000e-04 - 7s/epoch - 16ms/step\n",
      "Epoch 7/30\n",
      "439/439 - 7s - loss: 0.0491 - accuracy: 0.9868 - val_loss: 0.0372 - val_accuracy: 0.9919 - lr: 5.0000e-04 - 7s/epoch - 17ms/step\n",
      "Epoch 8/30\n",
      "439/439 - 7s - loss: 0.0505 - accuracy: 0.9873 - val_loss: 0.0264 - val_accuracy: 0.9940 - lr: 5.0000e-04 - 7s/epoch - 16ms/step\n",
      "Epoch 9/30\n",
      "439/439 - 7s - loss: 0.0521 - accuracy: 0.9866 - val_loss: 0.0249 - val_accuracy: 0.9950 - lr: 5.0000e-04 - 7s/epoch - 17ms/step\n",
      "Epoch 10/30\n",
      "439/439 - 7s - loss: 0.0498 - accuracy: 0.9867 - val_loss: 0.0225 - val_accuracy: 0.9933 - lr: 5.0000e-04 - 7s/epoch - 16ms/step\n",
      "Epoch 11/30\n",
      "439/439 - 7s - loss: 0.0497 - accuracy: 0.9867 - val_loss: 0.0240 - val_accuracy: 0.9936 - lr: 5.0000e-04 - 7s/epoch - 17ms/step\n",
      "Epoch 12/30\n",
      "\n",
      "Epoch 00012: ReduceLROnPlateau reducing learning rate to 0.0002500000118743628.\n",
      "439/439 - 7s - loss: 0.0530 - accuracy: 0.9863 - val_loss: 0.0291 - val_accuracy: 0.9914 - lr: 5.0000e-04 - 7s/epoch - 16ms/step\n",
      "Epoch 13/30\n",
      "439/439 - 7s - loss: 0.0413 - accuracy: 0.9885 - val_loss: 0.0219 - val_accuracy: 0.9957 - lr: 2.5000e-04 - 7s/epoch - 16ms/step\n",
      "Epoch 14/30\n",
      "439/439 - 7s - loss: 0.0421 - accuracy: 0.9888 - val_loss: 0.0213 - val_accuracy: 0.9962 - lr: 2.5000e-04 - 7s/epoch - 17ms/step\n",
      "Epoch 15/30\n",
      "439/439 - 7s - loss: 0.0443 - accuracy: 0.9885 - val_loss: 0.0212 - val_accuracy: 0.9943 - lr: 2.5000e-04 - 7s/epoch - 16ms/step\n",
      "Epoch 16/30\n",
      "439/439 - 7s - loss: 0.0421 - accuracy: 0.9886 - val_loss: 0.0258 - val_accuracy: 0.9945 - lr: 2.5000e-04 - 7s/epoch - 16ms/step\n",
      "Epoch 17/30\n",
      "\n",
      "Epoch 00017: ReduceLROnPlateau reducing learning rate to 0.0001250000059371814.\n",
      "439/439 - 7s - loss: 0.0407 - accuracy: 0.9892 - val_loss: 0.0302 - val_accuracy: 0.9931 - lr: 2.5000e-04 - 7s/epoch - 16ms/step\n",
      "Epoch 18/30\n",
      "439/439 - 7s - loss: 0.0374 - accuracy: 0.9900 - val_loss: 0.0244 - val_accuracy: 0.9955 - lr: 1.2500e-04 - 7s/epoch - 17ms/step\n",
      "Epoch 19/30\n",
      "439/439 - 7s - loss: 0.0370 - accuracy: 0.9899 - val_loss: 0.0234 - val_accuracy: 0.9955 - lr: 1.2500e-04 - 7s/epoch - 17ms/step\n",
      "Epoch 20/30\n",
      "\n",
      "Epoch 00020: ReduceLROnPlateau reducing learning rate to 6.25000029685907e-05.\n",
      "439/439 - 7s - loss: 0.0350 - accuracy: 0.9903 - val_loss: 0.0262 - val_accuracy: 0.9957 - lr: 1.2500e-04 - 7s/epoch - 16ms/step\n",
      "Epoch 21/30\n",
      "439/439 - 7s - loss: 0.0373 - accuracy: 0.9896 - val_loss: 0.0253 - val_accuracy: 0.9952 - lr: 6.2500e-05 - 7s/epoch - 16ms/step\n",
      "Epoch 22/30\n",
      "439/439 - 7s - loss: 0.0346 - accuracy: 0.9903 - val_loss: 0.0249 - val_accuracy: 0.9957 - lr: 6.2500e-05 - 7s/epoch - 17ms/step\n",
      "Epoch 23/30\n",
      "\n",
      "Epoch 00023: ReduceLROnPlateau reducing learning rate to 3.125000148429535e-05.\n",
      "439/439 - 7s - loss: 0.0349 - accuracy: 0.9901 - val_loss: 0.0239 - val_accuracy: 0.9960 - lr: 6.2500e-05 - 7s/epoch - 17ms/step\n",
      "Epoch 24/30\n",
      "439/439 - 7s - loss: 0.0315 - accuracy: 0.9909 - val_loss: 0.0232 - val_accuracy: 0.9955 - lr: 3.1250e-05 - 7s/epoch - 17ms/step\n",
      "Epoch 25/30\n",
      "439/439 - 7s - loss: 0.0349 - accuracy: 0.9907 - val_loss: 0.0230 - val_accuracy: 0.9962 - lr: 3.1250e-05 - 7s/epoch - 16ms/step\n",
      "Epoch 26/30\n",
      "\n",
      "Epoch 00026: ReduceLROnPlateau reducing learning rate to 1.5625000742147677e-05.\n",
      "439/439 - 7s - loss: 0.0339 - accuracy: 0.9906 - val_loss: 0.0234 - val_accuracy: 0.9960 - lr: 3.1250e-05 - 7s/epoch - 16ms/step\n",
      "Epoch 27/30\n",
      "439/439 - 7s - loss: 0.0309 - accuracy: 0.9909 - val_loss: 0.0252 - val_accuracy: 0.9955 - lr: 1.5625e-05 - 7s/epoch - 17ms/step\n",
      "Epoch 28/30\n",
      "439/439 - 7s - loss: 0.0334 - accuracy: 0.9902 - val_loss: 0.0253 - val_accuracy: 0.9957 - lr: 1.5625e-05 - 7s/epoch - 17ms/step\n",
      "Epoch 29/30\n",
      "\n",
      "Epoch 00029: ReduceLROnPlateau reducing learning rate to 1e-05.\n",
      "439/439 - 7s - loss: 0.0325 - accuracy: 0.9905 - val_loss: 0.0255 - val_accuracy: 0.9955 - lr: 1.5625e-05 - 7s/epoch - 17ms/step\n",
      "Epoch 30/30\n",
      "439/439 - 7s - loss: 0.0331 - accuracy: 0.9910 - val_loss: 0.0241 - val_accuracy: 0.9952 - lr: 1.0000e-05 - 7s/epoch - 16ms/step\n"
     ]
    }
   ],
   "source": [
    "# Fit the model\n",
    "history = model.fit(datagen.flow(X_train,Y_train, batch_size=batch_size),\n",
    "                              epochs = epochs, validation_data = (X_val,Y_val),\n",
    "                              verbose = 2, steps_per_epoch=X_train.shape[0] // batch_size\n",
    "                              , callbacks=[learning_rate_reduction])"
   ]
  },
  {
   "cell_type": "markdown",
   "id": "aea2f32d",
   "metadata": {},
   "source": [
    "## Evaluate the model"
   ]
  },
  {
   "cell_type": "markdown",
   "id": "1ddd5898",
   "metadata": {},
   "source": [
    "### Traing and validation curves"
   ]
  },
  {
   "cell_type": "code",
   "execution_count": 37,
   "id": "99741d94",
   "metadata": {},
   "outputs": [
    {
     "data": {
      "image/png": "[encoded data removed]",
      "text/plain": [
       "<Figure size 432x288 with 2 Axes>"
      ]
     },
     "metadata": {},
     "output_type": "display_data"
    }
   ],
   "source": [
    "# Plot the loss and accuracy curves for training and validation\n",
    "fig, ax = plt.subplots(2,1)\n",
    "ax[0].plot(history.history['loss'], color='b', label=\"Training loss\")\n",
    "ax[0].plot(history.history['val_loss'], color='r', label=\"Validation loss\",axes =ax[0])\n",
    "legend = ax[0].legend(loc='best', shadow=True)\n",
    "\n",
    "ax[1].plot(history.history['accuracy'], color='b', label=\"Training accuracy\")\n",
    "ax[1].plot(history.history['val_accuracy'], color='r',label=\"Validation accuracy\")\n",
    "legend = ax[1].legend(loc='best', shadow=True)"
   ]
  },
  {
   "cell_type": "markdown",
   "id": "974b38fb",
   "metadata": {},
   "source": [
    "### Confusion matrix"
   ]
  },
  {
   "cell_type": "code",
   "execution_count": 40,
   "id": "05ac5aa5",
   "metadata": {},
   "outputs": [
    {
     "data": {
      "image/png": "[encoded data removed]",
      "text/plain": [
       "<Figure size 432x288 with 2 Axes>"
      ]
     },
     "metadata": {},
     "output_type": "display_data"
    }
   ],
   "source": [
    "# Look at confusion matrix\n",
    "\n",
    "def plot_confusion_matrix(cm, classes,\n",
    "                          normalize=False,\n",
    "                          title='Confusion matrix',\n",
    "                          cmap=plt.cm.Blues):\n",
    "    \"\"\"\n",
    "    This function prints and plots the confusion matrix.\n",
    "    Normalization can be applied by setting `normalize=True`.\n",
    "    \"\"\"\n",
    "    plt.imshow(cm, interpolation='nearest', cmap=cmap)\n",
    "    plt.title(title)\n",
    "    plt.colorbar()\n",
    "    tick_marks = np.arange(len(classes))\n",
    "    plt.xticks(tick_marks, classes, rotation=0)\n",
    "    plt.yticks(tick_marks, classes)\n",
    "\n",
    "    if normalize:\n",
    "        cm = cm.astype('float') / cm.sum(axis=1)[:, np.newaxis]\n",
    "    \n",
    "    thresh = cm.max() / 2.\n",
    "    for i, j in itertools.product(range(cm.shape[0]), range(cm.shape[1])):\n",
    "        plt.text(j, i, cm[i, j],\n",
    "                 horizontalalignment=\"center\",\n",
    "                 color=\"white\" if cm[i, j] > thresh else \"black\")\n",
    "\n",
    "    plt.tight_layout()\n",
    "    plt.ylabel('True label')\n",
    "    plt.xlabel('Predicted label')\n",
    "\n",
    "# Predict the values from the validation dataset\n",
    "Y_pred = model.predict(X_val)\n",
    "# Convert predictions classes to one hot vectors \n",
    "Y_pred_classes = np.argmax(Y_pred,axis = 1) \n",
    "# Convert validation observations to one hot vectors\n",
    "Y_true = np.argmax(Y_val,axis = 1) \n",
    "# compute the confusion matrix\n",
    "confusion_mtx = confusion_matrix(Y_true, Y_pred_classes) \n",
    "# plot the confusion matrix\n",
    "plot_confusion_matrix(confusion_mtx, classes = range(10)) "
   ]
  },
  {
   "cell_type": "markdown",
   "id": "575aa806",
   "metadata": {},
   "source": [
    "* 9를 4로 예측한값이 3개 있습니다."
   ]
  },
  {
   "cell_type": "code",
   "execution_count": 42,
   "id": "557bd89b",
   "metadata": {},
   "outputs": [
    {
     "data": {
      "image/png": "[encoded data removed]",
      "text/plain": [
       "<Figure size 432x288 with 6 Axes>"
      ]
     },
     "metadata": {},
     "output_type": "display_data"
    }
   ],
   "source": [
    "# Display some error results\n",
    "\n",
    "# Errors are difference between predicted labels and true labels\n",
    "errors = (Y_pred_classes - Y_true !=0)\n",
    "\n",
    "Y_pred_classes_errors = Y_pred_classes[errors]\n",
    "Y_pred_errors = Y_pred[errors]\n",
    "Y_true_errors = Y_true[errors]\n",
    "X_val_errors = X_val[errors]\n",
    "\n",
    "def display_errors(errors_index, img_errors, pred_errors, obs_errors):\n",
    "    \"\"\"\n",
    "    This function shows 6 images with their predicted and real labels\n",
    "    \"\"\"\n",
    "    n=0\n",
    "    nrows=2\n",
    "    ncols = 3\n",
    "    fig, ax = plt.subplots(nrows, ncols, sharex=True, sharey=True)\n",
    "    for row in range(nrows):\n",
    "        for col in range(ncols):\n",
    "            error = errors_index[n]\n",
    "            ax[row, col].imshow((img_errors[error]).reshape((28,28)))\n",
    "            ax[row, col].set_title(\"Predicted label: {}\\nTrue label:{}\".format(pred_errors[error], obs_errors[error]))\n",
    "            n+=1\n",
    "\n",
    "# Probabilities of the wrong predicted numbers\n",
    "Y_pred_errors_prob = np.max(Y_pred_errors, axis=1)\n",
    "\n",
    "# Predicted probabilites of the true values in the error set\n",
    "true_prob_errors = np.diagonal(np.take(Y_pred_errors, Y_true_errors, axis=1))\n",
    "\n",
    "# Difference between the probability of the predicted label and the true label\n",
    "delta_pred_true_errors = Y_pred_errors_prob - true_prob_errors\n",
    "\n",
    "# Sorted list of the delta prob errors\n",
    "sorted_delta_errors = np.argsort(delta_pred_true_errors)\n",
    "\n",
    "# Top 6 errors\n",
    "most_important_errors = sorted_delta_errors[-6:]\n",
    "\n",
    "# Show the top 6 errors\n",
    "display_errors(most_important_errors, X_val_errors, \n",
    "               Y_pred_classes_errors, Y_true_errors)"
   ]
  },
  {
   "cell_type": "code",
   "execution_count": 43,
   "id": "c5938b21",
   "metadata": {},
   "outputs": [],
   "source": [
    "# # predict results\n",
    "# results = model.predict(test)\n",
    "\n",
    "# # select the index with the maximum probability\n",
    "# results = np.argmax(results, axis=1)\n",
    "\n",
    "# results=pd.Series(results, name=\"label\")"
   ]
  },
  {
   "cell_type": "code",
   "execution_count": 44,
   "id": "3aad8c2c",
   "metadata": {},
   "outputs": [],
   "source": [
    "# submission = pd.concat([pd.Series(range(1,28001),name = \"ImageId\"),results],axis = 1)\n",
    "\n",
    "# submission.to_csv(\"cnn_mnist_datagen.csv\",index=False)"
   ]
  },
  {
   "cell_type": "markdown",
   "id": "a04206da",
   "metadata": {},
   "source": [
    "439/439 - 7s - loss: 0.0421 - accuracy: 0.9888 - val_loss: 0.0213 - val_accuracy: 0.9962 - lr: 2.5000e-04 - 7s/epoch - 17ms/step"
   ]
  },
  {
   "cell_type": "code",
   "execution_count": null,
   "id": "46fd9ee5",
   "metadata": {},
   "outputs": [],
   "source": []
  }
 ],
 "metadata": {
  "kernelspec": {
   "display_name": "Python 3.8 (NGC 22.03 / TensorFlow 2.8) on Backend.AI",
   "language": "python",
   "name": "python3"
  },
  "language_info": {
   "codemirror_mode": {
    "name": "ipython",
    "version": 3
   },
   "file_extension": ".py",
   "mimetype": "text/x-python",
   "name": "python",
   "nbconvert_exporter": "python",
   "pygments_lexer": "ipython3",
   "version": "3.8.10"
  },
  "toc": {
   "base_numbering": 1,
   "nav_menu": {},
   "number_sections": true,
   "sideBar": true,
   "skip_h1_title": false,
   "title_cell": "Table of Contents",
   "title_sidebar": "Contents",
   "toc_cell": false,
   "toc_position": {},
   "toc_section_display": true,
   "toc_window_display": false
  }
 },
 "nbformat": 4,
 "nbformat_minor": 5
}
