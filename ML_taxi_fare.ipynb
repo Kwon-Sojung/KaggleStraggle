{
 "cells": [
  {
   "cell_type": "markdown",
   "id": "f0dad41a",
   "metadata": {},
   "source": [
    "https://www.kaggle.com/competitions/new-york-city-taxi-fare-prediction/data"
   ]
  },
  {
   "cell_type": "markdown",
   "id": "6180eb17",
   "metadata": {},
   "source": [
    "* 필사 출처\n",
    "https://www.kaggle.com/code/madhurisivalenka/cleansing-eda-modelling-lgbm-xgboost-starters"
   ]
  },
  {
   "cell_type": "markdown",
   "id": "d098fe9a",
   "metadata": {},
   "source": [
    "## Data"
   ]
  },
  {
   "cell_type": "code",
   "execution_count": 1,
   "id": "223880da",
   "metadata": {},
   "outputs": [],
   "source": [
    "# 라이브러리 불러오기\n",
    "import pandas as pd\n",
    "import numpy as np\n",
    "import sklearn\n",
    "import seaborn as sns\n",
    "import matplotlib.pyplot as plt \n",
    "import os"
   ]
  },
  {
   "cell_type": "code",
   "execution_count": 2,
   "id": "c422e74b",
   "metadata": {},
   "outputs": [
    {
     "name": "stdout",
     "output_type": "stream",
     "text": [
      "(1000000, 8)\n"
     ]
    },
    {
     "data": {
      "text/html": [
       "<div>\n",
       "<style scoped>\n",
       "    .dataframe tbody tr th:only-of-type {\n",
       "        vertical-align: middle;\n",
       "    }\n",
       "\n",
       "    .dataframe tbody tr th {\n",
       "        vertical-align: top;\n",
       "    }\n",
       "\n",
       "    .dataframe thead th {\n",
       "        text-align: right;\n",
       "    }\n",
       "</style>\n",
       "<table border=\"1\" class=\"dataframe\">\n",
       "  <thead>\n",
       "    <tr style=\"text-align: right;\">\n",
       "      <th></th>\n",
       "      <th>key</th>\n",
       "      <th>fare_amount</th>\n",
       "      <th>pickup_datetime</th>\n",
       "      <th>pickup_longitude</th>\n",
       "      <th>pickup_latitude</th>\n",
       "      <th>dropoff_longitude</th>\n",
       "      <th>dropoff_latitude</th>\n",
       "      <th>passenger_count</th>\n",
       "    </tr>\n",
       "  </thead>\n",
       "  <tbody>\n",
       "    <tr>\n",
       "      <th>0</th>\n",
       "      <td>2009-06-15 17:26:21.0000001</td>\n",
       "      <td>4.5</td>\n",
       "      <td>2009-06-15 17:26:21 UTC</td>\n",
       "      <td>-73.844311</td>\n",
       "      <td>40.721319</td>\n",
       "      <td>-73.841610</td>\n",
       "      <td>40.712278</td>\n",
       "      <td>1</td>\n",
       "    </tr>\n",
       "    <tr>\n",
       "      <th>1</th>\n",
       "      <td>2010-01-05 16:52:16.0000002</td>\n",
       "      <td>16.9</td>\n",
       "      <td>2010-01-05 16:52:16 UTC</td>\n",
       "      <td>-74.016048</td>\n",
       "      <td>40.711303</td>\n",
       "      <td>-73.979268</td>\n",
       "      <td>40.782004</td>\n",
       "      <td>1</td>\n",
       "    </tr>\n",
       "  </tbody>\n",
       "</table>\n",
       "</div>"
      ],
      "text/plain": [
       "                           key  fare_amount          pickup_datetime  \\\n",
       "0  2009-06-15 17:26:21.0000001          4.5  2009-06-15 17:26:21 UTC   \n",
       "1  2010-01-05 16:52:16.0000002         16.9  2010-01-05 16:52:16 UTC   \n",
       "\n",
       "   pickup_longitude  pickup_latitude  dropoff_longitude  dropoff_latitude  \\\n",
       "0        -73.844311        40.721319         -73.841610         40.712278   \n",
       "1        -74.016048        40.711303         -73.979268         40.782004   \n",
       "\n",
       "   passenger_count  \n",
       "0                1  \n",
       "1                1  "
      ]
     },
     "execution_count": 2,
     "metadata": {},
     "output_type": "execute_result"
    }
   ],
   "source": [
    "# train 100만개만\n",
    "train = pd.read_csv(\"data/taxi/train.csv\", nrows=1000000)\n",
    "print(train.shape)\n",
    "train.head(2)"
   ]
  },
  {
   "cell_type": "code",
   "execution_count": 3,
   "id": "68516193",
   "metadata": {},
   "outputs": [
    {
     "name": "stdout",
     "output_type": "stream",
     "text": [
      "(9914, 7)\n"
     ]
    },
    {
     "data": {
      "text/html": [
       "<div>\n",
       "<style scoped>\n",
       "    .dataframe tbody tr th:only-of-type {\n",
       "        vertical-align: middle;\n",
       "    }\n",
       "\n",
       "    .dataframe tbody tr th {\n",
       "        vertical-align: top;\n",
       "    }\n",
       "\n",
       "    .dataframe thead th {\n",
       "        text-align: right;\n",
       "    }\n",
       "</style>\n",
       "<table border=\"1\" class=\"dataframe\">\n",
       "  <thead>\n",
       "    <tr style=\"text-align: right;\">\n",
       "      <th></th>\n",
       "      <th>key</th>\n",
       "      <th>pickup_datetime</th>\n",
       "      <th>pickup_longitude</th>\n",
       "      <th>pickup_latitude</th>\n",
       "      <th>dropoff_longitude</th>\n",
       "      <th>dropoff_latitude</th>\n",
       "      <th>passenger_count</th>\n",
       "    </tr>\n",
       "  </thead>\n",
       "  <tbody>\n",
       "    <tr>\n",
       "      <th>0</th>\n",
       "      <td>2015-01-27 13:08:24.0000002</td>\n",
       "      <td>2015-01-27 13:08:24 UTC</td>\n",
       "      <td>-73.973320</td>\n",
       "      <td>40.763805</td>\n",
       "      <td>-73.981430</td>\n",
       "      <td>40.743835</td>\n",
       "      <td>1</td>\n",
       "    </tr>\n",
       "    <tr>\n",
       "      <th>1</th>\n",
       "      <td>2015-01-27 13:08:24.0000003</td>\n",
       "      <td>2015-01-27 13:08:24 UTC</td>\n",
       "      <td>-73.986862</td>\n",
       "      <td>40.719383</td>\n",
       "      <td>-73.998886</td>\n",
       "      <td>40.739201</td>\n",
       "      <td>1</td>\n",
       "    </tr>\n",
       "  </tbody>\n",
       "</table>\n",
       "</div>"
      ],
      "text/plain": [
       "                           key          pickup_datetime  pickup_longitude  \\\n",
       "0  2015-01-27 13:08:24.0000002  2015-01-27 13:08:24 UTC        -73.973320   \n",
       "1  2015-01-27 13:08:24.0000003  2015-01-27 13:08:24 UTC        -73.986862   \n",
       "\n",
       "   pickup_latitude  dropoff_longitude  dropoff_latitude  passenger_count  \n",
       "0        40.763805         -73.981430         40.743835                1  \n",
       "1        40.719383         -73.998886         40.739201                1  "
      ]
     },
     "execution_count": 3,
     "metadata": {},
     "output_type": "execute_result"
    }
   ],
   "source": [
    "test = pd.read_csv(\"data/taxi/test.csv\")\n",
    "print(test.shape)\n",
    "test.head(2)"
   ]
  },
  {
   "cell_type": "code",
   "execution_count": 4,
   "id": "91a902c8",
   "metadata": {},
   "outputs": [
    {
     "name": "stdout",
     "output_type": "stream",
     "text": [
      "<class 'pandas.core.frame.DataFrame'>\n",
      "RangeIndex: 1000000 entries, 0 to 999999\n",
      "Data columns (total 8 columns):\n",
      " #   Column             Non-Null Count    Dtype  \n",
      "---  ------             --------------    -----  \n",
      " 0   key                1000000 non-null  object \n",
      " 1   fare_amount        1000000 non-null  float64\n",
      " 2   pickup_datetime    1000000 non-null  object \n",
      " 3   pickup_longitude   1000000 non-null  float64\n",
      " 4   pickup_latitude    1000000 non-null  float64\n",
      " 5   dropoff_longitude  999990 non-null   float64\n",
      " 6   dropoff_latitude   999990 non-null   float64\n",
      " 7   passenger_count    1000000 non-null  int64  \n",
      "dtypes: float64(5), int64(1), object(2)\n",
      "memory usage: 61.0+ MB\n"
     ]
    }
   ],
   "source": [
    "# info\n",
    "train.info()"
   ]
  },
  {
   "cell_type": "code",
   "execution_count": 5,
   "id": "a90e794b",
   "metadata": {},
   "outputs": [
    {
     "data": {
      "text/html": [
       "<div>\n",
       "<style scoped>\n",
       "    .dataframe tbody tr th:only-of-type {\n",
       "        vertical-align: middle;\n",
       "    }\n",
       "\n",
       "    .dataframe tbody tr th {\n",
       "        vertical-align: top;\n",
       "    }\n",
       "\n",
       "    .dataframe thead th {\n",
       "        text-align: right;\n",
       "    }\n",
       "</style>\n",
       "<table border=\"1\" class=\"dataframe\">\n",
       "  <thead>\n",
       "    <tr style=\"text-align: right;\">\n",
       "      <th></th>\n",
       "      <th>fare_amount</th>\n",
       "      <th>pickup_longitude</th>\n",
       "      <th>pickup_latitude</th>\n",
       "      <th>dropoff_longitude</th>\n",
       "      <th>dropoff_latitude</th>\n",
       "      <th>passenger_count</th>\n",
       "    </tr>\n",
       "  </thead>\n",
       "  <tbody>\n",
       "    <tr>\n",
       "      <th>count</th>\n",
       "      <td>1000000.000000</td>\n",
       "      <td>1000000.000000</td>\n",
       "      <td>1000000.000000</td>\n",
       "      <td>999990.000000</td>\n",
       "      <td>999990.000000</td>\n",
       "      <td>1000000.000000</td>\n",
       "    </tr>\n",
       "    <tr>\n",
       "      <th>mean</th>\n",
       "      <td>11.348079</td>\n",
       "      <td>-72.526640</td>\n",
       "      <td>39.929008</td>\n",
       "      <td>-72.527860</td>\n",
       "      <td>39.919954</td>\n",
       "      <td>1.684924</td>\n",
       "    </tr>\n",
       "    <tr>\n",
       "      <th>std</th>\n",
       "      <td>9.822090</td>\n",
       "      <td>12.057937</td>\n",
       "      <td>7.626154</td>\n",
       "      <td>11.324494</td>\n",
       "      <td>8.201418</td>\n",
       "      <td>1.323911</td>\n",
       "    </tr>\n",
       "    <tr>\n",
       "      <th>min</th>\n",
       "      <td>-44.900000</td>\n",
       "      <td>-3377.680935</td>\n",
       "      <td>-3116.285383</td>\n",
       "      <td>-3383.296608</td>\n",
       "      <td>-3114.338567</td>\n",
       "      <td>0.000000</td>\n",
       "    </tr>\n",
       "    <tr>\n",
       "      <th>25%</th>\n",
       "      <td>6.000000</td>\n",
       "      <td>-73.992060</td>\n",
       "      <td>40.734965</td>\n",
       "      <td>-73.991385</td>\n",
       "      <td>40.734046</td>\n",
       "      <td>1.000000</td>\n",
       "    </tr>\n",
       "    <tr>\n",
       "      <th>50%</th>\n",
       "      <td>8.500000</td>\n",
       "      <td>-73.981792</td>\n",
       "      <td>40.752695</td>\n",
       "      <td>-73.980135</td>\n",
       "      <td>40.753166</td>\n",
       "      <td>1.000000</td>\n",
       "    </tr>\n",
       "    <tr>\n",
       "      <th>75%</th>\n",
       "      <td>12.500000</td>\n",
       "      <td>-73.967094</td>\n",
       "      <td>40.767154</td>\n",
       "      <td>-73.963654</td>\n",
       "      <td>40.768129</td>\n",
       "      <td>2.000000</td>\n",
       "    </tr>\n",
       "    <tr>\n",
       "      <th>max</th>\n",
       "      <td>500.000000</td>\n",
       "      <td>2522.271325</td>\n",
       "      <td>2621.628430</td>\n",
       "      <td>45.581619</td>\n",
       "      <td>1651.553433</td>\n",
       "      <td>208.000000</td>\n",
       "    </tr>\n",
       "  </tbody>\n",
       "</table>\n",
       "</div>"
      ],
      "text/plain": [
       "          fare_amount  pickup_longitude  pickup_latitude  dropoff_longitude  \\\n",
       "count  1000000.000000    1000000.000000   1000000.000000      999990.000000   \n",
       "mean        11.348079        -72.526640        39.929008         -72.527860   \n",
       "std          9.822090         12.057937         7.626154          11.324494   \n",
       "min        -44.900000      -3377.680935     -3116.285383       -3383.296608   \n",
       "25%          6.000000        -73.992060        40.734965         -73.991385   \n",
       "50%          8.500000        -73.981792        40.752695         -73.980135   \n",
       "75%         12.500000        -73.967094        40.767154         -73.963654   \n",
       "max        500.000000       2522.271325      2621.628430          45.581619   \n",
       "\n",
       "       dropoff_latitude  passenger_count  \n",
       "count     999990.000000   1000000.000000  \n",
       "mean          39.919954         1.684924  \n",
       "std            8.201418         1.323911  \n",
       "min        -3114.338567         0.000000  \n",
       "25%           40.734046         1.000000  \n",
       "50%           40.753166         1.000000  \n",
       "75%           40.768129         2.000000  \n",
       "max         1651.553433       208.000000  "
      ]
     },
     "execution_count": 5,
     "metadata": {},
     "output_type": "execute_result"
    }
   ],
   "source": [
    "# 수치변수 기술통계\n",
    "train.describe()"
   ]
  },
  {
   "cell_type": "code",
   "execution_count": 6,
   "id": "c2773522",
   "metadata": {},
   "outputs": [
    {
     "data": {
      "text/plain": [
       "dropoff_longitude    10\n",
       "dropoff_latitude     10\n",
       "key                   0\n",
       "fare_amount           0\n",
       "pickup_datetime       0\n",
       "pickup_longitude      0\n",
       "pickup_latitude       0\n",
       "passenger_count       0\n",
       "dtype: int64"
      ]
     },
     "execution_count": 6,
     "metadata": {},
     "output_type": "execute_result"
    }
   ],
   "source": [
    "# train 결측치 확인\n",
    "train.isnull().sum().sort_values(ascending=False)"
   ]
  },
  {
   "cell_type": "code",
   "execution_count": 7,
   "id": "2d293e07",
   "metadata": {},
   "outputs": [
    {
     "data": {
      "text/plain": [
       "key                  0\n",
       "pickup_datetime      0\n",
       "pickup_longitude     0\n",
       "pickup_latitude      0\n",
       "dropoff_longitude    0\n",
       "dropoff_latitude     0\n",
       "passenger_count      0\n",
       "dtype: int64"
      ]
     },
     "execution_count": 7,
     "metadata": {},
     "output_type": "execute_result"
    }
   ],
   "source": [
    "# test 결측치 확인\n",
    "test.isnull().sum()"
   ]
  },
  {
   "cell_type": "code",
   "execution_count": 8,
   "id": "4c3cc3e7",
   "metadata": {},
   "outputs": [],
   "source": [
    "# drop the missing values\n",
    "train = train.drop(train[train.isnull().any(1)].index, axis=0)"
   ]
  },
  {
   "cell_type": "code",
   "execution_count": 9,
   "id": "cfdd7836",
   "metadata": {},
   "outputs": [
    {
     "data": {
      "text/plain": [
       "(999990, 8)"
      ]
     },
     "execution_count": 9,
     "metadata": {},
     "output_type": "execute_result"
    }
   ],
   "source": [
    "train.shape"
   ]
  },
  {
   "cell_type": "code",
   "execution_count": 10,
   "id": "52b6f50c",
   "metadata": {},
   "outputs": [
    {
     "data": {
      "text/plain": [
       "(9914, 7)"
      ]
     },
     "execution_count": 10,
     "metadata": {},
     "output_type": "execute_result"
    }
   ],
   "source": [
    "test.shape"
   ]
  },
  {
   "cell_type": "markdown",
   "id": "4f01ed9f",
   "metadata": {},
   "source": [
    "### fare_amount"
   ]
  },
  {
   "cell_type": "code",
   "execution_count": 11,
   "id": "9da828b3",
   "metadata": {},
   "outputs": [
    {
     "data": {
      "text/plain": [
       "count    999990.000000\n",
       "mean         11.347953\n",
       "std           9.821790\n",
       "min         -44.900000\n",
       "25%           6.000000\n",
       "50%           8.500000\n",
       "75%          12.500000\n",
       "max         500.000000\n",
       "Name: fare_amount, dtype: float64"
      ]
     },
     "execution_count": 11,
     "metadata": {},
     "output_type": "execute_result"
    }
   ],
   "source": [
    "# check the target column\n",
    "train[\"fare_amount\"].describe()"
   ]
  },
  {
   "cell_type": "code",
   "execution_count": 12,
   "id": "6558c11a",
   "metadata": {},
   "outputs": [
    {
     "data": {
      "text/plain": [
       "Counter({False: 999952, True: 38})"
      ]
     },
     "execution_count": 12,
     "metadata": {},
     "output_type": "execute_result"
    }
   ],
   "source": [
    "# \"fare_amount\" 중 음수 count\n",
    "from collections import Counter\n",
    "Counter(train[\"fare_amount\"]<0)"
   ]
  },
  {
   "cell_type": "code",
   "execution_count": 13,
   "id": "40b32325",
   "metadata": {},
   "outputs": [
    {
     "data": {
      "text/plain": [
       "(999952, 8)"
      ]
     },
     "execution_count": 13,
     "metadata": {},
     "output_type": "execute_result"
    }
   ],
   "source": [
    "# \"fare_amount\" 중 음수 drop\n",
    "train = train.drop(train[train[\"fare_amount\"]<0].index, axis=0)\n",
    "train.shape"
   ]
  },
  {
   "cell_type": "code",
   "execution_count": 14,
   "id": "ae641238",
   "metadata": {},
   "outputs": [
    {
     "data": {
      "text/plain": [
       "count    999952.000000\n",
       "mean         11.348616\n",
       "std           9.821249\n",
       "min           0.000000\n",
       "25%           6.000000\n",
       "50%           8.500000\n",
       "75%          12.500000\n",
       "max         500.000000\n",
       "Name: fare_amount, dtype: float64"
      ]
     },
     "execution_count": 14,
     "metadata": {},
     "output_type": "execute_result"
    }
   ],
   "source": [
    "# no more negative values in th fare field\n",
    "train[\"fare_amount\"].describe()"
   ]
  },
  {
   "cell_type": "code",
   "execution_count": 15,
   "id": "ff9f5cfc",
   "metadata": {},
   "outputs": [
    {
     "data": {
      "text/plain": [
       "101885    500.0\n",
       "Name: fare_amount, dtype: float64"
      ]
     },
     "execution_count": 15,
     "metadata": {},
     "output_type": "execute_result"
    }
   ],
   "source": [
    "# 가장 높은 요금은 500달러\n",
    "train[\"fare_amount\"].sort_values(ascending=False).head(1)"
   ]
  },
  {
   "cell_type": "markdown",
   "id": "3ac70481",
   "metadata": {},
   "source": [
    "### passenger"
   ]
  },
  {
   "cell_type": "code",
   "execution_count": 16,
   "id": "74e8933e",
   "metadata": {},
   "outputs": [
    {
     "data": {
      "text/plain": [
       "count    999952.000000\n",
       "mean          1.684942\n",
       "std           1.323908\n",
       "min           0.000000\n",
       "25%           1.000000\n",
       "50%           1.000000\n",
       "75%           2.000000\n",
       "max         208.000000\n",
       "Name: passenger_count, dtype: float64"
      ]
     },
     "execution_count": 16,
     "metadata": {},
     "output_type": "execute_result"
    }
   ],
   "source": [
    "# \"passenger\" 기술통계값\n",
    "train[\"passenger_count\"].describe()"
   ]
  },
  {
   "cell_type": "code",
   "execution_count": 17,
   "id": "57e9a771",
   "metadata": {},
   "outputs": [
    {
     "data": {
      "text/plain": [
       "array([  1,   2,   3,   6,   5,   4,   0, 208])"
      ]
     },
     "execution_count": 17,
     "metadata": {},
     "output_type": "execute_result"
    }
   ],
   "source": [
    "# \"passenger\" unique 값 확인\n",
    "train[\"passenger_count\"].unique()"
   ]
  },
  {
   "cell_type": "code",
   "execution_count": 18,
   "id": "0fe63df4",
   "metadata": {},
   "outputs": [
    {
     "data": {
      "text/html": [
       "<div>\n",
       "<style scoped>\n",
       "    .dataframe tbody tr th:only-of-type {\n",
       "        vertical-align: middle;\n",
       "    }\n",
       "\n",
       "    .dataframe tbody tr th {\n",
       "        vertical-align: top;\n",
       "    }\n",
       "\n",
       "    .dataframe thead th {\n",
       "        text-align: right;\n",
       "    }\n",
       "</style>\n",
       "<table border=\"1\" class=\"dataframe\">\n",
       "  <thead>\n",
       "    <tr style=\"text-align: right;\">\n",
       "      <th></th>\n",
       "      <th>key</th>\n",
       "      <th>fare_amount</th>\n",
       "      <th>pickup_datetime</th>\n",
       "      <th>pickup_longitude</th>\n",
       "      <th>pickup_latitude</th>\n",
       "      <th>dropoff_longitude</th>\n",
       "      <th>dropoff_latitude</th>\n",
       "      <th>passenger_count</th>\n",
       "    </tr>\n",
       "  </thead>\n",
       "  <tbody>\n",
       "    <tr>\n",
       "      <th>929022</th>\n",
       "      <td>2009-07-30 11:54:00.000000193</td>\n",
       "      <td>3.3</td>\n",
       "      <td>2009-07-30 11:54:00 UTC</td>\n",
       "      <td>0.0</td>\n",
       "      <td>0.0</td>\n",
       "      <td>0.0</td>\n",
       "      <td>0.0</td>\n",
       "      <td>208</td>\n",
       "    </tr>\n",
       "  </tbody>\n",
       "</table>\n",
       "</div>"
      ],
      "text/plain": [
       "                                  key  fare_amount          pickup_datetime  \\\n",
       "929022  2009-07-30 11:54:00.000000193          3.3  2009-07-30 11:54:00 UTC   \n",
       "\n",
       "        pickup_longitude  pickup_latitude  dropoff_longitude  \\\n",
       "929022               0.0              0.0                0.0   \n",
       "\n",
       "        dropoff_latitude  passenger_count  \n",
       "929022               0.0              208  "
      ]
     },
     "execution_count": 18,
     "metadata": {},
     "output_type": "execute_result"
    }
   ],
   "source": [
    "# 승객을 208명이나 태운게 말이 안됨 -> 몇개의 데이터인지 확인\n",
    "train[train[\"passenger_count\"] ==208]"
   ]
  },
  {
   "cell_type": "code",
   "execution_count": 19,
   "id": "4ccb30d2",
   "metadata": {},
   "outputs": [
    {
     "data": {
      "text/plain": [
       "(999951, 8)"
      ]
     },
     "execution_count": 19,
     "metadata": {},
     "output_type": "execute_result"
    }
   ],
   "source": [
    "# 1개밖에 안됨 이상치 맞는 것 같음 -> 제거\n",
    "train = train.drop(train[train[\"passenger_count\"]==208].index, axis=0)\n",
    "train.shape"
   ]
  },
  {
   "cell_type": "code",
   "execution_count": 20,
   "id": "290c3ef7",
   "metadata": {},
   "outputs": [
    {
     "data": {
      "text/plain": [
       "count    999951.000000\n",
       "mean          1.684736\n",
       "std           1.307733\n",
       "min           0.000000\n",
       "25%           1.000000\n",
       "50%           1.000000\n",
       "75%           2.000000\n",
       "max           6.000000\n",
       "Name: passenger_count, dtype: float64"
      ]
     },
     "execution_count": 20,
     "metadata": {},
     "output_type": "execute_result"
    }
   ],
   "source": [
    "# 이상치 제거한뒤 기술통계 다시 확인\n",
    "train[\"passenger_count\"].describe()"
   ]
  },
  {
   "cell_type": "markdown",
   "id": "88f069dd",
   "metadata": {},
   "source": [
    "### latitude & longitude"
   ]
  },
  {
   "cell_type": "markdown",
   "id": "211d82fb",
   "metadata": {},
   "source": [
    "* latitudes range : -90~90\n",
    "* longitudes range : -180~180"
   ]
  },
  {
   "cell_type": "code",
   "execution_count": 21,
   "id": "e49d6f76",
   "metadata": {},
   "outputs": [
    {
     "data": {
      "text/plain": [
       "count    999951.000000\n",
       "mean         39.929090\n",
       "std           7.626025\n",
       "min       -3116.285383\n",
       "25%          40.734965\n",
       "50%          40.752695\n",
       "75%          40.767154\n",
       "max        2621.628430\n",
       "Name: pickup_latitude, dtype: float64"
      ]
     },
     "execution_count": 21,
     "metadata": {},
     "output_type": "execute_result"
    }
   ],
   "source": [
    "# 위도 기술통계\n",
    "train[\"pickup_latitude\"].describe()"
   ]
  },
  {
   "cell_type": "code",
   "execution_count": 22,
   "id": "0f4a90f6",
   "metadata": {},
   "outputs": [
    {
     "data": {
      "text/html": [
       "<div>\n",
       "<style scoped>\n",
       "    .dataframe tbody tr th:only-of-type {\n",
       "        vertical-align: middle;\n",
       "    }\n",
       "\n",
       "    .dataframe tbody tr th {\n",
       "        vertical-align: top;\n",
       "    }\n",
       "\n",
       "    .dataframe thead th {\n",
       "        text-align: right;\n",
       "    }\n",
       "</style>\n",
       "<table border=\"1\" class=\"dataframe\">\n",
       "  <thead>\n",
       "    <tr style=\"text-align: right;\">\n",
       "      <th></th>\n",
       "      <th>key</th>\n",
       "      <th>fare_amount</th>\n",
       "      <th>pickup_datetime</th>\n",
       "      <th>pickup_longitude</th>\n",
       "      <th>pickup_latitude</th>\n",
       "      <th>dropoff_longitude</th>\n",
       "      <th>dropoff_latitude</th>\n",
       "      <th>passenger_count</th>\n",
       "    </tr>\n",
       "  </thead>\n",
       "  <tbody>\n",
       "    <tr>\n",
       "      <th>150559</th>\n",
       "      <td>2012-08-03 07:43:00.000000176</td>\n",
       "      <td>25.3</td>\n",
       "      <td>2012-08-03 07:43:00 UTC</td>\n",
       "      <td>0.000000</td>\n",
       "      <td>-3116.285383</td>\n",
       "      <td>-73.953600</td>\n",
       "      <td>40.787998</td>\n",
       "      <td>1</td>\n",
       "    </tr>\n",
       "    <tr>\n",
       "      <th>436233</th>\n",
       "      <td>2012-03-11 01:56:00.000000100</td>\n",
       "      <td>4.1</td>\n",
       "      <td>2012-03-11 01:56:00 UTC</td>\n",
       "      <td>-2986.242495</td>\n",
       "      <td>-880.627428</td>\n",
       "      <td>-3383.296608</td>\n",
       "      <td>-2559.748913</td>\n",
       "      <td>1</td>\n",
       "    </tr>\n",
       "    <tr>\n",
       "      <th>543001</th>\n",
       "      <td>2011-10-28 13:53:00.000000178</td>\n",
       "      <td>5.3</td>\n",
       "      <td>2011-10-28 13:53:00 UTC</td>\n",
       "      <td>-3377.680935</td>\n",
       "      <td>-113.019497</td>\n",
       "      <td>-554.918693</td>\n",
       "      <td>314.794180</td>\n",
       "      <td>1</td>\n",
       "    </tr>\n",
       "  </tbody>\n",
       "</table>\n",
       "</div>"
      ],
      "text/plain": [
       "                                  key  fare_amount          pickup_datetime  \\\n",
       "150559  2012-08-03 07:43:00.000000176         25.3  2012-08-03 07:43:00 UTC   \n",
       "436233  2012-03-11 01:56:00.000000100          4.1  2012-03-11 01:56:00 UTC   \n",
       "543001  2011-10-28 13:53:00.000000178          5.3  2011-10-28 13:53:00 UTC   \n",
       "\n",
       "        pickup_longitude  pickup_latitude  dropoff_longitude  \\\n",
       "150559          0.000000     -3116.285383         -73.953600   \n",
       "436233      -2986.242495      -880.627428       -3383.296608   \n",
       "543001      -3377.680935      -113.019497        -554.918693   \n",
       "\n",
       "        dropoff_latitude  passenger_count  \n",
       "150559         40.787998                1  \n",
       "436233      -2559.748913                1  \n",
       "543001        314.794180                1  "
      ]
     },
     "metadata": {},
     "output_type": "display_data"
    },
    {
     "data": {
      "text/html": [
       "<div>\n",
       "<style scoped>\n",
       "    .dataframe tbody tr th:only-of-type {\n",
       "        vertical-align: middle;\n",
       "    }\n",
       "\n",
       "    .dataframe tbody tr th {\n",
       "        vertical-align: top;\n",
       "    }\n",
       "\n",
       "    .dataframe thead th {\n",
       "        text-align: right;\n",
       "    }\n",
       "</style>\n",
       "<table border=\"1\" class=\"dataframe\">\n",
       "  <thead>\n",
       "    <tr style=\"text-align: right;\">\n",
       "      <th></th>\n",
       "      <th>key</th>\n",
       "      <th>fare_amount</th>\n",
       "      <th>pickup_datetime</th>\n",
       "      <th>pickup_longitude</th>\n",
       "      <th>pickup_latitude</th>\n",
       "      <th>dropoff_longitude</th>\n",
       "      <th>dropoff_latitude</th>\n",
       "      <th>passenger_count</th>\n",
       "    </tr>\n",
       "  </thead>\n",
       "  <tbody>\n",
       "    <tr>\n",
       "      <th>5686</th>\n",
       "      <td>2011-07-30 11:15:00.00000082</td>\n",
       "      <td>3.3</td>\n",
       "      <td>2011-07-30 11:15:00 UTC</td>\n",
       "      <td>-73.947235</td>\n",
       "      <td>401.083332</td>\n",
       "      <td>-73.951392</td>\n",
       "      <td>40.778927</td>\n",
       "      <td>1</td>\n",
       "    </tr>\n",
       "    <tr>\n",
       "      <th>174356</th>\n",
       "      <td>2011-11-21 21:36:00.00000081</td>\n",
       "      <td>9.7</td>\n",
       "      <td>2011-11-21 21:36:00 UTC</td>\n",
       "      <td>2140.601160</td>\n",
       "      <td>1703.092772</td>\n",
       "      <td>-1251.195890</td>\n",
       "      <td>-1189.615440</td>\n",
       "      <td>1</td>\n",
       "    </tr>\n",
       "    <tr>\n",
       "      <th>272439</th>\n",
       "      <td>2011-04-23 02:55:00.00000012</td>\n",
       "      <td>9.3</td>\n",
       "      <td>2011-04-23 02:55:00 UTC</td>\n",
       "      <td>-74.002497</td>\n",
       "      <td>405.350000</td>\n",
       "      <td>-73.978600</td>\n",
       "      <td>40.739962</td>\n",
       "      <td>1</td>\n",
       "    </tr>\n",
       "    <tr>\n",
       "      <th>464025</th>\n",
       "      <td>2012-03-05 20:58:00.0000009</td>\n",
       "      <td>6.9</td>\n",
       "      <td>2012-03-05 20:58:00 UTC</td>\n",
       "      <td>-73.994268</td>\n",
       "      <td>404.966667</td>\n",
       "      <td>-73.973857</td>\n",
       "      <td>40.755457</td>\n",
       "      <td>1</td>\n",
       "    </tr>\n",
       "    <tr>\n",
       "      <th>505229</th>\n",
       "      <td>2012-03-05 21:08:00.0000006</td>\n",
       "      <td>9.3</td>\n",
       "      <td>2012-03-05 21:08:00 UTC</td>\n",
       "      <td>-73.994268</td>\n",
       "      <td>404.966667</td>\n",
       "      <td>-73.986387</td>\n",
       "      <td>40.776895</td>\n",
       "      <td>1</td>\n",
       "    </tr>\n",
       "    <tr>\n",
       "      <th>505583</th>\n",
       "      <td>2012-03-16 08:13:00.000000272</td>\n",
       "      <td>8.5</td>\n",
       "      <td>2012-03-16 08:13:00 UTC</td>\n",
       "      <td>-73.994277</td>\n",
       "      <td>405.133332</td>\n",
       "      <td>-73.956763</td>\n",
       "      <td>40.783737</td>\n",
       "      <td>1</td>\n",
       "    </tr>\n",
       "    <tr>\n",
       "      <th>688685</th>\n",
       "      <td>2012-03-22 21:40:00.000000188</td>\n",
       "      <td>17.3</td>\n",
       "      <td>2012-03-22 21:40:00 UTC</td>\n",
       "      <td>2522.271325</td>\n",
       "      <td>2621.628430</td>\n",
       "      <td>-1718.117653</td>\n",
       "      <td>-2864.471003</td>\n",
       "      <td>1</td>\n",
       "    </tr>\n",
       "    <tr>\n",
       "      <th>708059</th>\n",
       "      <td>2012-05-24 22:44:00.00000088</td>\n",
       "      <td>5.3</td>\n",
       "      <td>2012-05-24 22:44:00 UTC</td>\n",
       "      <td>-73.989188</td>\n",
       "      <td>91.266667</td>\n",
       "      <td>-73.982362</td>\n",
       "      <td>40.763105</td>\n",
       "      <td>1</td>\n",
       "    </tr>\n",
       "    <tr>\n",
       "      <th>970268</th>\n",
       "      <td>2012-04-12 07:31:00.00000027</td>\n",
       "      <td>5.7</td>\n",
       "      <td>2012-04-12 07:31:00 UTC</td>\n",
       "      <td>-73.957087</td>\n",
       "      <td>424.083332</td>\n",
       "      <td>-73.968312</td>\n",
       "      <td>40.765117</td>\n",
       "      <td>1</td>\n",
       "    </tr>\n",
       "  </tbody>\n",
       "</table>\n",
       "</div>"
      ],
      "text/plain": [
       "                                  key  fare_amount          pickup_datetime  \\\n",
       "5686     2011-07-30 11:15:00.00000082          3.3  2011-07-30 11:15:00 UTC   \n",
       "174356   2011-11-21 21:36:00.00000081          9.7  2011-11-21 21:36:00 UTC   \n",
       "272439   2011-04-23 02:55:00.00000012          9.3  2011-04-23 02:55:00 UTC   \n",
       "464025    2012-03-05 20:58:00.0000009          6.9  2012-03-05 20:58:00 UTC   \n",
       "505229    2012-03-05 21:08:00.0000006          9.3  2012-03-05 21:08:00 UTC   \n",
       "505583  2012-03-16 08:13:00.000000272          8.5  2012-03-16 08:13:00 UTC   \n",
       "688685  2012-03-22 21:40:00.000000188         17.3  2012-03-22 21:40:00 UTC   \n",
       "708059   2012-05-24 22:44:00.00000088          5.3  2012-05-24 22:44:00 UTC   \n",
       "970268   2012-04-12 07:31:00.00000027          5.7  2012-04-12 07:31:00 UTC   \n",
       "\n",
       "        pickup_longitude  pickup_latitude  dropoff_longitude  \\\n",
       "5686          -73.947235       401.083332         -73.951392   \n",
       "174356       2140.601160      1703.092772       -1251.195890   \n",
       "272439        -74.002497       405.350000         -73.978600   \n",
       "464025        -73.994268       404.966667         -73.973857   \n",
       "505229        -73.994268       404.966667         -73.986387   \n",
       "505583        -73.994277       405.133332         -73.956763   \n",
       "688685       2522.271325      2621.628430       -1718.117653   \n",
       "708059        -73.989188        91.266667         -73.982362   \n",
       "970268        -73.957087       424.083332         -73.968312   \n",
       "\n",
       "        dropoff_latitude  passenger_count  \n",
       "5686           40.778927                1  \n",
       "174356      -1189.615440                1  \n",
       "272439         40.739962                1  \n",
       "464025         40.755457                1  \n",
       "505229         40.776895                1  \n",
       "505583         40.783737                1  \n",
       "688685      -2864.471003                1  \n",
       "708059         40.763105                1  \n",
       "970268         40.765117                1  "
      ]
     },
     "metadata": {},
     "output_type": "display_data"
    }
   ],
   "source": [
    "# 범위 벗어나는 위도 확인 \n",
    "drop1 = train[train[\"pickup_latitude\"]< -90]\n",
    "drop2 = train[train[\"pickup_latitude\"]> 90]\n",
    "display(drop1)\n",
    "display(drop2)"
   ]
  },
  {
   "cell_type": "code",
   "execution_count": 23,
   "id": "55f261a1",
   "metadata": {},
   "outputs": [
    {
     "data": {
      "text/plain": [
       "(999939, 8)"
      ]
     },
     "execution_count": 23,
     "metadata": {},
     "output_type": "execute_result"
    }
   ],
   "source": [
    "# 이상치 제거\n",
    "train = train.drop(drop1.index, axis=0)\n",
    "train = train.drop(drop2.index, axis=0)\n",
    "train.shape"
   ]
  },
  {
   "cell_type": "code",
   "execution_count": 24,
   "id": "762a238d",
   "metadata": {},
   "outputs": [
    {
     "data": {
      "text/plain": [
       "count    999939.000000\n",
       "mean        -72.525443\n",
       "std          10.692752\n",
       "min       -1452.988333\n",
       "25%         -73.992060\n",
       "50%         -73.981792\n",
       "75%         -73.967095\n",
       "max          40.850357\n",
       "Name: pickup_longitude, dtype: float64"
      ]
     },
     "execution_count": 24,
     "metadata": {},
     "output_type": "execute_result"
    }
   ],
   "source": [
    "# 경도 기술통계\n",
    "train[\"pickup_longitude\"].describe()"
   ]
  },
  {
   "cell_type": "code",
   "execution_count": 25,
   "id": "60c988e2",
   "metadata": {},
   "outputs": [
    {
     "data": {
      "text/html": [
       "<div>\n",
       "<style scoped>\n",
       "    .dataframe tbody tr th:only-of-type {\n",
       "        vertical-align: middle;\n",
       "    }\n",
       "\n",
       "    .dataframe tbody tr th {\n",
       "        vertical-align: top;\n",
       "    }\n",
       "\n",
       "    .dataframe thead th {\n",
       "        text-align: right;\n",
       "    }\n",
       "</style>\n",
       "<table border=\"1\" class=\"dataframe\">\n",
       "  <thead>\n",
       "    <tr style=\"text-align: right;\">\n",
       "      <th></th>\n",
       "      <th>key</th>\n",
       "      <th>fare_amount</th>\n",
       "      <th>pickup_datetime</th>\n",
       "      <th>pickup_longitude</th>\n",
       "      <th>pickup_latitude</th>\n",
       "      <th>dropoff_longitude</th>\n",
       "      <th>dropoff_latitude</th>\n",
       "      <th>passenger_count</th>\n",
       "    </tr>\n",
       "  </thead>\n",
       "  <tbody>\n",
       "    <tr>\n",
       "      <th>60442</th>\n",
       "      <td>2012-01-12 13:36:00.000000186</td>\n",
       "      <td>4.9</td>\n",
       "      <td>2012-01-12 13:36:00 UTC</td>\n",
       "      <td>-736.550000</td>\n",
       "      <td>40.738230</td>\n",
       "      <td>-73.988742</td>\n",
       "      <td>40.748847</td>\n",
       "      <td>1</td>\n",
       "    </tr>\n",
       "    <tr>\n",
       "      <th>217355</th>\n",
       "      <td>2012-06-03 23:21:00.00000077</td>\n",
       "      <td>6.1</td>\n",
       "      <td>2012-06-03 23:21:00 UTC</td>\n",
       "      <td>-740.000000</td>\n",
       "      <td>40.747620</td>\n",
       "      <td>0.000000</td>\n",
       "      <td>0.000000</td>\n",
       "      <td>6</td>\n",
       "    </tr>\n",
       "    <tr>\n",
       "      <th>243342</th>\n",
       "      <td>2012-08-02 10:38:00.000000111</td>\n",
       "      <td>7.3</td>\n",
       "      <td>2012-08-02 10:38:00 UTC</td>\n",
       "      <td>-736.333333</td>\n",
       "      <td>40.766480</td>\n",
       "      <td>-73.987928</td>\n",
       "      <td>40.751742</td>\n",
       "      <td>3</td>\n",
       "    </tr>\n",
       "    <tr>\n",
       "      <th>351119</th>\n",
       "      <td>2012-02-03 07:53:00.000000135</td>\n",
       "      <td>4.1</td>\n",
       "      <td>2012-02-03 07:53:00 UTC</td>\n",
       "      <td>-736.483332</td>\n",
       "      <td>40.766512</td>\n",
       "      <td>-73.981992</td>\n",
       "      <td>40.771672</td>\n",
       "      <td>1</td>\n",
       "    </tr>\n",
       "    <tr>\n",
       "      <th>370663</th>\n",
       "      <td>2012-05-04 23:19:00.000000261</td>\n",
       "      <td>6.1</td>\n",
       "      <td>2012-05-04 23:19:00 UTC</td>\n",
       "      <td>-736.516667</td>\n",
       "      <td>40.719095</td>\n",
       "      <td>-74.003952</td>\n",
       "      <td>40.729860</td>\n",
       "      <td>1</td>\n",
       "    </tr>\n",
       "    <tr>\n",
       "      <th>416859</th>\n",
       "      <td>2012-07-21 15:23:00.00000093</td>\n",
       "      <td>6.5</td>\n",
       "      <td>2012-07-21 15:23:00 UTC</td>\n",
       "      <td>-736.416665</td>\n",
       "      <td>40.752285</td>\n",
       "      <td>-73.992565</td>\n",
       "      <td>40.742687</td>\n",
       "      <td>1</td>\n",
       "    </tr>\n",
       "    <tr>\n",
       "      <th>568830</th>\n",
       "      <td>2013-05-23 15:23:00.0000007</td>\n",
       "      <td>11.5</td>\n",
       "      <td>2013-05-23 15:23:00 UTC</td>\n",
       "      <td>-735.888333</td>\n",
       "      <td>40.760863</td>\n",
       "      <td>-73.989835</td>\n",
       "      <td>40.738443</td>\n",
       "      <td>5</td>\n",
       "    </tr>\n",
       "    <tr>\n",
       "      <th>675500</th>\n",
       "      <td>2011-10-28 10:53:00.00000080</td>\n",
       "      <td>16.9</td>\n",
       "      <td>2011-10-28 10:53:00 UTC</td>\n",
       "      <td>-1452.988333</td>\n",
       "      <td>40.776000</td>\n",
       "      <td>-73.989487</td>\n",
       "      <td>40.740667</td>\n",
       "      <td>2</td>\n",
       "    </tr>\n",
       "    <tr>\n",
       "      <th>837619</th>\n",
       "      <td>2012-07-17 08:38:00.000000116</td>\n",
       "      <td>39.7</td>\n",
       "      <td>2012-07-17 08:38:00 UTC</td>\n",
       "      <td>-736.000000</td>\n",
       "      <td>40.758507</td>\n",
       "      <td>0.000000</td>\n",
       "      <td>0.000000</td>\n",
       "      <td>5</td>\n",
       "    </tr>\n",
       "    <tr>\n",
       "      <th>914435</th>\n",
       "      <td>2012-03-04 00:10:00.000000131</td>\n",
       "      <td>11.7</td>\n",
       "      <td>2012-03-04 00:10:00 UTC</td>\n",
       "      <td>-736.250000</td>\n",
       "      <td>40.788027</td>\n",
       "      <td>-73.990812</td>\n",
       "      <td>40.750942</td>\n",
       "      <td>1</td>\n",
       "    </tr>\n",
       "    <tr>\n",
       "      <th>921758</th>\n",
       "      <td>2012-05-21 10:57:00.00000084</td>\n",
       "      <td>10.1</td>\n",
       "      <td>2012-05-21 10:57:00 UTC</td>\n",
       "      <td>-736.650000</td>\n",
       "      <td>40.761075</td>\n",
       "      <td>0.000000</td>\n",
       "      <td>0.000000</td>\n",
       "      <td>1</td>\n",
       "    </tr>\n",
       "  </tbody>\n",
       "</table>\n",
       "</div>"
      ],
      "text/plain": [
       "                                  key  fare_amount          pickup_datetime  \\\n",
       "60442   2012-01-12 13:36:00.000000186          4.9  2012-01-12 13:36:00 UTC   \n",
       "217355   2012-06-03 23:21:00.00000077          6.1  2012-06-03 23:21:00 UTC   \n",
       "243342  2012-08-02 10:38:00.000000111          7.3  2012-08-02 10:38:00 UTC   \n",
       "351119  2012-02-03 07:53:00.000000135          4.1  2012-02-03 07:53:00 UTC   \n",
       "370663  2012-05-04 23:19:00.000000261          6.1  2012-05-04 23:19:00 UTC   \n",
       "416859   2012-07-21 15:23:00.00000093          6.5  2012-07-21 15:23:00 UTC   \n",
       "568830    2013-05-23 15:23:00.0000007         11.5  2013-05-23 15:23:00 UTC   \n",
       "675500   2011-10-28 10:53:00.00000080         16.9  2011-10-28 10:53:00 UTC   \n",
       "837619  2012-07-17 08:38:00.000000116         39.7  2012-07-17 08:38:00 UTC   \n",
       "914435  2012-03-04 00:10:00.000000131         11.7  2012-03-04 00:10:00 UTC   \n",
       "921758   2012-05-21 10:57:00.00000084         10.1  2012-05-21 10:57:00 UTC   \n",
       "\n",
       "        pickup_longitude  pickup_latitude  dropoff_longitude  \\\n",
       "60442        -736.550000        40.738230         -73.988742   \n",
       "217355       -740.000000        40.747620           0.000000   \n",
       "243342       -736.333333        40.766480         -73.987928   \n",
       "351119       -736.483332        40.766512         -73.981992   \n",
       "370663       -736.516667        40.719095         -74.003952   \n",
       "416859       -736.416665        40.752285         -73.992565   \n",
       "568830       -735.888333        40.760863         -73.989835   \n",
       "675500      -1452.988333        40.776000         -73.989487   \n",
       "837619       -736.000000        40.758507           0.000000   \n",
       "914435       -736.250000        40.788027         -73.990812   \n",
       "921758       -736.650000        40.761075           0.000000   \n",
       "\n",
       "        dropoff_latitude  passenger_count  \n",
       "60442          40.748847                1  \n",
       "217355          0.000000                6  \n",
       "243342         40.751742                3  \n",
       "351119         40.771672                1  \n",
       "370663         40.729860                1  \n",
       "416859         40.742687                1  \n",
       "568830         40.738443                5  \n",
       "675500         40.740667                2  \n",
       "837619          0.000000                5  \n",
       "914435         40.750942                1  \n",
       "921758          0.000000                1  "
      ]
     },
     "metadata": {},
     "output_type": "display_data"
    },
    {
     "data": {
      "text/html": [
       "<div>\n",
       "<style scoped>\n",
       "    .dataframe tbody tr th:only-of-type {\n",
       "        vertical-align: middle;\n",
       "    }\n",
       "\n",
       "    .dataframe tbody tr th {\n",
       "        vertical-align: top;\n",
       "    }\n",
       "\n",
       "    .dataframe thead th {\n",
       "        text-align: right;\n",
       "    }\n",
       "</style>\n",
       "<table border=\"1\" class=\"dataframe\">\n",
       "  <thead>\n",
       "    <tr style=\"text-align: right;\">\n",
       "      <th></th>\n",
       "      <th>key</th>\n",
       "      <th>fare_amount</th>\n",
       "      <th>pickup_datetime</th>\n",
       "      <th>pickup_longitude</th>\n",
       "      <th>pickup_latitude</th>\n",
       "      <th>dropoff_longitude</th>\n",
       "      <th>dropoff_latitude</th>\n",
       "      <th>passenger_count</th>\n",
       "    </tr>\n",
       "  </thead>\n",
       "  <tbody>\n",
       "  </tbody>\n",
       "</table>\n",
       "</div>"
      ],
      "text/plain": [
       "Empty DataFrame\n",
       "Columns: [key, fare_amount, pickup_datetime, pickup_longitude, pickup_latitude, dropoff_longitude, dropoff_latitude, passenger_count]\n",
       "Index: []"
      ]
     },
     "metadata": {},
     "output_type": "display_data"
    }
   ],
   "source": [
    "# 범위 벗어나는 경도 확인\n",
    "drop3 = train[train[\"pickup_longitude\"]< -180]\n",
    "drop4 = train[train[\"pickup_longitude\"]> 180]\n",
    "display(drop3)\n",
    "display(drop4)"
   ]
  },
  {
   "cell_type": "code",
   "execution_count": 26,
   "id": "5b6878e5",
   "metadata": {},
   "outputs": [],
   "source": [
    "# 이상치 제거\n",
    "train = train.drop(drop3.index, axis=0)"
   ]
  },
  {
   "cell_type": "code",
   "execution_count": 27,
   "id": "cb7e0a1b",
   "metadata": {},
   "outputs": [
    {
     "data": {
      "text/plain": [
       "(999928, 8)"
      ]
     },
     "execution_count": 27,
     "metadata": {},
     "output_type": "execute_result"
    }
   ],
   "source": [
    "train.shape"
   ]
  },
  {
   "cell_type": "code",
   "execution_count": 28,
   "id": "45c7cd90",
   "metadata": {},
   "outputs": [
    {
     "data": {
      "text/html": [
       "<div>\n",
       "<style scoped>\n",
       "    .dataframe tbody tr th:only-of-type {\n",
       "        vertical-align: middle;\n",
       "    }\n",
       "\n",
       "    .dataframe tbody tr th {\n",
       "        vertical-align: top;\n",
       "    }\n",
       "\n",
       "    .dataframe thead th {\n",
       "        text-align: right;\n",
       "    }\n",
       "</style>\n",
       "<table border=\"1\" class=\"dataframe\">\n",
       "  <thead>\n",
       "    <tr style=\"text-align: right;\">\n",
       "      <th></th>\n",
       "      <th>key</th>\n",
       "      <th>fare_amount</th>\n",
       "      <th>pickup_datetime</th>\n",
       "      <th>pickup_longitude</th>\n",
       "      <th>pickup_latitude</th>\n",
       "      <th>dropoff_longitude</th>\n",
       "      <th>dropoff_latitude</th>\n",
       "      <th>passenger_count</th>\n",
       "    </tr>\n",
       "  </thead>\n",
       "  <tbody>\n",
       "    <tr>\n",
       "      <th>579901</th>\n",
       "      <td>2013-08-14 20:23:00.000000245</td>\n",
       "      <td>18.0</td>\n",
       "      <td>2013-08-14 20:23:00 UTC</td>\n",
       "      <td>-73.99919</td>\n",
       "      <td>40.7202</td>\n",
       "      <td>-0.36</td>\n",
       "      <td>-3114.338567</td>\n",
       "      <td>1</td>\n",
       "    </tr>\n",
       "  </tbody>\n",
       "</table>\n",
       "</div>"
      ],
      "text/plain": [
       "                                  key  fare_amount          pickup_datetime  \\\n",
       "579901  2013-08-14 20:23:00.000000245         18.0  2013-08-14 20:23:00 UTC   \n",
       "\n",
       "        pickup_longitude  pickup_latitude  dropoff_longitude  \\\n",
       "579901         -73.99919          40.7202              -0.36   \n",
       "\n",
       "        dropoff_latitude  passenger_count  \n",
       "579901      -3114.338567                1  "
      ]
     },
     "metadata": {},
     "output_type": "display_data"
    },
    {
     "data": {
      "text/html": [
       "<div>\n",
       "<style scoped>\n",
       "    .dataframe tbody tr th:only-of-type {\n",
       "        vertical-align: middle;\n",
       "    }\n",
       "\n",
       "    .dataframe tbody tr th {\n",
       "        vertical-align: top;\n",
       "    }\n",
       "\n",
       "    .dataframe thead th {\n",
       "        text-align: right;\n",
       "    }\n",
       "</style>\n",
       "<table border=\"1\" class=\"dataframe\">\n",
       "  <thead>\n",
       "    <tr style=\"text-align: right;\">\n",
       "      <th></th>\n",
       "      <th>key</th>\n",
       "      <th>fare_amount</th>\n",
       "      <th>pickup_datetime</th>\n",
       "      <th>pickup_longitude</th>\n",
       "      <th>pickup_latitude</th>\n",
       "      <th>dropoff_longitude</th>\n",
       "      <th>dropoff_latitude</th>\n",
       "      <th>passenger_count</th>\n",
       "    </tr>\n",
       "  </thead>\n",
       "  <tbody>\n",
       "    <tr>\n",
       "      <th>92310</th>\n",
       "      <td>2011-09-27 11:54:00.000000127</td>\n",
       "      <td>28.9</td>\n",
       "      <td>2011-09-27 11:54:00 UTC</td>\n",
       "      <td>-74.014595</td>\n",
       "      <td>40.681880</td>\n",
       "      <td>-73.973310</td>\n",
       "      <td>404.616667</td>\n",
       "      <td>1</td>\n",
       "    </tr>\n",
       "    <tr>\n",
       "      <th>181973</th>\n",
       "      <td>2012-01-03 09:04:00.000000130</td>\n",
       "      <td>6.5</td>\n",
       "      <td>2012-01-03 09:04:00 UTC</td>\n",
       "      <td>-74.008918</td>\n",
       "      <td>40.717827</td>\n",
       "      <td>-74.000855</td>\n",
       "      <td>404.133332</td>\n",
       "      <td>1</td>\n",
       "    </tr>\n",
       "    <tr>\n",
       "      <th>335675</th>\n",
       "      <td>2012-02-26 00:25:00.00000085</td>\n",
       "      <td>19.3</td>\n",
       "      <td>2012-02-26 00:25:00 UTC</td>\n",
       "      <td>-74.006457</td>\n",
       "      <td>40.743865</td>\n",
       "      <td>-73.981283</td>\n",
       "      <td>404.133332</td>\n",
       "      <td>1</td>\n",
       "    </tr>\n",
       "    <tr>\n",
       "      <th>561910</th>\n",
       "      <td>2010-08-14 03:42:59.0000001</td>\n",
       "      <td>4.5</td>\n",
       "      <td>2010-08-14 03:42:59 UTC</td>\n",
       "      <td>-73.977635</td>\n",
       "      <td>40.754687</td>\n",
       "      <td>-73.870432</td>\n",
       "      <td>405.650000</td>\n",
       "      <td>1</td>\n",
       "    </tr>\n",
       "    <tr>\n",
       "      <th>582110</th>\n",
       "      <td>2012-05-02 14:20:00.000000131</td>\n",
       "      <td>30.5</td>\n",
       "      <td>2012-05-02 14:20:00 UTC</td>\n",
       "      <td>-73.870875</td>\n",
       "      <td>40.773792</td>\n",
       "      <td>-73.977790</td>\n",
       "      <td>404.716667</td>\n",
       "      <td>1</td>\n",
       "    </tr>\n",
       "    <tr>\n",
       "      <th>748464</th>\n",
       "      <td>2013-01-02 11:33:00.00000020</td>\n",
       "      <td>15.0</td>\n",
       "      <td>2013-01-02 11:33:00 UTC</td>\n",
       "      <td>-74.015200</td>\n",
       "      <td>40.709665</td>\n",
       "      <td>-40.719295</td>\n",
       "      <td>1651.553433</td>\n",
       "      <td>5</td>\n",
       "    </tr>\n",
       "    <tr>\n",
       "      <th>889704</th>\n",
       "      <td>2012-05-21 12:15:00.00000098</td>\n",
       "      <td>15.3</td>\n",
       "      <td>2012-05-21 12:15:00 UTC</td>\n",
       "      <td>-74.001292</td>\n",
       "      <td>40.727560</td>\n",
       "      <td>-73.953047</td>\n",
       "      <td>404.466667</td>\n",
       "      <td>1</td>\n",
       "    </tr>\n",
       "  </tbody>\n",
       "</table>\n",
       "</div>"
      ],
      "text/plain": [
       "                                  key  fare_amount          pickup_datetime  \\\n",
       "92310   2011-09-27 11:54:00.000000127         28.9  2011-09-27 11:54:00 UTC   \n",
       "181973  2012-01-03 09:04:00.000000130          6.5  2012-01-03 09:04:00 UTC   \n",
       "335675   2012-02-26 00:25:00.00000085         19.3  2012-02-26 00:25:00 UTC   \n",
       "561910    2010-08-14 03:42:59.0000001          4.5  2010-08-14 03:42:59 UTC   \n",
       "582110  2012-05-02 14:20:00.000000131         30.5  2012-05-02 14:20:00 UTC   \n",
       "748464   2013-01-02 11:33:00.00000020         15.0  2013-01-02 11:33:00 UTC   \n",
       "889704   2012-05-21 12:15:00.00000098         15.3  2012-05-21 12:15:00 UTC   \n",
       "\n",
       "        pickup_longitude  pickup_latitude  dropoff_longitude  \\\n",
       "92310         -74.014595        40.681880         -73.973310   \n",
       "181973        -74.008918        40.717827         -74.000855   \n",
       "335675        -74.006457        40.743865         -73.981283   \n",
       "561910        -73.977635        40.754687         -73.870432   \n",
       "582110        -73.870875        40.773792         -73.977790   \n",
       "748464        -74.015200        40.709665         -40.719295   \n",
       "889704        -74.001292        40.727560         -73.953047   \n",
       "\n",
       "        dropoff_latitude  passenger_count  \n",
       "92310         404.616667                1  \n",
       "181973        404.133332                1  \n",
       "335675        404.133332                1  \n",
       "561910        405.650000                1  \n",
       "582110        404.716667                1  \n",
       "748464       1651.553433                5  \n",
       "889704        404.466667                1  "
      ]
     },
     "metadata": {},
     "output_type": "display_data"
    }
   ],
   "source": [
    "# 마찬가지 방법으로 dropoff 경도/위도도 이상치 제거\n",
    "drop5 = train[train[\"dropoff_latitude\"]< -90]\n",
    "drop6 = train[train[\"dropoff_latitude\"]> 90]\n",
    "display(drop5)\n",
    "display(drop6)"
   ]
  },
  {
   "cell_type": "code",
   "execution_count": 29,
   "id": "188a6d5f",
   "metadata": {},
   "outputs": [
    {
     "data": {
      "text/plain": [
       "(999920, 8)"
      ]
     },
     "execution_count": 29,
     "metadata": {},
     "output_type": "execute_result"
    }
   ],
   "source": [
    "train = train.drop(drop5.index, axis=0)\n",
    "train = train.drop(drop6.index, axis=0)\n",
    "train.shape"
   ]
  },
  {
   "cell_type": "code",
   "execution_count": 30,
   "id": "8a19b2ce",
   "metadata": {},
   "outputs": [
    {
     "data": {
      "text/html": [
       "<div>\n",
       "<style scoped>\n",
       "    .dataframe tbody tr th:only-of-type {\n",
       "        vertical-align: middle;\n",
       "    }\n",
       "\n",
       "    .dataframe tbody tr th {\n",
       "        vertical-align: top;\n",
       "    }\n",
       "\n",
       "    .dataframe thead th {\n",
       "        text-align: right;\n",
       "    }\n",
       "</style>\n",
       "<table border=\"1\" class=\"dataframe\">\n",
       "  <thead>\n",
       "    <tr style=\"text-align: right;\">\n",
       "      <th></th>\n",
       "      <th>key</th>\n",
       "      <th>fare_amount</th>\n",
       "      <th>pickup_datetime</th>\n",
       "      <th>pickup_longitude</th>\n",
       "      <th>pickup_latitude</th>\n",
       "      <th>dropoff_longitude</th>\n",
       "      <th>dropoff_latitude</th>\n",
       "      <th>passenger_count</th>\n",
       "    </tr>\n",
       "  </thead>\n",
       "  <tbody>\n",
       "    <tr>\n",
       "      <th>269695</th>\n",
       "      <td>2012-05-24 09:00:00.000000101</td>\n",
       "      <td>17.7</td>\n",
       "      <td>2012-05-24 09:00:00 UTC</td>\n",
       "      <td>-73.997572</td>\n",
       "      <td>40.720945</td>\n",
       "      <td>-1329.621332</td>\n",
       "      <td>40.773717</td>\n",
       "      <td>1</td>\n",
       "    </tr>\n",
       "    <tr>\n",
       "      <th>282374</th>\n",
       "      <td>2011-04-25 13:09:00.000000123</td>\n",
       "      <td>5.7</td>\n",
       "      <td>2011-04-25 13:09:00 UTC</td>\n",
       "      <td>-73.987105</td>\n",
       "      <td>40.755732</td>\n",
       "      <td>-732.600000</td>\n",
       "      <td>40.744832</td>\n",
       "      <td>1</td>\n",
       "    </tr>\n",
       "    <tr>\n",
       "      <th>449263</th>\n",
       "      <td>2012-01-28 16:51:00.00000088</td>\n",
       "      <td>6.9</td>\n",
       "      <td>2012-01-28 16:51:00 UTC</td>\n",
       "      <td>-73.983142</td>\n",
       "      <td>40.741987</td>\n",
       "      <td>-736.500000</td>\n",
       "      <td>40.755255</td>\n",
       "      <td>1</td>\n",
       "    </tr>\n",
       "    <tr>\n",
       "      <th>472273</th>\n",
       "      <td>2012-02-09 17:42:00.000000250</td>\n",
       "      <td>49.8</td>\n",
       "      <td>2012-02-09 17:42:00 UTC</td>\n",
       "      <td>-73.937167</td>\n",
       "      <td>40.758112</td>\n",
       "      <td>-736.083333</td>\n",
       "      <td>40.758112</td>\n",
       "      <td>6</td>\n",
       "    </tr>\n",
       "    <tr>\n",
       "      <th>666352</th>\n",
       "      <td>2012-03-16 22:02:00.000000257</td>\n",
       "      <td>4.9</td>\n",
       "      <td>2012-03-16 22:02:00 UTC</td>\n",
       "      <td>-73.992605</td>\n",
       "      <td>40.726815</td>\n",
       "      <td>-472.266667</td>\n",
       "      <td>40.733332</td>\n",
       "      <td>1</td>\n",
       "    </tr>\n",
       "    <tr>\n",
       "      <th>757003</th>\n",
       "      <td>2012-04-29 20:45:00.000000211</td>\n",
       "      <td>3.3</td>\n",
       "      <td>2012-04-29 20:45:00 UTC</td>\n",
       "      <td>-73.990675</td>\n",
       "      <td>40.761037</td>\n",
       "      <td>-736.550000</td>\n",
       "      <td>40.760182</td>\n",
       "      <td>5</td>\n",
       "    </tr>\n",
       "    <tr>\n",
       "      <th>858760</th>\n",
       "      <td>2012-06-19 07:41:00.00000019</td>\n",
       "      <td>6.1</td>\n",
       "      <td>2012-06-19 07:41:00 UTC</td>\n",
       "      <td>-73.982467</td>\n",
       "      <td>40.771612</td>\n",
       "      <td>-736.416665</td>\n",
       "      <td>40.764310</td>\n",
       "      <td>1</td>\n",
       "    </tr>\n",
       "    <tr>\n",
       "      <th>907792</th>\n",
       "      <td>2012-02-18 00:22:00.0000001</td>\n",
       "      <td>8.1</td>\n",
       "      <td>2012-02-18 00:22:00 UTC</td>\n",
       "      <td>-73.991215</td>\n",
       "      <td>40.750727</td>\n",
       "      <td>-740.000000</td>\n",
       "      <td>40.726617</td>\n",
       "      <td>1</td>\n",
       "    </tr>\n",
       "    <tr>\n",
       "      <th>967162</th>\n",
       "      <td>2012-02-09 17:42:00.000000178</td>\n",
       "      <td>5.7</td>\n",
       "      <td>2012-02-09 17:42:00 UTC</td>\n",
       "      <td>-74.006390</td>\n",
       "      <td>40.739552</td>\n",
       "      <td>-740.066667</td>\n",
       "      <td>40.724792</td>\n",
       "      <td>1</td>\n",
       "    </tr>\n",
       "  </tbody>\n",
       "</table>\n",
       "</div>"
      ],
      "text/plain": [
       "                                  key  fare_amount          pickup_datetime  \\\n",
       "269695  2012-05-24 09:00:00.000000101         17.7  2012-05-24 09:00:00 UTC   \n",
       "282374  2011-04-25 13:09:00.000000123          5.7  2011-04-25 13:09:00 UTC   \n",
       "449263   2012-01-28 16:51:00.00000088          6.9  2012-01-28 16:51:00 UTC   \n",
       "472273  2012-02-09 17:42:00.000000250         49.8  2012-02-09 17:42:00 UTC   \n",
       "666352  2012-03-16 22:02:00.000000257          4.9  2012-03-16 22:02:00 UTC   \n",
       "757003  2012-04-29 20:45:00.000000211          3.3  2012-04-29 20:45:00 UTC   \n",
       "858760   2012-06-19 07:41:00.00000019          6.1  2012-06-19 07:41:00 UTC   \n",
       "907792    2012-02-18 00:22:00.0000001          8.1  2012-02-18 00:22:00 UTC   \n",
       "967162  2012-02-09 17:42:00.000000178          5.7  2012-02-09 17:42:00 UTC   \n",
       "\n",
       "        pickup_longitude  pickup_latitude  dropoff_longitude  \\\n",
       "269695        -73.997572        40.720945       -1329.621332   \n",
       "282374        -73.987105        40.755732        -732.600000   \n",
       "449263        -73.983142        40.741987        -736.500000   \n",
       "472273        -73.937167        40.758112        -736.083333   \n",
       "666352        -73.992605        40.726815        -472.266667   \n",
       "757003        -73.990675        40.761037        -736.550000   \n",
       "858760        -73.982467        40.771612        -736.416665   \n",
       "907792        -73.991215        40.750727        -740.000000   \n",
       "967162        -74.006390        40.739552        -740.066667   \n",
       "\n",
       "        dropoff_latitude  passenger_count  \n",
       "269695         40.773717                1  \n",
       "282374         40.744832                1  \n",
       "449263         40.755255                1  \n",
       "472273         40.758112                6  \n",
       "666352         40.733332                1  \n",
       "757003         40.760182                5  \n",
       "858760         40.764310                1  \n",
       "907792         40.726617                1  \n",
       "967162         40.724792                1  "
      ]
     },
     "metadata": {},
     "output_type": "display_data"
    },
    {
     "data": {
      "text/html": [
       "<div>\n",
       "<style scoped>\n",
       "    .dataframe tbody tr th:only-of-type {\n",
       "        vertical-align: middle;\n",
       "    }\n",
       "\n",
       "    .dataframe tbody tr th {\n",
       "        vertical-align: top;\n",
       "    }\n",
       "\n",
       "    .dataframe thead th {\n",
       "        text-align: right;\n",
       "    }\n",
       "</style>\n",
       "<table border=\"1\" class=\"dataframe\">\n",
       "  <thead>\n",
       "    <tr style=\"text-align: right;\">\n",
       "      <th></th>\n",
       "      <th>key</th>\n",
       "      <th>fare_amount</th>\n",
       "      <th>pickup_datetime</th>\n",
       "      <th>pickup_longitude</th>\n",
       "      <th>pickup_latitude</th>\n",
       "      <th>dropoff_longitude</th>\n",
       "      <th>dropoff_latitude</th>\n",
       "      <th>passenger_count</th>\n",
       "    </tr>\n",
       "  </thead>\n",
       "  <tbody>\n",
       "  </tbody>\n",
       "</table>\n",
       "</div>"
      ],
      "text/plain": [
       "Empty DataFrame\n",
       "Columns: [key, fare_amount, pickup_datetime, pickup_longitude, pickup_latitude, dropoff_longitude, dropoff_latitude, passenger_count]\n",
       "Index: []"
      ]
     },
     "metadata": {},
     "output_type": "display_data"
    }
   ],
   "source": [
    "drop_do_lon1 = train[train[\"dropoff_longitude\"]<-180]\n",
    "drop_do_lon2 = train[train[\"dropoff_longitude\"]>180]\n",
    "display(drop_do_lon1)\n",
    "display(drop_do_lon2)"
   ]
  },
  {
   "cell_type": "code",
   "execution_count": 31,
   "id": "c77f0a14",
   "metadata": {},
   "outputs": [
    {
     "data": {
      "text/plain": [
       "(999911, 8)"
      ]
     },
     "execution_count": 31,
     "metadata": {},
     "output_type": "execute_result"
    }
   ],
   "source": [
    "train = train.drop(drop_do_lon1.index, axis=0)\n",
    "train.shape"
   ]
  },
  {
   "cell_type": "markdown",
   "id": "3f455955",
   "metadata": {},
   "source": [
    "## EDA "
   ]
  },
  {
   "cell_type": "markdown",
   "id": "5d7aef88",
   "metadata": {},
   "source": [
    "### 주행거리 파생변수 만들기"
   ]
  },
  {
   "cell_type": "code",
   "execution_count": 32,
   "id": "04645452",
   "metadata": {},
   "outputs": [],
   "source": [
    "# 위도와 경도 이용해서 주행거리 계산\n",
    "def haversine_distance(lat1, long1, lat2, long2):\n",
    "    data = [train, test]\n",
    "    for i in data:\n",
    "        R = 6371  #radius of earth in kilometers\n",
    "        #R = 3959 #radius of earth in miles\n",
    "        phi1 = np.radians(i[lat1])\n",
    "        phi2 = np.radians(i[lat2])\n",
    "    \n",
    "        delta_phi = np.radians(i[lat2]-i[lat1])\n",
    "        delta_lambda = np.radians(i[long2]-i[long1])\n",
    "    \n",
    "        #a = sin²((φB - φA)/2) + cos φA . cos φB . sin²((λB - λA)/2)\n",
    "        a = np.sin(delta_phi / 2.0) ** 2 + np.cos(phi1) * np.cos(phi2) * np.sin(delta_lambda / 2.0) ** 2\n",
    "    \n",
    "        #c = 2 * atan2( √a, √(1−a) )\n",
    "        c = 2 * np.arctan2(np.sqrt(a), np.sqrt(1-a))\n",
    "    \n",
    "        #d = R*c\n",
    "        d = (R * c) #in kilometers\n",
    "        i['H_Distance'] = d\n",
    "    return d"
   ]
  },
  {
   "cell_type": "code",
   "execution_count": 33,
   "id": "42b3730f",
   "metadata": {},
   "outputs": [
    {
     "data": {
      "text/plain": [
       "0        2.323260\n",
       "1        2.425353\n",
       "2        0.618628\n",
       "3        1.961033\n",
       "4        5.387301\n",
       "          ...    \n",
       "9909     2.124874\n",
       "9910     3.270969\n",
       "9911    19.183941\n",
       "9912     8.343486\n",
       "9913     1.180825\n",
       "Length: 9914, dtype: float64"
      ]
     },
     "execution_count": 33,
     "metadata": {},
     "output_type": "execute_result"
    }
   ],
   "source": [
    "haversine_distance('pickup_latitude', 'pickup_longitude', 'dropoff_latitude', 'dropoff_longitude')"
   ]
  },
  {
   "cell_type": "code",
   "execution_count": 34,
   "id": "f6890259",
   "metadata": {},
   "outputs": [
    {
     "data": {
      "text/plain": [
       "0    1.030764\n",
       "1    8.450134\n",
       "2    1.389525\n",
       "3    2.799270\n",
       "4    1.999157\n",
       "Name: H_Distance, dtype: float64"
      ]
     },
     "execution_count": 34,
     "metadata": {},
     "output_type": "execute_result"
    }
   ],
   "source": [
    "# 주행거리 파생변수 생성\n",
    "train[\"H_Distance\"].head()"
   ]
  },
  {
   "cell_type": "code",
   "execution_count": 35,
   "id": "3c426c06",
   "metadata": {},
   "outputs": [
    {
     "data": {
      "text/plain": [
       "0    2.323260\n",
       "1    2.425353\n",
       "2    0.618628\n",
       "3    1.961033\n",
       "4    5.387301\n",
       "Name: H_Distance, dtype: float64"
      ]
     },
     "execution_count": 35,
     "metadata": {},
     "output_type": "execute_result"
    }
   ],
   "source": [
    "test[\"H_Distance\"].head()"
   ]
  },
  {
   "cell_type": "code",
   "execution_count": 36,
   "id": "e5dce99a",
   "metadata": {},
   "outputs": [
    {
     "data": {
      "text/plain": [
       "((999911, 9), (9914, 8))"
      ]
     },
     "execution_count": 36,
     "metadata": {},
     "output_type": "execute_result"
    }
   ],
   "source": [
    "train.shape, test.shape"
   ]
  },
  {
   "cell_type": "markdown",
   "id": "3b8b1bdc",
   "metadata": {},
   "source": [
    "### 날짜 파생변수 만들기"
   ]
  },
  {
   "cell_type": "code",
   "execution_count": 38,
   "id": "1ffe8075",
   "metadata": {},
   "outputs": [
    {
     "data": {
      "text/plain": [
       "datetime64[ns, UTC]"
      ]
     },
     "execution_count": 38,
     "metadata": {},
     "output_type": "execute_result"
    }
   ],
   "source": [
    "# type datetime으로 바꾸기 \n",
    "\n",
    "train[\"pickup_datetime\"] = pd.to_datetime(train[\"pickup_datetime\"])\n",
    "train[\"pickup_datetime\"].dtypes"
   ]
  },
  {
   "cell_type": "code",
   "execution_count": 39,
   "id": "5b7059cb",
   "metadata": {},
   "outputs": [
    {
     "data": {
      "text/plain": [
       "datetime64[ns, UTC]"
      ]
     },
     "execution_count": 39,
     "metadata": {},
     "output_type": "execute_result"
    }
   ],
   "source": [
    "test[\"pickup_datetime\"] = pd.to_datetime(train[\"pickup_datetime\"])\n",
    "test[\"pickup_datetime\"].dtypes"
   ]
  },
  {
   "cell_type": "code",
   "execution_count": 40,
   "id": "8d5e08c8",
   "metadata": {},
   "outputs": [],
   "source": [
    "data = [train, test]\n",
    "for i in data:\n",
    "    i[\"Year\"] = i[\"pickup_datetime\"].dt.year\n",
    "    i[\"Month\"] = i[\"pickup_datetime\"].dt.month\n",
    "    i[\"Date\"] = i[\"pickup_datetime\"].dt.day\n",
    "    i[\"Day of Week\"] = i[\"pickup_datetime\"].dt.dayofweek\n",
    "    i[\"Hour\"] = i[\"pickup_datetime\"].dt.hour"
   ]
  },
  {
   "cell_type": "code",
   "execution_count": 42,
   "id": "90a2829e",
   "metadata": {},
   "outputs": [
    {
     "data": {
      "text/html": [
       "<div>\n",
       "<style scoped>\n",
       "    .dataframe tbody tr th:only-of-type {\n",
       "        vertical-align: middle;\n",
       "    }\n",
       "\n",
       "    .dataframe tbody tr th {\n",
       "        vertical-align: top;\n",
       "    }\n",
       "\n",
       "    .dataframe thead th {\n",
       "        text-align: right;\n",
       "    }\n",
       "</style>\n",
       "<table border=\"1\" class=\"dataframe\">\n",
       "  <thead>\n",
       "    <tr style=\"text-align: right;\">\n",
       "      <th></th>\n",
       "      <th>key</th>\n",
       "      <th>fare_amount</th>\n",
       "      <th>pickup_datetime</th>\n",
       "      <th>pickup_longitude</th>\n",
       "      <th>pickup_latitude</th>\n",
       "      <th>dropoff_longitude</th>\n",
       "      <th>dropoff_latitude</th>\n",
       "      <th>passenger_count</th>\n",
       "      <th>H_Distance</th>\n",
       "      <th>Year</th>\n",
       "      <th>Month</th>\n",
       "      <th>Date</th>\n",
       "      <th>Day of Week</th>\n",
       "      <th>Hour</th>\n",
       "    </tr>\n",
       "  </thead>\n",
       "  <tbody>\n",
       "    <tr>\n",
       "      <th>0</th>\n",
       "      <td>2009-06-15 17:26:21.0000001</td>\n",
       "      <td>4.5</td>\n",
       "      <td>2009-06-15 17:26:21+00:00</td>\n",
       "      <td>-73.844311</td>\n",
       "      <td>40.721319</td>\n",
       "      <td>-73.841610</td>\n",
       "      <td>40.712278</td>\n",
       "      <td>1</td>\n",
       "      <td>1.030764</td>\n",
       "      <td>2009</td>\n",
       "      <td>6</td>\n",
       "      <td>15</td>\n",
       "      <td>0</td>\n",
       "      <td>17</td>\n",
       "    </tr>\n",
       "    <tr>\n",
       "      <th>1</th>\n",
       "      <td>2010-01-05 16:52:16.0000002</td>\n",
       "      <td>16.9</td>\n",
       "      <td>2010-01-05 16:52:16+00:00</td>\n",
       "      <td>-74.016048</td>\n",
       "      <td>40.711303</td>\n",
       "      <td>-73.979268</td>\n",
       "      <td>40.782004</td>\n",
       "      <td>1</td>\n",
       "      <td>8.450134</td>\n",
       "      <td>2010</td>\n",
       "      <td>1</td>\n",
       "      <td>5</td>\n",
       "      <td>1</td>\n",
       "      <td>16</td>\n",
       "    </tr>\n",
       "  </tbody>\n",
       "</table>\n",
       "</div>"
      ],
      "text/plain": [
       "                           key  fare_amount           pickup_datetime  \\\n",
       "0  2009-06-15 17:26:21.0000001          4.5 2009-06-15 17:26:21+00:00   \n",
       "1  2010-01-05 16:52:16.0000002         16.9 2010-01-05 16:52:16+00:00   \n",
       "\n",
       "   pickup_longitude  pickup_latitude  dropoff_longitude  dropoff_latitude  \\\n",
       "0        -73.844311        40.721319         -73.841610         40.712278   \n",
       "1        -74.016048        40.711303         -73.979268         40.782004   \n",
       "\n",
       "   passenger_count  H_Distance  Year  Month  Date  Day of Week  Hour  \n",
       "0                1    1.030764  2009      6    15            0    17  \n",
       "1                1    8.450134  2010      1     5            1    16  "
      ]
     },
     "execution_count": 42,
     "metadata": {},
     "output_type": "execute_result"
    }
   ],
   "source": [
    "train.head(2)"
   ]
  },
  {
   "cell_type": "code",
   "execution_count": 43,
   "id": "c2f5f440",
   "metadata": {},
   "outputs": [
    {
     "data": {
      "text/html": [
       "<div>\n",
       "<style scoped>\n",
       "    .dataframe tbody tr th:only-of-type {\n",
       "        vertical-align: middle;\n",
       "    }\n",
       "\n",
       "    .dataframe tbody tr th {\n",
       "        vertical-align: top;\n",
       "    }\n",
       "\n",
       "    .dataframe thead th {\n",
       "        text-align: right;\n",
       "    }\n",
       "</style>\n",
       "<table border=\"1\" class=\"dataframe\">\n",
       "  <thead>\n",
       "    <tr style=\"text-align: right;\">\n",
       "      <th></th>\n",
       "      <th>key</th>\n",
       "      <th>pickup_datetime</th>\n",
       "      <th>pickup_longitude</th>\n",
       "      <th>pickup_latitude</th>\n",
       "      <th>dropoff_longitude</th>\n",
       "      <th>dropoff_latitude</th>\n",
       "      <th>passenger_count</th>\n",
       "      <th>H_Distance</th>\n",
       "      <th>Year</th>\n",
       "      <th>Month</th>\n",
       "      <th>Date</th>\n",
       "      <th>Day of Week</th>\n",
       "      <th>Hour</th>\n",
       "    </tr>\n",
       "  </thead>\n",
       "  <tbody>\n",
       "    <tr>\n",
       "      <th>0</th>\n",
       "      <td>2015-01-27 13:08:24.0000002</td>\n",
       "      <td>2009-06-15 17:26:21+00:00</td>\n",
       "      <td>-73.973320</td>\n",
       "      <td>40.763805</td>\n",
       "      <td>-73.981430</td>\n",
       "      <td>40.743835</td>\n",
       "      <td>1</td>\n",
       "      <td>2.323260</td>\n",
       "      <td>2009.0</td>\n",
       "      <td>6.0</td>\n",
       "      <td>15.0</td>\n",
       "      <td>0.0</td>\n",
       "      <td>17.0</td>\n",
       "    </tr>\n",
       "    <tr>\n",
       "      <th>1</th>\n",
       "      <td>2015-01-27 13:08:24.0000003</td>\n",
       "      <td>2010-01-05 16:52:16+00:00</td>\n",
       "      <td>-73.986862</td>\n",
       "      <td>40.719383</td>\n",
       "      <td>-73.998886</td>\n",
       "      <td>40.739201</td>\n",
       "      <td>1</td>\n",
       "      <td>2.425353</td>\n",
       "      <td>2010.0</td>\n",
       "      <td>1.0</td>\n",
       "      <td>5.0</td>\n",
       "      <td>1.0</td>\n",
       "      <td>16.0</td>\n",
       "    </tr>\n",
       "  </tbody>\n",
       "</table>\n",
       "</div>"
      ],
      "text/plain": [
       "                           key           pickup_datetime  pickup_longitude  \\\n",
       "0  2015-01-27 13:08:24.0000002 2009-06-15 17:26:21+00:00        -73.973320   \n",
       "1  2015-01-27 13:08:24.0000003 2010-01-05 16:52:16+00:00        -73.986862   \n",
       "\n",
       "   pickup_latitude  dropoff_longitude  dropoff_latitude  passenger_count  \\\n",
       "0        40.763805         -73.981430         40.743835                1   \n",
       "1        40.719383         -73.998886         40.739201                1   \n",
       "\n",
       "   H_Distance    Year  Month  Date  Day of Week  Hour  \n",
       "0    2.323260  2009.0    6.0  15.0          0.0  17.0  \n",
       "1    2.425353  2010.0    1.0   5.0          1.0  16.0  "
      ]
     },
     "execution_count": 43,
     "metadata": {},
     "output_type": "execute_result"
    }
   ],
   "source": [
    "test.head(2)"
   ]
  },
  {
   "cell_type": "markdown",
   "id": "e78145ee",
   "metadata": {},
   "source": [
    "* 가설 설정\n",
    "1. 승객수가 요금에 영향을 미칠까? 승객수가 많아질수록 요금이 높아지지 않을까?\n",
    "2. pickup 날짜와 시간이 요금에 영향을 미칠까?\n",
    "3. 요일이 요금에 영향을 미칠까?\n",
    "4. 주행거리가 요금에 영향을 미칠까?"
   ]
  },
  {
   "cell_type": "markdown",
   "id": "aaee8d05",
   "metadata": {},
   "source": [
    "### Q> 승객수가 요금에 영향을 미칠까"
   ]
  },
  {
   "cell_type": "code",
   "execution_count": 46,
   "id": "7bb7ca97",
   "metadata": {},
   "outputs": [
    {
     "data": {
      "text/plain": [
       "Text(0, 0.5, 'Frequency')"
      ]
     },
     "execution_count": 46,
     "metadata": {},
     "output_type": "execute_result"
    },
    {
     "data": {
      "image/png": "[encoded data removed]",
      "text/plain": [
       "<Figure size 1080x504 with 1 Axes>"
      ]
     },
     "metadata": {
      "needs_background": "light"
     },
     "output_type": "display_data"
    }
   ],
   "source": [
    "# 승객수별 택시이용 빈도수\n",
    "plt.figure(figsize=(15,7))\n",
    "_ = plt.hist(train[\"passenger_count\"], bins=15)\n",
    "plt.xlabel(\"No. of Passengers\")\n",
    "plt.ylabel(\"Frequency\")"
   ]
  },
  {
   "cell_type": "code",
   "execution_count": 53,
   "id": "31144688",
   "metadata": {},
   "outputs": [
    {
     "data": {
      "text/plain": [
       "Text(0, 0.5, 'Fare')"
      ]
     },
     "execution_count": 53,
     "metadata": {},
     "output_type": "execute_result"
    },
    {
     "data": {
      "image/png": "[encoded data removed]",
      "text/plain": [
       "<Figure size 720x360 with 1 Axes>"
      ]
     },
     "metadata": {
      "needs_background": "light"
     },
     "output_type": "display_data"
    }
   ],
   "source": [
    "# 승객수별 택시요금\n",
    "plt.figure(figsize=(10,5))\n",
    "plt.scatter(x=train[\"passenger_count\"], y=train[\"fare_amount\"],s=2)\n",
    "plt.xlabel(\"No. of Passengers\")\n",
    "plt.ylabel(\"Fare\")"
   ]
  },
  {
   "cell_type": "markdown",
   "id": "b6c66720",
   "metadata": {},
   "source": [
    "* 위의 두 그래프를 보면 1명이 승객인 경우가 가장 많고 가장 높은 요금은 승객수가 1명인 경우로 볼 수 있다.\n",
    " 따라서, 승객수가 많아질수록 요금도 높아질 것이라는 가설은 맞지 않다."
   ]
  },
  {
   "cell_type": "markdown",
   "id": "5f2427fe",
   "metadata": {},
   "source": [
    "### Q> pickup 날짜와 시간이 요금에 영향을 미칠까?"
   ]
  },
  {
   "cell_type": "code",
   "execution_count": 57,
   "id": "7ed2f702",
   "metadata": {},
   "outputs": [
    {
     "data": {
      "text/plain": [
       "<matplotlib.collections.PathCollection at 0x7fb1601ac5e0>"
      ]
     },
     "execution_count": 57,
     "metadata": {},
     "output_type": "execute_result"
    },
    {
     "data": {
      "image/png": "[encoded data removed]",
      "text/plain": [
       "<Figure size 1080x504 with 1 Axes>"
      ]
     },
     "metadata": {
      "needs_background": "light"
     },
     "output_type": "display_data"
    }
   ],
   "source": [
    "# 날짜별 택시요금\n",
    "plt.figure(figsize=(15,7))\n",
    "plt.scatter(x=train[\"Date\"], y=train[\"fare_amount\"], s=3)"
   ]
  },
  {
   "cell_type": "markdown",
   "id": "66a8181d",
   "metadata": {},
   "source": [
    "* 한달동안 받은 요금은 대부분 균일해보이고 12일에 가장 높은 요금을 받았다."
   ]
  },
  {
   "cell_type": "code",
   "execution_count": 58,
   "id": "a6738c3c",
   "metadata": {},
   "outputs": [
    {
     "data": {
      "text/plain": [
       "Text(0, 0.5, 'Frequency')"
      ]
     },
     "execution_count": 58,
     "metadata": {},
     "output_type": "execute_result"
    },
    {
     "data": {
      "image/png": "[encoded data removed]",
      "text/plain": [
       "<Figure size 1080x504 with 1 Axes>"
      ]
     },
     "metadata": {
      "needs_background": "light"
     },
     "output_type": "display_data"
    }
   ],
   "source": [
    "# 시간대별 택시 이용 빈도수\n",
    "plt.figure(figsize=(15,7))\n",
    "plt.hist(train[\"Hour\"], bins=100)\n",
    "plt.xlabel(\"Hour\")\n",
    "plt.ylabel(\"Frequency\")"
   ]
  },
  {
   "cell_type": "markdown",
   "id": "e99fd99b",
   "metadata": {},
   "source": [
    "* 시간대별로 차이가 뚜렷한걸 보아 시간은 꽤 중요한 역할을 할 것으로 추측해볼 수 있다. 오전 5시에 택시 이용빈도가 가장 낮고 오후 7시에 택시 이용빈도수가 가장 높다."
   ]
  },
  {
   "cell_type": "code",
   "execution_count": 62,
   "id": "bc8ddf74",
   "metadata": {},
   "outputs": [
    {
     "data": {
      "text/plain": [
       "<matplotlib.collections.PathCollection at 0x7fb16e41e130>"
      ]
     },
     "execution_count": 62,
     "metadata": {},
     "output_type": "execute_result"
    },
    {
     "data": {
      "image/png": "[encoded data removed]",
      "text/plain": [
       "<Figure size 1080x504 with 1 Axes>"
      ]
     },
     "metadata": {
      "needs_background": "light"
     },
     "output_type": "display_data"
    }
   ],
   "source": [
    "# 시간대별 택시 요금\n",
    "plt.figure(figsize=(15,7))\n",
    "plt.scatter(x=train[\"Hour\"], y=train[\"fare_amount\"], s=6)\n",
    "plt.xlabel(\"Hour\")\n",
    "plt.ylabel(\"Fare\")"
   ]
  },
  {
   "cell_type": "markdown",
   "id": "88f254ca",
   "metadata": {},
   "source": [
    "* 반면 요금은 오전 5시에서 오전 10시사이, 오후 2시에서 4시사이에 높은 것을 확인해볼 수 있다."
   ]
  },
  {
   "cell_type": "markdown",
   "id": "f21a92c2",
   "metadata": {},
   "source": [
    "### Q> 요일이 요금에 영향을 미칠까?"
   ]
  },
  {
   "cell_type": "code",
   "execution_count": 63,
   "id": "df3ecb86",
   "metadata": {},
   "outputs": [
    {
     "data": {
      "text/plain": [
       "Text(0, 0.5, 'Frequency')"
      ]
     },
     "execution_count": 63,
     "metadata": {},
     "output_type": "execute_result"
    },
    {
     "data": {
      "image/png": "[encoded data removed]",
      "text/plain": [
       "<Figure size 1080x504 with 1 Axes>"
      ]
     },
     "metadata": {
      "needs_background": "light"
     },
     "output_type": "display_data"
    }
   ],
   "source": [
    "# 요일별 택시 이용 빈도수\n",
    "plt.figure(figsize=(15,7))\n",
    "plt.hist(train[\"Day of Week\"], bins=100)\n",
    "plt.xlabel(\"Day of Week\")\n",
    "plt.ylabel(\"Frequency\")"
   ]
  },
  {
   "cell_type": "markdown",
   "id": "cf9e2f4e",
   "metadata": {},
   "source": [
    "* 요일별로 별다른 차이를 보이지 않는다. 그다지 유의미해보이는 변수는 아니다."
   ]
  },
  {
   "cell_type": "code",
   "execution_count": 65,
   "id": "823b66b8",
   "metadata": {},
   "outputs": [
    {
     "data": {
      "text/plain": [
       "Text(0, 0.5, 'Fare')"
      ]
     },
     "execution_count": 65,
     "metadata": {},
     "output_type": "execute_result"
    },
    {
     "data": {
      "image/png": "[encoded data removed]",
      "text/plain": [
       "<Figure size 1080x504 with 1 Axes>"
      ]
     },
     "metadata": {
      "needs_background": "light"
     },
     "output_type": "display_data"
    }
   ],
   "source": [
    "# 요일별 택시요금\n",
    "plt.figure(figsize=(15,7))\n",
    "plt.scatter(x=train[\"Day of Week\"], y=train[\"fare_amount\"], s=6)\n",
    "plt.xlabel(\"Day of Week\")\n",
    "plt.ylabel(\"Fare\")"
   ]
  },
  {
   "cell_type": "markdown",
   "id": "a13f41c6",
   "metadata": {},
   "source": [
    "* 일요일과 월요일이 택시 요금이 가장 높고 수요일과 금요일이 택시 요금이 가장 낮음을 확인해볼 수 있다.\n",
    "(이 필사에서는 'Maybe people travel far distances on Sunday and Monday (visiting family and returning back home), and hence, the high fares. And guess people just want to stay at home on a Friday after a hectic week at work, or grab a drink from close by. Hmmm..'이런식으로 해석해 놓은게 흥미로웠다..)\n"
   ]
  },
  {
   "cell_type": "markdown",
   "id": "4e296ca2",
   "metadata": {},
   "source": [
    "### Q> 주행거리가 요금에 영향을 미칠까?"
   ]
  },
  {
   "cell_type": "code",
   "execution_count": 66,
   "id": "cd2b51af",
   "metadata": {},
   "outputs": [
    {
     "data": {
      "text/html": [
       "<div>\n",
       "<style scoped>\n",
       "    .dataframe tbody tr th:only-of-type {\n",
       "        vertical-align: middle;\n",
       "    }\n",
       "\n",
       "    .dataframe tbody tr th {\n",
       "        vertical-align: top;\n",
       "    }\n",
       "\n",
       "    .dataframe thead th {\n",
       "        text-align: right;\n",
       "    }\n",
       "</style>\n",
       "<table border=\"1\" class=\"dataframe\">\n",
       "  <thead>\n",
       "    <tr style=\"text-align: right;\">\n",
       "      <th></th>\n",
       "      <th>key</th>\n",
       "      <th>fare_amount</th>\n",
       "      <th>pickup_datetime</th>\n",
       "      <th>pickup_longitude</th>\n",
       "      <th>pickup_latitude</th>\n",
       "      <th>dropoff_longitude</th>\n",
       "      <th>dropoff_latitude</th>\n",
       "      <th>passenger_count</th>\n",
       "      <th>H_Distance</th>\n",
       "      <th>Year</th>\n",
       "      <th>Month</th>\n",
       "      <th>Date</th>\n",
       "      <th>Day of Week</th>\n",
       "      <th>Hour</th>\n",
       "    </tr>\n",
       "  </thead>\n",
       "  <tbody>\n",
       "    <tr>\n",
       "      <th>793922</th>\n",
       "      <td>2012-06-03 11:19:37.0000002</td>\n",
       "      <td>32.10</td>\n",
       "      <td>2012-06-03 11:19:37+00:00</td>\n",
       "      <td>-73.863359</td>\n",
       "      <td>40.769278</td>\n",
       "      <td>45.581619</td>\n",
       "      <td>-2.013462</td>\n",
       "      <td>2</td>\n",
       "      <td>12594.704725</td>\n",
       "      <td>2012</td>\n",
       "      <td>6</td>\n",
       "      <td>3</td>\n",
       "      <td>6</td>\n",
       "      <td>11</td>\n",
       "    </tr>\n",
       "    <tr>\n",
       "      <th>646132</th>\n",
       "      <td>2012-02-08 20:24:00.000000173</td>\n",
       "      <td>10.50</td>\n",
       "      <td>2012-02-08 20:24:00+00:00</td>\n",
       "      <td>-89.439785</td>\n",
       "      <td>1.707957</td>\n",
       "      <td>0.000000</td>\n",
       "      <td>0.000000</td>\n",
       "      <td>1</td>\n",
       "      <td>9945.278008</td>\n",
       "      <td>2012</td>\n",
       "      <td>2</td>\n",
       "      <td>8</td>\n",
       "      <td>2</td>\n",
       "      <td>20</td>\n",
       "    </tr>\n",
       "    <tr>\n",
       "      <th>823943</th>\n",
       "      <td>2010-11-14 21:40:00.00000059</td>\n",
       "      <td>4.90</td>\n",
       "      <td>2010-11-14 21:40:00+00:00</td>\n",
       "      <td>0.000000</td>\n",
       "      <td>0.000000</td>\n",
       "      <td>-73.960303</td>\n",
       "      <td>81.510177</td>\n",
       "      <td>1</td>\n",
       "      <td>9747.587427</td>\n",
       "      <td>2010</td>\n",
       "      <td>11</td>\n",
       "      <td>14</td>\n",
       "      <td>6</td>\n",
       "      <td>21</td>\n",
       "    </tr>\n",
       "    <tr>\n",
       "      <th>401445</th>\n",
       "      <td>2011-02-26 03:28:03.0000006</td>\n",
       "      <td>14.50</td>\n",
       "      <td>2011-02-26 03:28:03+00:00</td>\n",
       "      <td>0.000000</td>\n",
       "      <td>0.000000</td>\n",
       "      <td>-75.433371</td>\n",
       "      <td>40.752047</td>\n",
       "      <td>1</td>\n",
       "      <td>8786.235625</td>\n",
       "      <td>2011</td>\n",
       "      <td>2</td>\n",
       "      <td>26</td>\n",
       "      <td>5</td>\n",
       "      <td>3</td>\n",
       "    </tr>\n",
       "    <tr>\n",
       "      <th>207647</th>\n",
       "      <td>2011-04-19 17:56:04.0000003</td>\n",
       "      <td>38.90</td>\n",
       "      <td>2011-04-19 17:56:04+00:00</td>\n",
       "      <td>0.000000</td>\n",
       "      <td>0.000000</td>\n",
       "      <td>-75.423754</td>\n",
       "      <td>40.773877</td>\n",
       "      <td>1</td>\n",
       "      <td>8785.843243</td>\n",
       "      <td>2011</td>\n",
       "      <td>4</td>\n",
       "      <td>19</td>\n",
       "      <td>1</td>\n",
       "      <td>17</td>\n",
       "    </tr>\n",
       "    <tr>\n",
       "      <th>...</th>\n",
       "      <td>...</td>\n",
       "      <td>...</td>\n",
       "      <td>...</td>\n",
       "      <td>...</td>\n",
       "      <td>...</td>\n",
       "      <td>...</td>\n",
       "      <td>...</td>\n",
       "      <td>...</td>\n",
       "      <td>...</td>\n",
       "      <td>...</td>\n",
       "      <td>...</td>\n",
       "      <td>...</td>\n",
       "      <td>...</td>\n",
       "      <td>...</td>\n",
       "    </tr>\n",
       "    <tr>\n",
       "      <th>830616</th>\n",
       "      <td>2015-01-21 06:29:21.0000006</td>\n",
       "      <td>0.01</td>\n",
       "      <td>2015-01-21 06:29:21+00:00</td>\n",
       "      <td>0.000000</td>\n",
       "      <td>0.000000</td>\n",
       "      <td>0.000000</td>\n",
       "      <td>0.000000</td>\n",
       "      <td>1</td>\n",
       "      <td>0.000000</td>\n",
       "      <td>2015</td>\n",
       "      <td>1</td>\n",
       "      <td>21</td>\n",
       "      <td>2</td>\n",
       "      <td>6</td>\n",
       "    </tr>\n",
       "    <tr>\n",
       "      <th>105051</th>\n",
       "      <td>2013-08-21 21:41:00.000000215</td>\n",
       "      <td>0.00</td>\n",
       "      <td>2013-08-21 21:41:00+00:00</td>\n",
       "      <td>0.000000</td>\n",
       "      <td>0.000000</td>\n",
       "      <td>0.000000</td>\n",
       "      <td>0.000000</td>\n",
       "      <td>2</td>\n",
       "      <td>0.000000</td>\n",
       "      <td>2013</td>\n",
       "      <td>8</td>\n",
       "      <td>21</td>\n",
       "      <td>2</td>\n",
       "      <td>21</td>\n",
       "    </tr>\n",
       "    <tr>\n",
       "      <th>331597</th>\n",
       "      <td>2013-08-05 06:45:54.0000005</td>\n",
       "      <td>0.00</td>\n",
       "      <td>2013-08-05 06:45:54+00:00</td>\n",
       "      <td>-73.982354</td>\n",
       "      <td>40.679971</td>\n",
       "      <td>-73.982354</td>\n",
       "      <td>40.679971</td>\n",
       "      <td>1</td>\n",
       "      <td>0.000000</td>\n",
       "      <td>2013</td>\n",
       "      <td>8</td>\n",
       "      <td>5</td>\n",
       "      <td>0</td>\n",
       "      <td>6</td>\n",
       "    </tr>\n",
       "    <tr>\n",
       "      <th>436658</th>\n",
       "      <td>2015-03-04 22:33:39.0000008</td>\n",
       "      <td>0.00</td>\n",
       "      <td>2015-03-04 22:33:39+00:00</td>\n",
       "      <td>-74.043442</td>\n",
       "      <td>40.788208</td>\n",
       "      <td>-74.043442</td>\n",
       "      <td>40.788208</td>\n",
       "      <td>1</td>\n",
       "      <td>0.000000</td>\n",
       "      <td>2015</td>\n",
       "      <td>3</td>\n",
       "      <td>4</td>\n",
       "      <td>2</td>\n",
       "      <td>22</td>\n",
       "    </tr>\n",
       "    <tr>\n",
       "      <th>689250</th>\n",
       "      <td>2015-05-27 23:10:03.0000004</td>\n",
       "      <td>0.00</td>\n",
       "      <td>2015-05-27 23:10:03+00:00</td>\n",
       "      <td>-73.994125</td>\n",
       "      <td>40.741131</td>\n",
       "      <td>-73.994125</td>\n",
       "      <td>40.741131</td>\n",
       "      <td>1</td>\n",
       "      <td>0.000000</td>\n",
       "      <td>2015</td>\n",
       "      <td>5</td>\n",
       "      <td>27</td>\n",
       "      <td>2</td>\n",
       "      <td>23</td>\n",
       "    </tr>\n",
       "  </tbody>\n",
       "</table>\n",
       "<p>999911 rows × 14 columns</p>\n",
       "</div>"
      ],
      "text/plain": [
       "                                  key  fare_amount           pickup_datetime  \\\n",
       "793922    2012-06-03 11:19:37.0000002        32.10 2012-06-03 11:19:37+00:00   \n",
       "646132  2012-02-08 20:24:00.000000173        10.50 2012-02-08 20:24:00+00:00   \n",
       "823943   2010-11-14 21:40:00.00000059         4.90 2010-11-14 21:40:00+00:00   \n",
       "401445    2011-02-26 03:28:03.0000006        14.50 2011-02-26 03:28:03+00:00   \n",
       "207647    2011-04-19 17:56:04.0000003        38.90 2011-04-19 17:56:04+00:00   \n",
       "...                               ...          ...                       ...   \n",
       "830616    2015-01-21 06:29:21.0000006         0.01 2015-01-21 06:29:21+00:00   \n",
       "105051  2013-08-21 21:41:00.000000215         0.00 2013-08-21 21:41:00+00:00   \n",
       "331597    2013-08-05 06:45:54.0000005         0.00 2013-08-05 06:45:54+00:00   \n",
       "436658    2015-03-04 22:33:39.0000008         0.00 2015-03-04 22:33:39+00:00   \n",
       "689250    2015-05-27 23:10:03.0000004         0.00 2015-05-27 23:10:03+00:00   \n",
       "\n",
       "        pickup_longitude  pickup_latitude  dropoff_longitude  \\\n",
       "793922        -73.863359        40.769278          45.581619   \n",
       "646132        -89.439785         1.707957           0.000000   \n",
       "823943          0.000000         0.000000         -73.960303   \n",
       "401445          0.000000         0.000000         -75.433371   \n",
       "207647          0.000000         0.000000         -75.423754   \n",
       "...                  ...              ...                ...   \n",
       "830616          0.000000         0.000000           0.000000   \n",
       "105051          0.000000         0.000000           0.000000   \n",
       "331597        -73.982354        40.679971         -73.982354   \n",
       "436658        -74.043442        40.788208         -74.043442   \n",
       "689250        -73.994125        40.741131         -73.994125   \n",
       "\n",
       "        dropoff_latitude  passenger_count    H_Distance  Year  Month  Date  \\\n",
       "793922         -2.013462                2  12594.704725  2012      6     3   \n",
       "646132          0.000000                1   9945.278008  2012      2     8   \n",
       "823943         81.510177                1   9747.587427  2010     11    14   \n",
       "401445         40.752047                1   8786.235625  2011      2    26   \n",
       "207647         40.773877                1   8785.843243  2011      4    19   \n",
       "...                  ...              ...           ...   ...    ...   ...   \n",
       "830616          0.000000                1      0.000000  2015      1    21   \n",
       "105051          0.000000                2      0.000000  2013      8    21   \n",
       "331597         40.679971                1      0.000000  2013      8     5   \n",
       "436658         40.788208                1      0.000000  2015      3     4   \n",
       "689250         40.741131                1      0.000000  2015      5    27   \n",
       "\n",
       "        Day of Week  Hour  \n",
       "793922            6    11  \n",
       "646132            2    20  \n",
       "823943            6    21  \n",
       "401445            5     3  \n",
       "207647            1    17  \n",
       "...             ...   ...  \n",
       "830616            2     6  \n",
       "105051            2    21  \n",
       "331597            0     6  \n",
       "436658            2    22  \n",
       "689250            2    23  \n",
       "\n",
       "[999911 rows x 14 columns]"
      ]
     },
     "execution_count": 66,
     "metadata": {},
     "output_type": "execute_result"
    }
   ],
   "source": [
    "train.sort_values([\"H_Distance\", \"fare_amount\"], ascending=False)"
   ]
  },
  {
   "cell_type": "code",
   "execution_count": 68,
   "id": "5dfcadd2",
   "metadata": {},
   "outputs": [
    {
     "data": {
      "text/plain": [
       "999911"
      ]
     },
     "execution_count": 68,
     "metadata": {},
     "output_type": "execute_result"
    }
   ],
   "source": [
    "len(train)"
   ]
  },
  {
   "cell_type": "code",
   "execution_count": 69,
   "id": "d0d8162f",
   "metadata": {},
   "outputs": [
    {
     "data": {
      "text/plain": [
       "Index(['H_Distance', 'bins'], dtype='object')"
      ]
     },
     "execution_count": 69,
     "metadata": {},
     "output_type": "execute_result"
    }
   ],
   "source": [
    "# 주행거리 구간별로 나눠서 범주형 변수로 바꾸기\n",
    "bins_0 = train.loc[(train['H_Distance'] == 0), ['H_Distance']]\n",
    "bins_1 = train.loc[(train['H_Distance'] > 0) & (train['H_Distance'] <= 10),['H_Distance']]\n",
    "bins_2 = train.loc[(train['H_Distance'] > 10) & (train['H_Distance'] <= 50),['H_Distance']]\n",
    "bins_3 = train.loc[(train['H_Distance'] > 50) & (train['H_Distance'] <= 100),['H_Distance']]\n",
    "bins_4 = train.loc[(train['H_Distance'] > 100) & (train['H_Distance'] <= 200),['H_Distance']]\n",
    "bins_5 = train.loc[(train['H_Distance'] > 200) & (train['H_Distance'] <= 300),['H_Distance']]\n",
    "bins_6 = train.loc[(train['H_Distance'] > 300),['H_Distance']]\n",
    "bins_0['bins'] = '0'\n",
    "bins_1['bins'] = '0-10'\n",
    "bins_2['bins'] = '11-50'\n",
    "bins_3['bins'] = '51-100'\n",
    "bins_4['bins'] = '100-200'\n",
    "bins_5['bins'] = '201-300'\n",
    "bins_6['bins'] = '>300'\n",
    "dist_bins =pd.concat([bins_0,bins_1,bins_2,bins_3,bins_4,bins_5,bins_6])\n",
    "#len(dist_bins)\n",
    "dist_bins.columns"
   ]
  },
  {
   "cell_type": "code",
   "execution_count": 71,
   "id": "da776d95",
   "metadata": {},
   "outputs": [
    {
     "data": {
      "text/plain": [
       "Text(0, 0.5, 'Frequency')"
      ]
     },
     "execution_count": 71,
     "metadata": {},
     "output_type": "execute_result"
    },
    {
     "data": {
      "image/png": "[encoded data removed]",
      "text/plain": [
       "<Figure size 1080x504 with 1 Axes>"
      ]
     },
     "metadata": {
      "needs_background": "light"
     },
     "output_type": "display_data"
    }
   ],
   "source": [
    "# 주행거리별 빈도수 시각화\n",
    "plt.figure(figsize=(15,7))\n",
    "plt.hist(dist_bins[\"bins\"], bins=75)\n",
    "plt.xlabel(\"Bins\")\n",
    "plt.ylabel(\"Frequency\")"
   ]
  },
  {
   "cell_type": "code",
   "execution_count": 73,
   "id": "ebf0a694",
   "metadata": {},
   "outputs": [
    {
     "data": {
      "text/plain": [
       "Counter({'0': 28481,\n",
       "         '0-10': 920071,\n",
       "         '11-50': 49073,\n",
       "         '51-100': 147,\n",
       "         '100-200': 206,\n",
       "         '201-300': 5,\n",
       "         '>300': 1928})"
      ]
     },
     "execution_count": 73,
     "metadata": {},
     "output_type": "execute_result"
    }
   ],
   "source": [
    "# 주행거리별 빈도수\n",
    "Counter(dist_bins[\"bins\"])"
   ]
  },
  {
   "cell_type": "markdown",
   "id": "bb72860b",
   "metadata": {},
   "source": [
    "* 주행거리가 100km 이상인 값들은 이상치 처리하려고 했으나 꽤 많은 값들이 100이상이므로 이는 보류하고 다음과 같은 이상치들을 제거한다.\n",
    "1. pickup 경도와 위도는 0이고 dropoff 경도와 위도는 0이 아닌데 요금이 0인 경우\n",
    "2. pickup 경도와 위도는 0이 아니고 dropoff 경도와 위도는 0인데 요금이 0인 경우\n",
    "3.\n"
   ]
  },
  {
   "cell_type": "code",
   "execution_count": 75,
   "id": "7ba36b7f",
   "metadata": {},
   "outputs": [],
   "source": [
    "# 1. pickup latitude and longitude = 0 & dropoff latitude and longitude != 0\n",
    "drop1 = train.loc[((train['pickup_latitude']==0) & (train['pickup_longitude']==0))&((train['dropoff_latitude']!=0) & (train['dropoff_longitude']!=0)) & (train['fare_amount']==0)]"
   ]
  },
  {
   "cell_type": "code",
   "execution_count": 76,
   "id": "b79b4e54",
   "metadata": {},
   "outputs": [
    {
     "data": {
      "text/plain": [
       "(999910, 14)"
      ]
     },
     "execution_count": 76,
     "metadata": {},
     "output_type": "execute_result"
    }
   ],
   "source": [
    "train = train.drop(drop1.index, axis=0)\n",
    "train.shape"
   ]
  },
  {
   "cell_type": "code",
   "execution_count": 77,
   "id": "d5ca973d",
   "metadata": {},
   "outputs": [
    {
     "data": {
      "text/html": [
       "<div>\n",
       "<style scoped>\n",
       "    .dataframe tbody tr th:only-of-type {\n",
       "        vertical-align: middle;\n",
       "    }\n",
       "\n",
       "    .dataframe tbody tr th {\n",
       "        vertical-align: top;\n",
       "    }\n",
       "\n",
       "    .dataframe thead th {\n",
       "        text-align: right;\n",
       "    }\n",
       "</style>\n",
       "<table border=\"1\" class=\"dataframe\">\n",
       "  <thead>\n",
       "    <tr style=\"text-align: right;\">\n",
       "      <th></th>\n",
       "      <th>key</th>\n",
       "      <th>pickup_datetime</th>\n",
       "      <th>pickup_longitude</th>\n",
       "      <th>pickup_latitude</th>\n",
       "      <th>dropoff_longitude</th>\n",
       "      <th>dropoff_latitude</th>\n",
       "      <th>passenger_count</th>\n",
       "      <th>H_Distance</th>\n",
       "      <th>Year</th>\n",
       "      <th>Month</th>\n",
       "      <th>Date</th>\n",
       "      <th>Day of Week</th>\n",
       "      <th>Hour</th>\n",
       "    </tr>\n",
       "  </thead>\n",
       "  <tbody>\n",
       "  </tbody>\n",
       "</table>\n",
       "</div>"
      ],
      "text/plain": [
       "Empty DataFrame\n",
       "Columns: [key, pickup_datetime, pickup_longitude, pickup_latitude, dropoff_longitude, dropoff_latitude, passenger_count, H_Distance, Year, Month, Date, Day of Week, Hour]\n",
       "Index: []"
      ]
     },
     "execution_count": 77,
     "metadata": {},
     "output_type": "execute_result"
    }
   ],
   "source": [
    "#1. test 에서도 마찬가지로 이상치 확인 ->x\n",
    "test.loc[((test['pickup_latitude']==0) & (test['pickup_longitude']==0))&((test['dropoff_latitude']!=0) & (test['dropoff_longitude']!=0))]"
   ]
  },
  {
   "cell_type": "code",
   "execution_count": 78,
   "id": "d38947f6",
   "metadata": {},
   "outputs": [],
   "source": [
    "# 2. pickup latitude and longitude != 0 & dropoff latitude and longitude = 0\n",
    "drop2 = train.loc[((train['pickup_latitude']!=0) & (train['pickup_longitude']!=0))&((train['dropoff_latitude']==0) & (train['dropoff_longitude']==0)) & (train['fare_amount']==0)]"
   ]
  },
  {
   "cell_type": "code",
   "execution_count": 79,
   "id": "a789200d",
   "metadata": {},
   "outputs": [
    {
     "data": {
      "text/plain": [
       "(999907, 14)"
      ]
     },
     "execution_count": 79,
     "metadata": {},
     "output_type": "execute_result"
    }
   ],
   "source": [
    "train = train.drop(drop2.index, axis=0)\n",
    "train.shape"
   ]
  },
  {
   "cell_type": "code",
   "execution_count": 80,
   "id": "c48068ac",
   "metadata": {},
   "outputs": [
    {
     "data": {
      "text/html": [
       "<div>\n",
       "<style scoped>\n",
       "    .dataframe tbody tr th:only-of-type {\n",
       "        vertical-align: middle;\n",
       "    }\n",
       "\n",
       "    .dataframe tbody tr th {\n",
       "        vertical-align: top;\n",
       "    }\n",
       "\n",
       "    .dataframe thead th {\n",
       "        text-align: right;\n",
       "    }\n",
       "</style>\n",
       "<table border=\"1\" class=\"dataframe\">\n",
       "  <thead>\n",
       "    <tr style=\"text-align: right;\">\n",
       "      <th></th>\n",
       "      <th>key</th>\n",
       "      <th>pickup_datetime</th>\n",
       "      <th>pickup_longitude</th>\n",
       "      <th>pickup_latitude</th>\n",
       "      <th>dropoff_longitude</th>\n",
       "      <th>dropoff_latitude</th>\n",
       "      <th>passenger_count</th>\n",
       "      <th>H_Distance</th>\n",
       "      <th>Year</th>\n",
       "      <th>Month</th>\n",
       "      <th>Date</th>\n",
       "      <th>Day of Week</th>\n",
       "      <th>Hour</th>\n",
       "    </tr>\n",
       "  </thead>\n",
       "  <tbody>\n",
       "  </tbody>\n",
       "</table>\n",
       "</div>"
      ],
      "text/plain": [
       "Empty DataFrame\n",
       "Columns: [key, pickup_datetime, pickup_longitude, pickup_latitude, dropoff_longitude, dropoff_latitude, passenger_count, H_Distance, Year, Month, Date, Day of Week, Hour]\n",
       "Index: []"
      ]
     },
     "execution_count": 80,
     "metadata": {},
     "output_type": "execute_result"
    }
   ],
   "source": [
    "# 2. tet 에서도 마찬가지로 이상치 확인 -> x\n",
    "test.loc[((test['pickup_latitude']!=0) & (test['pickup_longitude']!=0))&((test['dropoff_latitude']==0) & (test['dropoff_longitude']==0))]"
   ]
  },
  {
   "cell_type": "code",
   "execution_count": 81,
   "id": "9b5e6f87",
   "metadata": {
    "scrolled": true
   },
   "outputs": [
    {
     "data": {
      "text/html": [
       "<div>\n",
       "<style scoped>\n",
       "    .dataframe tbody tr th:only-of-type {\n",
       "        vertical-align: middle;\n",
       "    }\n",
       "\n",
       "    .dataframe tbody tr th {\n",
       "        vertical-align: top;\n",
       "    }\n",
       "\n",
       "    .dataframe thead th {\n",
       "        text-align: right;\n",
       "    }\n",
       "</style>\n",
       "<table border=\"1\" class=\"dataframe\">\n",
       "  <thead>\n",
       "    <tr style=\"text-align: right;\">\n",
       "      <th></th>\n",
       "      <th>key</th>\n",
       "      <th>fare_amount</th>\n",
       "      <th>pickup_datetime</th>\n",
       "      <th>pickup_longitude</th>\n",
       "      <th>pickup_latitude</th>\n",
       "      <th>dropoff_longitude</th>\n",
       "      <th>dropoff_latitude</th>\n",
       "      <th>passenger_count</th>\n",
       "      <th>H_Distance</th>\n",
       "      <th>Year</th>\n",
       "      <th>Month</th>\n",
       "      <th>Date</th>\n",
       "      <th>Day of Week</th>\n",
       "      <th>Hour</th>\n",
       "    </tr>\n",
       "  </thead>\n",
       "  <tbody>\n",
       "    <tr>\n",
       "      <th>472</th>\n",
       "      <td>2009-02-22 22:48:00.000000130</td>\n",
       "      <td>2.5</td>\n",
       "      <td>2009-02-22 22:48:00+00:00</td>\n",
       "      <td>0.000000</td>\n",
       "      <td>0.000000</td>\n",
       "      <td>-74.005433</td>\n",
       "      <td>40.726685</td>\n",
       "      <td>2</td>\n",
       "      <td>8667.304968</td>\n",
       "      <td>2009</td>\n",
       "      <td>2</td>\n",
       "      <td>22</td>\n",
       "      <td>6</td>\n",
       "      <td>22</td>\n",
       "    </tr>\n",
       "    <tr>\n",
       "      <th>1260</th>\n",
       "      <td>2011-03-10 20:25:00.00000049</td>\n",
       "      <td>5.7</td>\n",
       "      <td>2011-03-10 20:25:00+00:00</td>\n",
       "      <td>-73.973907</td>\n",
       "      <td>40.754743</td>\n",
       "      <td>0.000000</td>\n",
       "      <td>0.000000</td>\n",
       "      <td>2</td>\n",
       "      <td>8665.268588</td>\n",
       "      <td>2011</td>\n",
       "      <td>3</td>\n",
       "      <td>10</td>\n",
       "      <td>3</td>\n",
       "      <td>20</td>\n",
       "    </tr>\n",
       "    <tr>\n",
       "      <th>2280</th>\n",
       "      <td>2011-08-29 08:24:00.000000107</td>\n",
       "      <td>8.9</td>\n",
       "      <td>2011-08-29 08:24:00+00:00</td>\n",
       "      <td>-73.936667</td>\n",
       "      <td>40.757815</td>\n",
       "      <td>0.000000</td>\n",
       "      <td>40.757815</td>\n",
       "      <td>1</td>\n",
       "      <td>6026.494216</td>\n",
       "      <td>2011</td>\n",
       "      <td>8</td>\n",
       "      <td>29</td>\n",
       "      <td>0</td>\n",
       "      <td>8</td>\n",
       "    </tr>\n",
       "    <tr>\n",
       "      <th>2397</th>\n",
       "      <td>2012-06-24 17:11:10.0000001</td>\n",
       "      <td>45.0</td>\n",
       "      <td>2012-06-24 17:11:10+00:00</td>\n",
       "      <td>0.000000</td>\n",
       "      <td>0.000000</td>\n",
       "      <td>-74.010230</td>\n",
       "      <td>40.714553</td>\n",
       "      <td>2</td>\n",
       "      <td>8667.454421</td>\n",
       "      <td>2012</td>\n",
       "      <td>6</td>\n",
       "      <td>24</td>\n",
       "      <td>6</td>\n",
       "      <td>17</td>\n",
       "    </tr>\n",
       "    <tr>\n",
       "      <th>4278</th>\n",
       "      <td>2015-04-07 23:33:02.0000005</td>\n",
       "      <td>7.0</td>\n",
       "      <td>2015-04-07 23:33:02+00:00</td>\n",
       "      <td>-73.972702</td>\n",
       "      <td>40.757423</td>\n",
       "      <td>0.000000</td>\n",
       "      <td>0.000000</td>\n",
       "      <td>1</td>\n",
       "      <td>8665.223767</td>\n",
       "      <td>2015</td>\n",
       "      <td>4</td>\n",
       "      <td>7</td>\n",
       "      <td>1</td>\n",
       "      <td>23</td>\n",
       "    </tr>\n",
       "    <tr>\n",
       "      <th>...</th>\n",
       "      <td>...</td>\n",
       "      <td>...</td>\n",
       "      <td>...</td>\n",
       "      <td>...</td>\n",
       "      <td>...</td>\n",
       "      <td>...</td>\n",
       "      <td>...</td>\n",
       "      <td>...</td>\n",
       "      <td>...</td>\n",
       "      <td>...</td>\n",
       "      <td>...</td>\n",
       "      <td>...</td>\n",
       "      <td>...</td>\n",
       "      <td>...</td>\n",
       "    </tr>\n",
       "    <tr>\n",
       "      <th>997656</th>\n",
       "      <td>2012-01-21 01:43:00.000000134</td>\n",
       "      <td>26.5</td>\n",
       "      <td>2012-01-21 01:43:00+00:00</td>\n",
       "      <td>0.000000</td>\n",
       "      <td>0.000000</td>\n",
       "      <td>-73.954157</td>\n",
       "      <td>40.741552</td>\n",
       "      <td>1</td>\n",
       "      <td>8663.362917</td>\n",
       "      <td>2012</td>\n",
       "      <td>1</td>\n",
       "      <td>21</td>\n",
       "      <td>5</td>\n",
       "      <td>1</td>\n",
       "    </tr>\n",
       "    <tr>\n",
       "      <th>997786</th>\n",
       "      <td>2012-02-27 21:12:17.0000003</td>\n",
       "      <td>13.7</td>\n",
       "      <td>2012-02-27 21:12:17+00:00</td>\n",
       "      <td>-73.991041</td>\n",
       "      <td>40.733201</td>\n",
       "      <td>0.000000</td>\n",
       "      <td>0.000000</td>\n",
       "      <td>1</td>\n",
       "      <td>8666.246213</td>\n",
       "      <td>2012</td>\n",
       "      <td>2</td>\n",
       "      <td>27</td>\n",
       "      <td>0</td>\n",
       "      <td>21</td>\n",
       "    </tr>\n",
       "    <tr>\n",
       "      <th>998269</th>\n",
       "      <td>2012-10-19 16:56:00.0000003</td>\n",
       "      <td>32.3</td>\n",
       "      <td>2012-10-19 16:56:00+00:00</td>\n",
       "      <td>0.000000</td>\n",
       "      <td>40.750597</td>\n",
       "      <td>-73.863035</td>\n",
       "      <td>40.767178</td>\n",
       "      <td>1</td>\n",
       "      <td>6020.822520</td>\n",
       "      <td>2012</td>\n",
       "      <td>10</td>\n",
       "      <td>19</td>\n",
       "      <td>4</td>\n",
       "      <td>16</td>\n",
       "    </tr>\n",
       "    <tr>\n",
       "      <th>998717</th>\n",
       "      <td>2014-07-24 21:48:00.000000155</td>\n",
       "      <td>6.5</td>\n",
       "      <td>2014-07-24 21:48:00+00:00</td>\n",
       "      <td>0.000000</td>\n",
       "      <td>0.000000</td>\n",
       "      <td>-73.991420</td>\n",
       "      <td>40.750400</td>\n",
       "      <td>1</td>\n",
       "      <td>8666.629589</td>\n",
       "      <td>2014</td>\n",
       "      <td>7</td>\n",
       "      <td>24</td>\n",
       "      <td>3</td>\n",
       "      <td>21</td>\n",
       "    </tr>\n",
       "    <tr>\n",
       "      <th>999338</th>\n",
       "      <td>2014-10-20 16:56:24.0000002</td>\n",
       "      <td>4.0</td>\n",
       "      <td>2014-10-20 16:56:24+00:00</td>\n",
       "      <td>0.000000</td>\n",
       "      <td>0.000000</td>\n",
       "      <td>-73.992518</td>\n",
       "      <td>40.741942</td>\n",
       "      <td>1</td>\n",
       "      <td>8666.547400</td>\n",
       "      <td>2014</td>\n",
       "      <td>10</td>\n",
       "      <td>20</td>\n",
       "      <td>0</td>\n",
       "      <td>16</td>\n",
       "    </tr>\n",
       "  </tbody>\n",
       "</table>\n",
       "<p>1929 rows × 14 columns</p>\n",
       "</div>"
      ],
      "text/plain": [
       "                                  key  fare_amount           pickup_datetime  \\\n",
       "472     2009-02-22 22:48:00.000000130          2.5 2009-02-22 22:48:00+00:00   \n",
       "1260     2011-03-10 20:25:00.00000049          5.7 2011-03-10 20:25:00+00:00   \n",
       "2280    2011-08-29 08:24:00.000000107          8.9 2011-08-29 08:24:00+00:00   \n",
       "2397      2012-06-24 17:11:10.0000001         45.0 2012-06-24 17:11:10+00:00   \n",
       "4278      2015-04-07 23:33:02.0000005          7.0 2015-04-07 23:33:02+00:00   \n",
       "...                               ...          ...                       ...   \n",
       "997656  2012-01-21 01:43:00.000000134         26.5 2012-01-21 01:43:00+00:00   \n",
       "997786    2012-02-27 21:12:17.0000003         13.7 2012-02-27 21:12:17+00:00   \n",
       "998269    2012-10-19 16:56:00.0000003         32.3 2012-10-19 16:56:00+00:00   \n",
       "998717  2014-07-24 21:48:00.000000155          6.5 2014-07-24 21:48:00+00:00   \n",
       "999338    2014-10-20 16:56:24.0000002          4.0 2014-10-20 16:56:24+00:00   \n",
       "\n",
       "        pickup_longitude  pickup_latitude  dropoff_longitude  \\\n",
       "472             0.000000         0.000000         -74.005433   \n",
       "1260          -73.973907        40.754743           0.000000   \n",
       "2280          -73.936667        40.757815           0.000000   \n",
       "2397            0.000000         0.000000         -74.010230   \n",
       "4278          -73.972702        40.757423           0.000000   \n",
       "...                  ...              ...                ...   \n",
       "997656          0.000000         0.000000         -73.954157   \n",
       "997786        -73.991041        40.733201           0.000000   \n",
       "998269          0.000000        40.750597         -73.863035   \n",
       "998717          0.000000         0.000000         -73.991420   \n",
       "999338          0.000000         0.000000         -73.992518   \n",
       "\n",
       "        dropoff_latitude  passenger_count   H_Distance  Year  Month  Date  \\\n",
       "472            40.726685                2  8667.304968  2009      2    22   \n",
       "1260            0.000000                2  8665.268588  2011      3    10   \n",
       "2280           40.757815                1  6026.494216  2011      8    29   \n",
       "2397           40.714553                2  8667.454421  2012      6    24   \n",
       "4278            0.000000                1  8665.223767  2015      4     7   \n",
       "...                  ...              ...          ...   ...    ...   ...   \n",
       "997656         40.741552                1  8663.362917  2012      1    21   \n",
       "997786          0.000000                1  8666.246213  2012      2    27   \n",
       "998269         40.767178                1  6020.822520  2012     10    19   \n",
       "998717         40.750400                1  8666.629589  2014      7    24   \n",
       "999338         40.741942                1  8666.547400  2014     10    20   \n",
       "\n",
       "        Day of Week  Hour  \n",
       "472               6    22  \n",
       "1260              3    20  \n",
       "2280              0     8  \n",
       "2397              6    17  \n",
       "4278              1    23  \n",
       "...             ...   ...  \n",
       "997656            5     1  \n",
       "997786            0    21  \n",
       "998269            4    16  \n",
       "998717            3    21  \n",
       "999338            0    16  \n",
       "\n",
       "[1929 rows x 14 columns]"
      ]
     },
     "execution_count": 81,
     "metadata": {},
     "output_type": "execute_result"
    }
   ],
   "source": [
    "# 3. 뉴욕안에서 택시를 타고 200km이상 가는건 말이 안됨 -> 이 중 요금이 0원이 아닌거만 보기\n",
    "# high_dstance 는 주행거리가 200km 이상인거\n",
    "high_distance = train.loc[(train[\"H_Distance\"]>200)&(train[\"fare_amount\"]!=0)]\n",
    "high_distance"
   ]
  },
  {
   "cell_type": "markdown",
   "id": "a38cba1c",
   "metadata": {},
   "source": [
    "* 1929개의 굉장히 많은 데이터가 있음을 알 수 있음. 데이터가 많기도 하고 요금도 있으니까 제거하지 않기로 결정. 대신, 초기 거리 값을 다음 공식을 사용하여 요금을 계산한 거리 값으로 대체 (요금을 위도경도를 사용하면 이상하게 나오는 값이 많으니까 아래 공식을 이용하여 거리를 다시 설정한다는 뜻)\n",
    "* distance = (fare_amount - 2.5)/1.56\n",
    "* 뉴욕택시 기본요금 $2.5 , 추가요금 $1.56/km"
   ]
  },
  {
   "cell_type": "code",
   "execution_count": 82,
   "id": "47624623",
   "metadata": {},
   "outputs": [
    {
     "name": "stderr",
     "output_type": "stream",
     "text": [
      "/var/folders/b9/tj0xrps92c72qmrbfg4n9jb00000gn/T/ipykernel_2206/702157327.py:2: SettingWithCopyWarning: \n",
      "A value is trying to be set on a copy of a slice from a DataFrame.\n",
      "Try using .loc[row_indexer,col_indexer] = value instead\n",
      "\n",
      "See the caveats in the documentation: https://pandas.pydata.org/pandas-docs/stable/user_guide/indexing.html#returning-a-view-versus-a-copy\n",
      "  high_distance['H_Distance'] = high_distance.apply(\n"
     ]
    }
   ],
   "source": [
    "# distance = (fare_amount - 2.5)/1.56 로 대체 \n",
    "high_distance['H_Distance'] = high_distance.apply(\n",
    "    lambda row: (row['fare_amount'] - 2.50)/1.56,\n",
    "    axis=1\n",
    ")"
   ]
  },
  {
   "cell_type": "code",
   "execution_count": 83,
   "id": "5df22a09",
   "metadata": {
    "scrolled": true
   },
   "outputs": [
    {
     "data": {
      "text/html": [
       "<div>\n",
       "<style scoped>\n",
       "    .dataframe tbody tr th:only-of-type {\n",
       "        vertical-align: middle;\n",
       "    }\n",
       "\n",
       "    .dataframe tbody tr th {\n",
       "        vertical-align: top;\n",
       "    }\n",
       "\n",
       "    .dataframe thead th {\n",
       "        text-align: right;\n",
       "    }\n",
       "</style>\n",
       "<table border=\"1\" class=\"dataframe\">\n",
       "  <thead>\n",
       "    <tr style=\"text-align: right;\">\n",
       "      <th></th>\n",
       "      <th>key</th>\n",
       "      <th>fare_amount</th>\n",
       "      <th>pickup_datetime</th>\n",
       "      <th>pickup_longitude</th>\n",
       "      <th>pickup_latitude</th>\n",
       "      <th>dropoff_longitude</th>\n",
       "      <th>dropoff_latitude</th>\n",
       "      <th>passenger_count</th>\n",
       "      <th>H_Distance</th>\n",
       "      <th>Year</th>\n",
       "      <th>Month</th>\n",
       "      <th>Date</th>\n",
       "      <th>Day of Week</th>\n",
       "      <th>Hour</th>\n",
       "    </tr>\n",
       "  </thead>\n",
       "  <tbody>\n",
       "    <tr>\n",
       "      <th>472</th>\n",
       "      <td>2009-02-22 22:48:00.000000130</td>\n",
       "      <td>2.5</td>\n",
       "      <td>2009-02-22 22:48:00+00:00</td>\n",
       "      <td>0.000000</td>\n",
       "      <td>0.000000</td>\n",
       "      <td>-74.005433</td>\n",
       "      <td>40.726685</td>\n",
       "      <td>2</td>\n",
       "      <td>0.000000</td>\n",
       "      <td>2009</td>\n",
       "      <td>2</td>\n",
       "      <td>22</td>\n",
       "      <td>6</td>\n",
       "      <td>22</td>\n",
       "    </tr>\n",
       "    <tr>\n",
       "      <th>1260</th>\n",
       "      <td>2011-03-10 20:25:00.00000049</td>\n",
       "      <td>5.7</td>\n",
       "      <td>2011-03-10 20:25:00+00:00</td>\n",
       "      <td>-73.973907</td>\n",
       "      <td>40.754743</td>\n",
       "      <td>0.000000</td>\n",
       "      <td>0.000000</td>\n",
       "      <td>2</td>\n",
       "      <td>2.051282</td>\n",
       "      <td>2011</td>\n",
       "      <td>3</td>\n",
       "      <td>10</td>\n",
       "      <td>3</td>\n",
       "      <td>20</td>\n",
       "    </tr>\n",
       "    <tr>\n",
       "      <th>2280</th>\n",
       "      <td>2011-08-29 08:24:00.000000107</td>\n",
       "      <td>8.9</td>\n",
       "      <td>2011-08-29 08:24:00+00:00</td>\n",
       "      <td>-73.936667</td>\n",
       "      <td>40.757815</td>\n",
       "      <td>0.000000</td>\n",
       "      <td>40.757815</td>\n",
       "      <td>1</td>\n",
       "      <td>4.102564</td>\n",
       "      <td>2011</td>\n",
       "      <td>8</td>\n",
       "      <td>29</td>\n",
       "      <td>0</td>\n",
       "      <td>8</td>\n",
       "    </tr>\n",
       "    <tr>\n",
       "      <th>2397</th>\n",
       "      <td>2012-06-24 17:11:10.0000001</td>\n",
       "      <td>45.0</td>\n",
       "      <td>2012-06-24 17:11:10+00:00</td>\n",
       "      <td>0.000000</td>\n",
       "      <td>0.000000</td>\n",
       "      <td>-74.010230</td>\n",
       "      <td>40.714553</td>\n",
       "      <td>2</td>\n",
       "      <td>27.243590</td>\n",
       "      <td>2012</td>\n",
       "      <td>6</td>\n",
       "      <td>24</td>\n",
       "      <td>6</td>\n",
       "      <td>17</td>\n",
       "    </tr>\n",
       "    <tr>\n",
       "      <th>4278</th>\n",
       "      <td>2015-04-07 23:33:02.0000005</td>\n",
       "      <td>7.0</td>\n",
       "      <td>2015-04-07 23:33:02+00:00</td>\n",
       "      <td>-73.972702</td>\n",
       "      <td>40.757423</td>\n",
       "      <td>0.000000</td>\n",
       "      <td>0.000000</td>\n",
       "      <td>1</td>\n",
       "      <td>2.884615</td>\n",
       "      <td>2015</td>\n",
       "      <td>4</td>\n",
       "      <td>7</td>\n",
       "      <td>1</td>\n",
       "      <td>23</td>\n",
       "    </tr>\n",
       "    <tr>\n",
       "      <th>...</th>\n",
       "      <td>...</td>\n",
       "      <td>...</td>\n",
       "      <td>...</td>\n",
       "      <td>...</td>\n",
       "      <td>...</td>\n",
       "      <td>...</td>\n",
       "      <td>...</td>\n",
       "      <td>...</td>\n",
       "      <td>...</td>\n",
       "      <td>...</td>\n",
       "      <td>...</td>\n",
       "      <td>...</td>\n",
       "      <td>...</td>\n",
       "      <td>...</td>\n",
       "    </tr>\n",
       "    <tr>\n",
       "      <th>997656</th>\n",
       "      <td>2012-01-21 01:43:00.000000134</td>\n",
       "      <td>26.5</td>\n",
       "      <td>2012-01-21 01:43:00+00:00</td>\n",
       "      <td>0.000000</td>\n",
       "      <td>0.000000</td>\n",
       "      <td>-73.954157</td>\n",
       "      <td>40.741552</td>\n",
       "      <td>1</td>\n",
       "      <td>15.384615</td>\n",
       "      <td>2012</td>\n",
       "      <td>1</td>\n",
       "      <td>21</td>\n",
       "      <td>5</td>\n",
       "      <td>1</td>\n",
       "    </tr>\n",
       "    <tr>\n",
       "      <th>997786</th>\n",
       "      <td>2012-02-27 21:12:17.0000003</td>\n",
       "      <td>13.7</td>\n",
       "      <td>2012-02-27 21:12:17+00:00</td>\n",
       "      <td>-73.991041</td>\n",
       "      <td>40.733201</td>\n",
       "      <td>0.000000</td>\n",
       "      <td>0.000000</td>\n",
       "      <td>1</td>\n",
       "      <td>7.179487</td>\n",
       "      <td>2012</td>\n",
       "      <td>2</td>\n",
       "      <td>27</td>\n",
       "      <td>0</td>\n",
       "      <td>21</td>\n",
       "    </tr>\n",
       "    <tr>\n",
       "      <th>998269</th>\n",
       "      <td>2012-10-19 16:56:00.0000003</td>\n",
       "      <td>32.3</td>\n",
       "      <td>2012-10-19 16:56:00+00:00</td>\n",
       "      <td>0.000000</td>\n",
       "      <td>40.750597</td>\n",
       "      <td>-73.863035</td>\n",
       "      <td>40.767178</td>\n",
       "      <td>1</td>\n",
       "      <td>19.102564</td>\n",
       "      <td>2012</td>\n",
       "      <td>10</td>\n",
       "      <td>19</td>\n",
       "      <td>4</td>\n",
       "      <td>16</td>\n",
       "    </tr>\n",
       "    <tr>\n",
       "      <th>998717</th>\n",
       "      <td>2014-07-24 21:48:00.000000155</td>\n",
       "      <td>6.5</td>\n",
       "      <td>2014-07-24 21:48:00+00:00</td>\n",
       "      <td>0.000000</td>\n",
       "      <td>0.000000</td>\n",
       "      <td>-73.991420</td>\n",
       "      <td>40.750400</td>\n",
       "      <td>1</td>\n",
       "      <td>2.564103</td>\n",
       "      <td>2014</td>\n",
       "      <td>7</td>\n",
       "      <td>24</td>\n",
       "      <td>3</td>\n",
       "      <td>21</td>\n",
       "    </tr>\n",
       "    <tr>\n",
       "      <th>999338</th>\n",
       "      <td>2014-10-20 16:56:24.0000002</td>\n",
       "      <td>4.0</td>\n",
       "      <td>2014-10-20 16:56:24+00:00</td>\n",
       "      <td>0.000000</td>\n",
       "      <td>0.000000</td>\n",
       "      <td>-73.992518</td>\n",
       "      <td>40.741942</td>\n",
       "      <td>1</td>\n",
       "      <td>0.961538</td>\n",
       "      <td>2014</td>\n",
       "      <td>10</td>\n",
       "      <td>20</td>\n",
       "      <td>0</td>\n",
       "      <td>16</td>\n",
       "    </tr>\n",
       "  </tbody>\n",
       "</table>\n",
       "<p>1929 rows × 14 columns</p>\n",
       "</div>"
      ],
      "text/plain": [
       "                                  key  fare_amount           pickup_datetime  \\\n",
       "472     2009-02-22 22:48:00.000000130          2.5 2009-02-22 22:48:00+00:00   \n",
       "1260     2011-03-10 20:25:00.00000049          5.7 2011-03-10 20:25:00+00:00   \n",
       "2280    2011-08-29 08:24:00.000000107          8.9 2011-08-29 08:24:00+00:00   \n",
       "2397      2012-06-24 17:11:10.0000001         45.0 2012-06-24 17:11:10+00:00   \n",
       "4278      2015-04-07 23:33:02.0000005          7.0 2015-04-07 23:33:02+00:00   \n",
       "...                               ...          ...                       ...   \n",
       "997656  2012-01-21 01:43:00.000000134         26.5 2012-01-21 01:43:00+00:00   \n",
       "997786    2012-02-27 21:12:17.0000003         13.7 2012-02-27 21:12:17+00:00   \n",
       "998269    2012-10-19 16:56:00.0000003         32.3 2012-10-19 16:56:00+00:00   \n",
       "998717  2014-07-24 21:48:00.000000155          6.5 2014-07-24 21:48:00+00:00   \n",
       "999338    2014-10-20 16:56:24.0000002          4.0 2014-10-20 16:56:24+00:00   \n",
       "\n",
       "        pickup_longitude  pickup_latitude  dropoff_longitude  \\\n",
       "472             0.000000         0.000000         -74.005433   \n",
       "1260          -73.973907        40.754743           0.000000   \n",
       "2280          -73.936667        40.757815           0.000000   \n",
       "2397            0.000000         0.000000         -74.010230   \n",
       "4278          -73.972702        40.757423           0.000000   \n",
       "...                  ...              ...                ...   \n",
       "997656          0.000000         0.000000         -73.954157   \n",
       "997786        -73.991041        40.733201           0.000000   \n",
       "998269          0.000000        40.750597         -73.863035   \n",
       "998717          0.000000         0.000000         -73.991420   \n",
       "999338          0.000000         0.000000         -73.992518   \n",
       "\n",
       "        dropoff_latitude  passenger_count  H_Distance  Year  Month  Date  \\\n",
       "472            40.726685                2    0.000000  2009      2    22   \n",
       "1260            0.000000                2    2.051282  2011      3    10   \n",
       "2280           40.757815                1    4.102564  2011      8    29   \n",
       "2397           40.714553                2   27.243590  2012      6    24   \n",
       "4278            0.000000                1    2.884615  2015      4     7   \n",
       "...                  ...              ...         ...   ...    ...   ...   \n",
       "997656         40.741552                1   15.384615  2012      1    21   \n",
       "997786          0.000000                1    7.179487  2012      2    27   \n",
       "998269         40.767178                1   19.102564  2012     10    19   \n",
       "998717         40.750400                1    2.564103  2014      7    24   \n",
       "999338         40.741942                1    0.961538  2014     10    20   \n",
       "\n",
       "        Day of Week  Hour  \n",
       "472               6    22  \n",
       "1260              3    20  \n",
       "2280              0     8  \n",
       "2397              6    17  \n",
       "4278              1    23  \n",
       "...             ...   ...  \n",
       "997656            5     1  \n",
       "997786            0    21  \n",
       "998269            4    16  \n",
       "998717            3    21  \n",
       "999338            0    16  \n",
       "\n",
       "[1929 rows x 14 columns]"
      ]
     },
     "execution_count": 83,
     "metadata": {},
     "output_type": "execute_result"
    }
   ],
   "source": [
    "high_distance"
   ]
  },
  {
   "cell_type": "code",
   "execution_count": 84,
   "id": "2e386370",
   "metadata": {},
   "outputs": [],
   "source": [
    "train.update(high_distance)"
   ]
  },
  {
   "cell_type": "code",
   "execution_count": 85,
   "id": "61f17717",
   "metadata": {},
   "outputs": [
    {
     "data": {
      "text/plain": [
       "(999907, 14)"
      ]
     },
     "execution_count": 85,
     "metadata": {},
     "output_type": "execute_result"
    }
   ],
   "source": [
    "train.shape"
   ]
  },
  {
   "cell_type": "markdown",
   "id": "2d4b83e7",
   "metadata": {},
   "source": [
    "### 주행거리가 0인 데이터"
   ]
  },
  {
   "cell_type": "code",
   "execution_count": 86,
   "id": "4a7d26d1",
   "metadata": {},
   "outputs": [
    {
     "data": {
      "text/html": [
       "<div>\n",
       "<style scoped>\n",
       "    .dataframe tbody tr th:only-of-type {\n",
       "        vertical-align: middle;\n",
       "    }\n",
       "\n",
       "    .dataframe tbody tr th {\n",
       "        vertical-align: top;\n",
       "    }\n",
       "\n",
       "    .dataframe thead th {\n",
       "        text-align: right;\n",
       "    }\n",
       "</style>\n",
       "<table border=\"1\" class=\"dataframe\">\n",
       "  <thead>\n",
       "    <tr style=\"text-align: right;\">\n",
       "      <th></th>\n",
       "      <th>key</th>\n",
       "      <th>fare_amount</th>\n",
       "      <th>pickup_datetime</th>\n",
       "      <th>pickup_longitude</th>\n",
       "      <th>pickup_latitude</th>\n",
       "      <th>dropoff_longitude</th>\n",
       "      <th>dropoff_latitude</th>\n",
       "      <th>passenger_count</th>\n",
       "      <th>H_Distance</th>\n",
       "      <th>Year</th>\n",
       "      <th>Month</th>\n",
       "      <th>Date</th>\n",
       "      <th>Day of Week</th>\n",
       "      <th>Hour</th>\n",
       "    </tr>\n",
       "  </thead>\n",
       "  <tbody>\n",
       "    <tr>\n",
       "      <th>11</th>\n",
       "      <td>2012-12-24 11:24:00.00000098</td>\n",
       "      <td>5.5</td>\n",
       "      <td>2012-12-24 11:24:00+00:00</td>\n",
       "      <td>0.000000</td>\n",
       "      <td>0.000000</td>\n",
       "      <td>0.000000</td>\n",
       "      <td>0.000000</td>\n",
       "      <td>3.0</td>\n",
       "      <td>0.0</td>\n",
       "      <td>2012.0</td>\n",
       "      <td>12.0</td>\n",
       "      <td>24.0</td>\n",
       "      <td>0.0</td>\n",
       "      <td>11.0</td>\n",
       "    </tr>\n",
       "    <tr>\n",
       "      <th>15</th>\n",
       "      <td>2013-11-23 12:57:00.000000190</td>\n",
       "      <td>5.0</td>\n",
       "      <td>2013-11-23 12:57:00+00:00</td>\n",
       "      <td>0.000000</td>\n",
       "      <td>0.000000</td>\n",
       "      <td>0.000000</td>\n",
       "      <td>0.000000</td>\n",
       "      <td>1.0</td>\n",
       "      <td>0.0</td>\n",
       "      <td>2013.0</td>\n",
       "      <td>11.0</td>\n",
       "      <td>23.0</td>\n",
       "      <td>5.0</td>\n",
       "      <td>12.0</td>\n",
       "    </tr>\n",
       "    <tr>\n",
       "      <th>26</th>\n",
       "      <td>2011-02-07 20:01:00.000000114</td>\n",
       "      <td>6.5</td>\n",
       "      <td>2011-02-07 20:01:00+00:00</td>\n",
       "      <td>0.000000</td>\n",
       "      <td>0.000000</td>\n",
       "      <td>0.000000</td>\n",
       "      <td>0.000000</td>\n",
       "      <td>1.0</td>\n",
       "      <td>0.0</td>\n",
       "      <td>2011.0</td>\n",
       "      <td>2.0</td>\n",
       "      <td>7.0</td>\n",
       "      <td>0.0</td>\n",
       "      <td>20.0</td>\n",
       "    </tr>\n",
       "    <tr>\n",
       "      <th>105</th>\n",
       "      <td>2009-03-25 00:08:52.0000001</td>\n",
       "      <td>52.0</td>\n",
       "      <td>2009-03-25 00:08:52+00:00</td>\n",
       "      <td>-74.035839</td>\n",
       "      <td>40.747320</td>\n",
       "      <td>-74.035839</td>\n",
       "      <td>40.747320</td>\n",
       "      <td>1.0</td>\n",
       "      <td>0.0</td>\n",
       "      <td>2009.0</td>\n",
       "      <td>3.0</td>\n",
       "      <td>25.0</td>\n",
       "      <td>2.0</td>\n",
       "      <td>0.0</td>\n",
       "    </tr>\n",
       "    <tr>\n",
       "      <th>124</th>\n",
       "      <td>2013-01-17 17:22:00.00000043</td>\n",
       "      <td>8.0</td>\n",
       "      <td>2013-01-17 17:22:00+00:00</td>\n",
       "      <td>0.000000</td>\n",
       "      <td>0.000000</td>\n",
       "      <td>0.000000</td>\n",
       "      <td>0.000000</td>\n",
       "      <td>2.0</td>\n",
       "      <td>0.0</td>\n",
       "      <td>2013.0</td>\n",
       "      <td>1.0</td>\n",
       "      <td>17.0</td>\n",
       "      <td>3.0</td>\n",
       "      <td>17.0</td>\n",
       "    </tr>\n",
       "    <tr>\n",
       "      <th>...</th>\n",
       "      <td>...</td>\n",
       "      <td>...</td>\n",
       "      <td>...</td>\n",
       "      <td>...</td>\n",
       "      <td>...</td>\n",
       "      <td>...</td>\n",
       "      <td>...</td>\n",
       "      <td>...</td>\n",
       "      <td>...</td>\n",
       "      <td>...</td>\n",
       "      <td>...</td>\n",
       "      <td>...</td>\n",
       "      <td>...</td>\n",
       "      <td>...</td>\n",
       "    </tr>\n",
       "    <tr>\n",
       "      <th>999888</th>\n",
       "      <td>2010-04-28 21:08:00.00000038</td>\n",
       "      <td>9.3</td>\n",
       "      <td>2010-04-28 21:08:00+00:00</td>\n",
       "      <td>0.000000</td>\n",
       "      <td>0.000000</td>\n",
       "      <td>0.000000</td>\n",
       "      <td>0.000000</td>\n",
       "      <td>3.0</td>\n",
       "      <td>0.0</td>\n",
       "      <td>2010.0</td>\n",
       "      <td>4.0</td>\n",
       "      <td>28.0</td>\n",
       "      <td>2.0</td>\n",
       "      <td>21.0</td>\n",
       "    </tr>\n",
       "    <tr>\n",
       "      <th>999915</th>\n",
       "      <td>2014-05-12 02:34:05.0000001</td>\n",
       "      <td>8.0</td>\n",
       "      <td>2014-05-12 02:34:05+00:00</td>\n",
       "      <td>0.000000</td>\n",
       "      <td>0.000000</td>\n",
       "      <td>0.000000</td>\n",
       "      <td>0.000000</td>\n",
       "      <td>2.0</td>\n",
       "      <td>0.0</td>\n",
       "      <td>2014.0</td>\n",
       "      <td>5.0</td>\n",
       "      <td>12.0</td>\n",
       "      <td>0.0</td>\n",
       "      <td>2.0</td>\n",
       "    </tr>\n",
       "    <tr>\n",
       "      <th>999931</th>\n",
       "      <td>2012-03-05 22:22:00.000000181</td>\n",
       "      <td>6.9</td>\n",
       "      <td>2012-03-05 22:22:00+00:00</td>\n",
       "      <td>-73.970005</td>\n",
       "      <td>40.713008</td>\n",
       "      <td>-73.970005</td>\n",
       "      <td>40.713008</td>\n",
       "      <td>5.0</td>\n",
       "      <td>0.0</td>\n",
       "      <td>2012.0</td>\n",
       "      <td>3.0</td>\n",
       "      <td>5.0</td>\n",
       "      <td>0.0</td>\n",
       "      <td>22.0</td>\n",
       "    </tr>\n",
       "    <tr>\n",
       "      <th>999988</th>\n",
       "      <td>2011-05-14 07:21:00.00000014</td>\n",
       "      <td>25.3</td>\n",
       "      <td>2011-05-14 07:21:00+00:00</td>\n",
       "      <td>-73.937393</td>\n",
       "      <td>40.757975</td>\n",
       "      <td>-73.937393</td>\n",
       "      <td>40.757975</td>\n",
       "      <td>5.0</td>\n",
       "      <td>0.0</td>\n",
       "      <td>2011.0</td>\n",
       "      <td>5.0</td>\n",
       "      <td>14.0</td>\n",
       "      <td>5.0</td>\n",
       "      <td>7.0</td>\n",
       "    </tr>\n",
       "    <tr>\n",
       "      <th>999996</th>\n",
       "      <td>2010-09-20 14:50:37.0000002</td>\n",
       "      <td>7.3</td>\n",
       "      <td>2010-09-20 14:50:37+00:00</td>\n",
       "      <td>-73.992103</td>\n",
       "      <td>40.671385</td>\n",
       "      <td>-73.992103</td>\n",
       "      <td>40.671385</td>\n",
       "      <td>2.0</td>\n",
       "      <td>0.0</td>\n",
       "      <td>2010.0</td>\n",
       "      <td>9.0</td>\n",
       "      <td>20.0</td>\n",
       "      <td>0.0</td>\n",
       "      <td>14.0</td>\n",
       "    </tr>\n",
       "  </tbody>\n",
       "</table>\n",
       "<p>28667 rows × 14 columns</p>\n",
       "</div>"
      ],
      "text/plain": [
       "                                  key  fare_amount           pickup_datetime  \\\n",
       "11       2012-12-24 11:24:00.00000098          5.5 2012-12-24 11:24:00+00:00   \n",
       "15      2013-11-23 12:57:00.000000190          5.0 2013-11-23 12:57:00+00:00   \n",
       "26      2011-02-07 20:01:00.000000114          6.5 2011-02-07 20:01:00+00:00   \n",
       "105       2009-03-25 00:08:52.0000001         52.0 2009-03-25 00:08:52+00:00   \n",
       "124      2013-01-17 17:22:00.00000043          8.0 2013-01-17 17:22:00+00:00   \n",
       "...                               ...          ...                       ...   \n",
       "999888   2010-04-28 21:08:00.00000038          9.3 2010-04-28 21:08:00+00:00   \n",
       "999915    2014-05-12 02:34:05.0000001          8.0 2014-05-12 02:34:05+00:00   \n",
       "999931  2012-03-05 22:22:00.000000181          6.9 2012-03-05 22:22:00+00:00   \n",
       "999988   2011-05-14 07:21:00.00000014         25.3 2011-05-14 07:21:00+00:00   \n",
       "999996    2010-09-20 14:50:37.0000002          7.3 2010-09-20 14:50:37+00:00   \n",
       "\n",
       "        pickup_longitude  pickup_latitude  dropoff_longitude  \\\n",
       "11              0.000000         0.000000           0.000000   \n",
       "15              0.000000         0.000000           0.000000   \n",
       "26              0.000000         0.000000           0.000000   \n",
       "105           -74.035839        40.747320         -74.035839   \n",
       "124             0.000000         0.000000           0.000000   \n",
       "...                  ...              ...                ...   \n",
       "999888          0.000000         0.000000           0.000000   \n",
       "999915          0.000000         0.000000           0.000000   \n",
       "999931        -73.970005        40.713008         -73.970005   \n",
       "999988        -73.937393        40.757975         -73.937393   \n",
       "999996        -73.992103        40.671385         -73.992103   \n",
       "\n",
       "        dropoff_latitude  passenger_count  H_Distance    Year  Month  Date  \\\n",
       "11              0.000000              3.0         0.0  2012.0   12.0  24.0   \n",
       "15              0.000000              1.0         0.0  2013.0   11.0  23.0   \n",
       "26              0.000000              1.0         0.0  2011.0    2.0   7.0   \n",
       "105            40.747320              1.0         0.0  2009.0    3.0  25.0   \n",
       "124             0.000000              2.0         0.0  2013.0    1.0  17.0   \n",
       "...                  ...              ...         ...     ...    ...   ...   \n",
       "999888          0.000000              3.0         0.0  2010.0    4.0  28.0   \n",
       "999915          0.000000              2.0         0.0  2014.0    5.0  12.0   \n",
       "999931         40.713008              5.0         0.0  2012.0    3.0   5.0   \n",
       "999988         40.757975              5.0         0.0  2011.0    5.0  14.0   \n",
       "999996         40.671385              2.0         0.0  2010.0    9.0  20.0   \n",
       "\n",
       "        Day of Week  Hour  \n",
       "11              0.0  11.0  \n",
       "15              5.0  12.0  \n",
       "26              0.0  20.0  \n",
       "105             2.0   0.0  \n",
       "124             3.0  17.0  \n",
       "...             ...   ...  \n",
       "999888          2.0  21.0  \n",
       "999915          0.0   2.0  \n",
       "999931          0.0  22.0  \n",
       "999988          5.0   7.0  \n",
       "999996          0.0  14.0  \n",
       "\n",
       "[28667 rows x 14 columns]"
      ]
     },
     "execution_count": 86,
     "metadata": {},
     "output_type": "execute_result"
    }
   ],
   "source": [
    "# 주행거리가 0인 데이터\n",
    "train[train[\"H_Distance\"]==0]"
   ]
  },
  {
   "cell_type": "markdown",
   "id": "84c61512",
   "metadata": {},
   "source": [
    "#### 시나리오1. 주행거리가 0이고 요금도 0 \n",
    "* -> 데이터에 영향을 미치지 않으므로 제거"
   ]
  },
  {
   "cell_type": "code",
   "execution_count": 88,
   "id": "5f7e06fe",
   "metadata": {},
   "outputs": [
    {
     "data": {
      "text/html": [
       "<div>\n",
       "<style scoped>\n",
       "    .dataframe tbody tr th:only-of-type {\n",
       "        vertical-align: middle;\n",
       "    }\n",
       "\n",
       "    .dataframe tbody tr th {\n",
       "        vertical-align: top;\n",
       "    }\n",
       "\n",
       "    .dataframe thead th {\n",
       "        text-align: right;\n",
       "    }\n",
       "</style>\n",
       "<table border=\"1\" class=\"dataframe\">\n",
       "  <thead>\n",
       "    <tr style=\"text-align: right;\">\n",
       "      <th></th>\n",
       "      <th>key</th>\n",
       "      <th>fare_amount</th>\n",
       "      <th>pickup_datetime</th>\n",
       "      <th>pickup_longitude</th>\n",
       "      <th>pickup_latitude</th>\n",
       "      <th>dropoff_longitude</th>\n",
       "      <th>dropoff_latitude</th>\n",
       "      <th>passenger_count</th>\n",
       "      <th>H_Distance</th>\n",
       "      <th>Year</th>\n",
       "      <th>Month</th>\n",
       "      <th>Date</th>\n",
       "      <th>Day of Week</th>\n",
       "      <th>Hour</th>\n",
       "    </tr>\n",
       "  </thead>\n",
       "  <tbody>\n",
       "    <tr>\n",
       "      <th>105051</th>\n",
       "      <td>2013-08-21 21:41:00.000000215</td>\n",
       "      <td>0.0</td>\n",
       "      <td>2013-08-21 21:41:00+00:00</td>\n",
       "      <td>0.000000</td>\n",
       "      <td>0.000000</td>\n",
       "      <td>0.000000</td>\n",
       "      <td>0.000000</td>\n",
       "      <td>2.0</td>\n",
       "      <td>0.0</td>\n",
       "      <td>2013.0</td>\n",
       "      <td>8.0</td>\n",
       "      <td>21.0</td>\n",
       "      <td>2.0</td>\n",
       "      <td>21.0</td>\n",
       "    </tr>\n",
       "    <tr>\n",
       "      <th>331597</th>\n",
       "      <td>2013-08-05 06:45:54.0000005</td>\n",
       "      <td>0.0</td>\n",
       "      <td>2013-08-05 06:45:54+00:00</td>\n",
       "      <td>-73.982354</td>\n",
       "      <td>40.679971</td>\n",
       "      <td>-73.982354</td>\n",
       "      <td>40.679971</td>\n",
       "      <td>1.0</td>\n",
       "      <td>0.0</td>\n",
       "      <td>2013.0</td>\n",
       "      <td>8.0</td>\n",
       "      <td>5.0</td>\n",
       "      <td>0.0</td>\n",
       "      <td>6.0</td>\n",
       "    </tr>\n",
       "    <tr>\n",
       "      <th>436658</th>\n",
       "      <td>2015-03-04 22:33:39.0000008</td>\n",
       "      <td>0.0</td>\n",
       "      <td>2015-03-04 22:33:39+00:00</td>\n",
       "      <td>-74.043442</td>\n",
       "      <td>40.788208</td>\n",
       "      <td>-74.043442</td>\n",
       "      <td>40.788208</td>\n",
       "      <td>1.0</td>\n",
       "      <td>0.0</td>\n",
       "      <td>2015.0</td>\n",
       "      <td>3.0</td>\n",
       "      <td>4.0</td>\n",
       "      <td>2.0</td>\n",
       "      <td>22.0</td>\n",
       "    </tr>\n",
       "    <tr>\n",
       "      <th>689250</th>\n",
       "      <td>2015-05-27 23:10:03.0000004</td>\n",
       "      <td>0.0</td>\n",
       "      <td>2015-05-27 23:10:03+00:00</td>\n",
       "      <td>-73.994125</td>\n",
       "      <td>40.741131</td>\n",
       "      <td>-73.994125</td>\n",
       "      <td>40.741131</td>\n",
       "      <td>1.0</td>\n",
       "      <td>0.0</td>\n",
       "      <td>2015.0</td>\n",
       "      <td>5.0</td>\n",
       "      <td>27.0</td>\n",
       "      <td>2.0</td>\n",
       "      <td>23.0</td>\n",
       "    </tr>\n",
       "  </tbody>\n",
       "</table>\n",
       "</div>"
      ],
      "text/plain": [
       "                                  key  fare_amount           pickup_datetime  \\\n",
       "105051  2013-08-21 21:41:00.000000215          0.0 2013-08-21 21:41:00+00:00   \n",
       "331597    2013-08-05 06:45:54.0000005          0.0 2013-08-05 06:45:54+00:00   \n",
       "436658    2015-03-04 22:33:39.0000008          0.0 2015-03-04 22:33:39+00:00   \n",
       "689250    2015-05-27 23:10:03.0000004          0.0 2015-05-27 23:10:03+00:00   \n",
       "\n",
       "        pickup_longitude  pickup_latitude  dropoff_longitude  \\\n",
       "105051          0.000000         0.000000           0.000000   \n",
       "331597        -73.982354        40.679971         -73.982354   \n",
       "436658        -74.043442        40.788208         -74.043442   \n",
       "689250        -73.994125        40.741131         -73.994125   \n",
       "\n",
       "        dropoff_latitude  passenger_count  H_Distance    Year  Month  Date  \\\n",
       "105051          0.000000              2.0         0.0  2013.0    8.0  21.0   \n",
       "331597         40.679971              1.0         0.0  2013.0    8.0   5.0   \n",
       "436658         40.788208              1.0         0.0  2015.0    3.0   4.0   \n",
       "689250         40.741131              1.0         0.0  2015.0    5.0  27.0   \n",
       "\n",
       "        Day of Week  Hour  \n",
       "105051          2.0  21.0  \n",
       "331597          0.0   6.0  \n",
       "436658          2.0  22.0  \n",
       "689250          2.0  23.0  "
      ]
     },
     "execution_count": 88,
     "metadata": {},
     "output_type": "execute_result"
    }
   ],
   "source": [
    "drop = train[(train[\"H_Distance\"]==0)&(train[\"fare_amount\"]==0)]\n",
    "drop"
   ]
  },
  {
   "cell_type": "code",
   "execution_count": 89,
   "id": "2da2233c",
   "metadata": {},
   "outputs": [
    {
     "data": {
      "text/plain": [
       "(999903, 14)"
      ]
     },
     "execution_count": 89,
     "metadata": {},
     "output_type": "execute_result"
    }
   ],
   "source": [
    "# 이상치 제거\n",
    "train = train.drop(drop.index, axis=0)\n",
    "train.shape"
   ]
  },
  {
   "cell_type": "markdown",
   "id": "6f8558ba",
   "metadata": {},
   "source": [
    "#### 시나리오2. 기본요금보다 요금이 적고 주행거리가 0\n",
    "* -> 기본요금보다 적은게 말이안됨. 제거"
   ]
  },
  {
   "cell_type": "markdown",
   "id": "d4e134d8",
   "metadata": {},
   "source": [
    "A quick Google search gave me the following prices -\n",
    "\n",
    "$$2.5 base-price + $1.56/km --> 6AM to 8PM Mon-Fri\n",
    "\n",
    "$$3.0 base-price + $1.56/km --> 8PM to 6AM Mon-Fri and Sat&Sun"
   ]
  },
  {
   "cell_type": "code",
   "execution_count": 90,
   "id": "8869c59e",
   "metadata": {},
   "outputs": [
    {
     "data": {
      "text/html": [
       "<div>\n",
       "<style scoped>\n",
       "    .dataframe tbody tr th:only-of-type {\n",
       "        vertical-align: middle;\n",
       "    }\n",
       "\n",
       "    .dataframe tbody tr th {\n",
       "        vertical-align: top;\n",
       "    }\n",
       "\n",
       "    .dataframe thead th {\n",
       "        text-align: right;\n",
       "    }\n",
       "</style>\n",
       "<table border=\"1\" class=\"dataframe\">\n",
       "  <thead>\n",
       "    <tr style=\"text-align: right;\">\n",
       "      <th></th>\n",
       "      <th>key</th>\n",
       "      <th>fare_amount</th>\n",
       "      <th>pickup_datetime</th>\n",
       "      <th>pickup_longitude</th>\n",
       "      <th>pickup_latitude</th>\n",
       "      <th>dropoff_longitude</th>\n",
       "      <th>dropoff_latitude</th>\n",
       "      <th>passenger_count</th>\n",
       "      <th>H_Distance</th>\n",
       "      <th>Year</th>\n",
       "      <th>Month</th>\n",
       "      <th>Date</th>\n",
       "      <th>Day of Week</th>\n",
       "      <th>Hour</th>\n",
       "    </tr>\n",
       "  </thead>\n",
       "  <tbody>\n",
       "    <tr>\n",
       "      <th>830616</th>\n",
       "      <td>2015-01-21 06:29:21.0000006</td>\n",
       "      <td>0.01</td>\n",
       "      <td>2015-01-21 06:29:21+00:00</td>\n",
       "      <td>0.0</td>\n",
       "      <td>0.0</td>\n",
       "      <td>0.0</td>\n",
       "      <td>0.0</td>\n",
       "      <td>1.0</td>\n",
       "      <td>0.0</td>\n",
       "      <td>2015.0</td>\n",
       "      <td>1.0</td>\n",
       "      <td>21.0</td>\n",
       "      <td>2.0</td>\n",
       "      <td>6.0</td>\n",
       "    </tr>\n",
       "    <tr>\n",
       "      <th>925892</th>\n",
       "      <td>2015-01-21 14:12:00.0000004</td>\n",
       "      <td>1.90</td>\n",
       "      <td>2015-01-21 14:12:00+00:00</td>\n",
       "      <td>0.0</td>\n",
       "      <td>0.0</td>\n",
       "      <td>0.0</td>\n",
       "      <td>0.0</td>\n",
       "      <td>1.0</td>\n",
       "      <td>0.0</td>\n",
       "      <td>2015.0</td>\n",
       "      <td>1.0</td>\n",
       "      <td>21.0</td>\n",
       "      <td>2.0</td>\n",
       "      <td>14.0</td>\n",
       "    </tr>\n",
       "  </tbody>\n",
       "</table>\n",
       "</div>"
      ],
      "text/plain": [
       "                                key  fare_amount           pickup_datetime  \\\n",
       "830616  2015-01-21 06:29:21.0000006         0.01 2015-01-21 06:29:21+00:00   \n",
       "925892  2015-01-21 14:12:00.0000004         1.90 2015-01-21 14:12:00+00:00   \n",
       "\n",
       "        pickup_longitude  pickup_latitude  dropoff_longitude  \\\n",
       "830616               0.0              0.0                0.0   \n",
       "925892               0.0              0.0                0.0   \n",
       "\n",
       "        dropoff_latitude  passenger_count  H_Distance    Year  Month  Date  \\\n",
       "830616               0.0              1.0         0.0  2015.0    1.0  21.0   \n",
       "925892               0.0              1.0         0.0  2015.0    1.0  21.0   \n",
       "\n",
       "        Day of Week  Hour  \n",
       "830616          2.0   6.0  \n",
       "925892          2.0  14.0  "
      ]
     },
     "execution_count": 90,
     "metadata": {},
     "output_type": "execute_result"
    }
   ],
   "source": [
    "#2-1. 6AM to 8PM Mon-Fri\n",
    "rush_hour = train.loc[(((train['Hour']>=6)&(train['Hour']<=20)) & ((train['Day of Week']>=1) & (train['Day of Week']<=5)) & (train['H_Distance']==0) & (train['fare_amount'] < 2.5))]\n",
    "rush_hour"
   ]
  },
  {
   "cell_type": "code",
   "execution_count": 91,
   "id": "8f9a7f0b",
   "metadata": {},
   "outputs": [
    {
     "data": {
      "text/plain": [
       "(999901, 14)"
      ]
     },
     "execution_count": 91,
     "metadata": {},
     "output_type": "execute_result"
    }
   ],
   "source": [
    "train = train.drop(rush_hour.index, axis=0)\n",
    "train.shape"
   ]
  },
  {
   "cell_type": "code",
   "execution_count": 94,
   "id": "862ee7fc",
   "metadata": {},
   "outputs": [
    {
     "data": {
      "text/html": [
       "<div>\n",
       "<style scoped>\n",
       "    .dataframe tbody tr th:only-of-type {\n",
       "        vertical-align: middle;\n",
       "    }\n",
       "\n",
       "    .dataframe tbody tr th {\n",
       "        vertical-align: top;\n",
       "    }\n",
       "\n",
       "    .dataframe thead th {\n",
       "        text-align: right;\n",
       "    }\n",
       "</style>\n",
       "<table border=\"1\" class=\"dataframe\">\n",
       "  <thead>\n",
       "    <tr style=\"text-align: right;\">\n",
       "      <th></th>\n",
       "      <th>key</th>\n",
       "      <th>fare_amount</th>\n",
       "      <th>pickup_datetime</th>\n",
       "      <th>pickup_longitude</th>\n",
       "      <th>pickup_latitude</th>\n",
       "      <th>dropoff_longitude</th>\n",
       "      <th>dropoff_latitude</th>\n",
       "      <th>passenger_count</th>\n",
       "      <th>H_Distance</th>\n",
       "      <th>Year</th>\n",
       "      <th>Month</th>\n",
       "      <th>Date</th>\n",
       "      <th>Day of Week</th>\n",
       "      <th>Hour</th>\n",
       "    </tr>\n",
       "  </thead>\n",
       "  <tbody>\n",
       "    <tr>\n",
       "      <th>376</th>\n",
       "      <td>2014-05-29 05:57:22.0000001</td>\n",
       "      <td>2.5</td>\n",
       "      <td>2014-05-29 05:57:22+00:00</td>\n",
       "      <td>0.000000</td>\n",
       "      <td>0.000000</td>\n",
       "      <td>0.000000</td>\n",
       "      <td>0.000000</td>\n",
       "      <td>1.0</td>\n",
       "      <td>0.0</td>\n",
       "      <td>2014.0</td>\n",
       "      <td>5.0</td>\n",
       "      <td>29.0</td>\n",
       "      <td>3.0</td>\n",
       "      <td>5.0</td>\n",
       "    </tr>\n",
       "    <tr>\n",
       "      <th>503</th>\n",
       "      <td>2010-01-19 01:10:00.00000012</td>\n",
       "      <td>2.5</td>\n",
       "      <td>2010-01-19 01:10:00+00:00</td>\n",
       "      <td>-73.998720</td>\n",
       "      <td>40.624708</td>\n",
       "      <td>-73.998720</td>\n",
       "      <td>40.624708</td>\n",
       "      <td>1.0</td>\n",
       "      <td>0.0</td>\n",
       "      <td>2010.0</td>\n",
       "      <td>1.0</td>\n",
       "      <td>19.0</td>\n",
       "      <td>1.0</td>\n",
       "      <td>1.0</td>\n",
       "    </tr>\n",
       "    <tr>\n",
       "      <th>657</th>\n",
       "      <td>2009-08-25 01:50:21.0000001</td>\n",
       "      <td>2.5</td>\n",
       "      <td>2009-08-25 01:50:21+00:00</td>\n",
       "      <td>-73.986410</td>\n",
       "      <td>40.763350</td>\n",
       "      <td>-73.986410</td>\n",
       "      <td>40.763350</td>\n",
       "      <td>1.0</td>\n",
       "      <td>0.0</td>\n",
       "      <td>2009.0</td>\n",
       "      <td>8.0</td>\n",
       "      <td>25.0</td>\n",
       "      <td>1.0</td>\n",
       "      <td>1.0</td>\n",
       "    </tr>\n",
       "    <tr>\n",
       "      <th>3168</th>\n",
       "      <td>2012-07-06 22:07:00.000000111</td>\n",
       "      <td>2.5</td>\n",
       "      <td>2012-07-06 22:07:00+00:00</td>\n",
       "      <td>0.000000</td>\n",
       "      <td>0.000000</td>\n",
       "      <td>0.000000</td>\n",
       "      <td>0.000000</td>\n",
       "      <td>1.0</td>\n",
       "      <td>0.0</td>\n",
       "      <td>2012.0</td>\n",
       "      <td>7.0</td>\n",
       "      <td>6.0</td>\n",
       "      <td>4.0</td>\n",
       "      <td>22.0</td>\n",
       "    </tr>\n",
       "    <tr>\n",
       "      <th>12953</th>\n",
       "      <td>2010-07-23 03:30:08.0000001</td>\n",
       "      <td>2.9</td>\n",
       "      <td>2010-07-23 03:30:08+00:00</td>\n",
       "      <td>0.000000</td>\n",
       "      <td>0.000000</td>\n",
       "      <td>0.000000</td>\n",
       "      <td>0.000000</td>\n",
       "      <td>1.0</td>\n",
       "      <td>0.0</td>\n",
       "      <td>2010.0</td>\n",
       "      <td>7.0</td>\n",
       "      <td>23.0</td>\n",
       "      <td>4.0</td>\n",
       "      <td>3.0</td>\n",
       "    </tr>\n",
       "    <tr>\n",
       "      <th>...</th>\n",
       "      <td>...</td>\n",
       "      <td>...</td>\n",
       "      <td>...</td>\n",
       "      <td>...</td>\n",
       "      <td>...</td>\n",
       "      <td>...</td>\n",
       "      <td>...</td>\n",
       "      <td>...</td>\n",
       "      <td>...</td>\n",
       "      <td>...</td>\n",
       "      <td>...</td>\n",
       "      <td>...</td>\n",
       "      <td>...</td>\n",
       "      <td>...</td>\n",
       "    </tr>\n",
       "    <tr>\n",
       "      <th>981827</th>\n",
       "      <td>2013-07-11 01:24:12.0000001</td>\n",
       "      <td>2.5</td>\n",
       "      <td>2013-07-11 01:24:12+00:00</td>\n",
       "      <td>-73.989207</td>\n",
       "      <td>40.718738</td>\n",
       "      <td>-73.989207</td>\n",
       "      <td>40.718738</td>\n",
       "      <td>1.0</td>\n",
       "      <td>0.0</td>\n",
       "      <td>2013.0</td>\n",
       "      <td>7.0</td>\n",
       "      <td>11.0</td>\n",
       "      <td>3.0</td>\n",
       "      <td>1.0</td>\n",
       "    </tr>\n",
       "    <tr>\n",
       "      <th>982760</th>\n",
       "      <td>2013-08-15 02:36:09.0000002</td>\n",
       "      <td>2.5</td>\n",
       "      <td>2013-08-15 02:36:09+00:00</td>\n",
       "      <td>0.000000</td>\n",
       "      <td>0.000000</td>\n",
       "      <td>0.000000</td>\n",
       "      <td>0.000000</td>\n",
       "      <td>1.0</td>\n",
       "      <td>0.0</td>\n",
       "      <td>2013.0</td>\n",
       "      <td>8.0</td>\n",
       "      <td>15.0</td>\n",
       "      <td>3.0</td>\n",
       "      <td>2.0</td>\n",
       "    </tr>\n",
       "    <tr>\n",
       "      <th>991940</th>\n",
       "      <td>2009-11-18 23:23:55.0000002</td>\n",
       "      <td>2.5</td>\n",
       "      <td>2009-11-18 23:23:55+00:00</td>\n",
       "      <td>-73.982666</td>\n",
       "      <td>40.756720</td>\n",
       "      <td>-73.982666</td>\n",
       "      <td>40.756720</td>\n",
       "      <td>1.0</td>\n",
       "      <td>0.0</td>\n",
       "      <td>2009.0</td>\n",
       "      <td>11.0</td>\n",
       "      <td>18.0</td>\n",
       "      <td>2.0</td>\n",
       "      <td>23.0</td>\n",
       "    </tr>\n",
       "    <tr>\n",
       "      <th>994174</th>\n",
       "      <td>2015-03-19 21:34:53.0000007</td>\n",
       "      <td>2.5</td>\n",
       "      <td>2015-03-19 21:34:53+00:00</td>\n",
       "      <td>0.000000</td>\n",
       "      <td>0.000000</td>\n",
       "      <td>0.000000</td>\n",
       "      <td>0.000000</td>\n",
       "      <td>1.0</td>\n",
       "      <td>0.0</td>\n",
       "      <td>2015.0</td>\n",
       "      <td>3.0</td>\n",
       "      <td>19.0</td>\n",
       "      <td>3.0</td>\n",
       "      <td>21.0</td>\n",
       "    </tr>\n",
       "    <tr>\n",
       "      <th>999462</th>\n",
       "      <td>2012-02-09 21:36:00.000000243</td>\n",
       "      <td>2.5</td>\n",
       "      <td>2012-02-09 21:36:00+00:00</td>\n",
       "      <td>0.000000</td>\n",
       "      <td>0.000000</td>\n",
       "      <td>0.000000</td>\n",
       "      <td>0.000000</td>\n",
       "      <td>1.0</td>\n",
       "      <td>0.0</td>\n",
       "      <td>2012.0</td>\n",
       "      <td>2.0</td>\n",
       "      <td>9.0</td>\n",
       "      <td>3.0</td>\n",
       "      <td>21.0</td>\n",
       "    </tr>\n",
       "  </tbody>\n",
       "</table>\n",
       "<p>243 rows × 14 columns</p>\n",
       "</div>"
      ],
      "text/plain": [
       "                                  key  fare_amount           pickup_datetime  \\\n",
       "376       2014-05-29 05:57:22.0000001          2.5 2014-05-29 05:57:22+00:00   \n",
       "503      2010-01-19 01:10:00.00000012          2.5 2010-01-19 01:10:00+00:00   \n",
       "657       2009-08-25 01:50:21.0000001          2.5 2009-08-25 01:50:21+00:00   \n",
       "3168    2012-07-06 22:07:00.000000111          2.5 2012-07-06 22:07:00+00:00   \n",
       "12953     2010-07-23 03:30:08.0000001          2.9 2010-07-23 03:30:08+00:00   \n",
       "...                               ...          ...                       ...   \n",
       "981827    2013-07-11 01:24:12.0000001          2.5 2013-07-11 01:24:12+00:00   \n",
       "982760    2013-08-15 02:36:09.0000002          2.5 2013-08-15 02:36:09+00:00   \n",
       "991940    2009-11-18 23:23:55.0000002          2.5 2009-11-18 23:23:55+00:00   \n",
       "994174    2015-03-19 21:34:53.0000007          2.5 2015-03-19 21:34:53+00:00   \n",
       "999462  2012-02-09 21:36:00.000000243          2.5 2012-02-09 21:36:00+00:00   \n",
       "\n",
       "        pickup_longitude  pickup_latitude  dropoff_longitude  \\\n",
       "376             0.000000         0.000000           0.000000   \n",
       "503           -73.998720        40.624708         -73.998720   \n",
       "657           -73.986410        40.763350         -73.986410   \n",
       "3168            0.000000         0.000000           0.000000   \n",
       "12953           0.000000         0.000000           0.000000   \n",
       "...                  ...              ...                ...   \n",
       "981827        -73.989207        40.718738         -73.989207   \n",
       "982760          0.000000         0.000000           0.000000   \n",
       "991940        -73.982666        40.756720         -73.982666   \n",
       "994174          0.000000         0.000000           0.000000   \n",
       "999462          0.000000         0.000000           0.000000   \n",
       "\n",
       "        dropoff_latitude  passenger_count  H_Distance    Year  Month  Date  \\\n",
       "376             0.000000              1.0         0.0  2014.0    5.0  29.0   \n",
       "503            40.624708              1.0         0.0  2010.0    1.0  19.0   \n",
       "657            40.763350              1.0         0.0  2009.0    8.0  25.0   \n",
       "3168            0.000000              1.0         0.0  2012.0    7.0   6.0   \n",
       "12953           0.000000              1.0         0.0  2010.0    7.0  23.0   \n",
       "...                  ...              ...         ...     ...    ...   ...   \n",
       "981827         40.718738              1.0         0.0  2013.0    7.0  11.0   \n",
       "982760          0.000000              1.0         0.0  2013.0    8.0  15.0   \n",
       "991940         40.756720              1.0         0.0  2009.0   11.0  18.0   \n",
       "994174          0.000000              1.0         0.0  2015.0    3.0  19.0   \n",
       "999462          0.000000              1.0         0.0  2012.0    2.0   9.0   \n",
       "\n",
       "        Day of Week  Hour  \n",
       "376             3.0   5.0  \n",
       "503             1.0   1.0  \n",
       "657             1.0   1.0  \n",
       "3168            4.0  22.0  \n",
       "12953           4.0   3.0  \n",
       "...             ...   ...  \n",
       "981827          3.0   1.0  \n",
       "982760          3.0   2.0  \n",
       "991940          2.0  23.0  \n",
       "994174          3.0  21.0  \n",
       "999462          3.0  21.0  \n",
       "\n",
       "[243 rows x 14 columns]"
      ]
     },
     "execution_count": 94,
     "metadata": {},
     "output_type": "execute_result"
    }
   ],
   "source": [
    "#2-2. 8PM to 6AM Mon-Fri and Sat&Sun\n",
    "non_rush_hour = train.loc[(((train['Hour']<6)|(train['Hour']>20)) & ((train['Day of Week']>=1)&(train['Day of Week']<=5)) & (train['H_Distance']==0) & (train['fare_amount'] < 3.0) )]\n",
    "non_rush_hour"
   ]
  },
  {
   "cell_type": "markdown",
   "id": "f5543361",
   "metadata": {},
   "source": [
    "* 흠 그래도 기본요금 2.5는 넘으니까 제거하지 않겠음"
   ]
  },
  {
   "cell_type": "code",
   "execution_count": 95,
   "id": "b9d14eed",
   "metadata": {},
   "outputs": [
    {
     "data": {
      "text/html": [
       "<div>\n",
       "<style scoped>\n",
       "    .dataframe tbody tr th:only-of-type {\n",
       "        vertical-align: middle;\n",
       "    }\n",
       "\n",
       "    .dataframe tbody tr th {\n",
       "        vertical-align: top;\n",
       "    }\n",
       "\n",
       "    .dataframe thead th {\n",
       "        text-align: right;\n",
       "    }\n",
       "</style>\n",
       "<table border=\"1\" class=\"dataframe\">\n",
       "  <thead>\n",
       "    <tr style=\"text-align: right;\">\n",
       "      <th></th>\n",
       "      <th>key</th>\n",
       "      <th>fare_amount</th>\n",
       "      <th>pickup_datetime</th>\n",
       "      <th>pickup_longitude</th>\n",
       "      <th>pickup_latitude</th>\n",
       "      <th>dropoff_longitude</th>\n",
       "      <th>dropoff_latitude</th>\n",
       "      <th>passenger_count</th>\n",
       "      <th>H_Distance</th>\n",
       "      <th>Year</th>\n",
       "      <th>Month</th>\n",
       "      <th>Date</th>\n",
       "      <th>Day of Week</th>\n",
       "      <th>Hour</th>\n",
       "    </tr>\n",
       "  </thead>\n",
       "  <tbody>\n",
       "    <tr>\n",
       "      <th>472</th>\n",
       "      <td>2009-02-22 22:48:00.000000130</td>\n",
       "      <td>2.5</td>\n",
       "      <td>2009-02-22 22:48:00+00:00</td>\n",
       "      <td>0.000000</td>\n",
       "      <td>0.000000</td>\n",
       "      <td>-74.005433</td>\n",
       "      <td>40.726685</td>\n",
       "      <td>2.0</td>\n",
       "      <td>0.0</td>\n",
       "      <td>2009.0</td>\n",
       "      <td>2.0</td>\n",
       "      <td>22.0</td>\n",
       "      <td>6.0</td>\n",
       "      <td>22.0</td>\n",
       "    </tr>\n",
       "    <tr>\n",
       "      <th>1419</th>\n",
       "      <td>2013-07-21 00:10:23.0000001</td>\n",
       "      <td>2.5</td>\n",
       "      <td>2013-07-21 00:10:23+00:00</td>\n",
       "      <td>-73.956556</td>\n",
       "      <td>40.779828</td>\n",
       "      <td>-73.956556</td>\n",
       "      <td>40.779828</td>\n",
       "      <td>1.0</td>\n",
       "      <td>0.0</td>\n",
       "      <td>2013.0</td>\n",
       "      <td>7.0</td>\n",
       "      <td>21.0</td>\n",
       "      <td>6.0</td>\n",
       "      <td>0.0</td>\n",
       "    </tr>\n",
       "    <tr>\n",
       "      <th>1774</th>\n",
       "      <td>2012-08-27 15:24:00.0000007</td>\n",
       "      <td>2.5</td>\n",
       "      <td>2012-08-27 15:24:00+00:00</td>\n",
       "      <td>-73.950282</td>\n",
       "      <td>40.701282</td>\n",
       "      <td>-73.950282</td>\n",
       "      <td>40.701282</td>\n",
       "      <td>1.0</td>\n",
       "      <td>0.0</td>\n",
       "      <td>2012.0</td>\n",
       "      <td>8.0</td>\n",
       "      <td>27.0</td>\n",
       "      <td>0.0</td>\n",
       "      <td>15.0</td>\n",
       "    </tr>\n",
       "    <tr>\n",
       "      <th>4367</th>\n",
       "      <td>2014-01-13 16:14:48.0000001</td>\n",
       "      <td>2.5</td>\n",
       "      <td>2014-01-13 16:14:48+00:00</td>\n",
       "      <td>-73.948410</td>\n",
       "      <td>40.744969</td>\n",
       "      <td>-73.948410</td>\n",
       "      <td>40.744969</td>\n",
       "      <td>1.0</td>\n",
       "      <td>0.0</td>\n",
       "      <td>2014.0</td>\n",
       "      <td>1.0</td>\n",
       "      <td>13.0</td>\n",
       "      <td>0.0</td>\n",
       "      <td>16.0</td>\n",
       "    </tr>\n",
       "    <tr>\n",
       "      <th>4954</th>\n",
       "      <td>2010-01-10 13:44:35.0000007</td>\n",
       "      <td>2.5</td>\n",
       "      <td>2010-01-10 13:44:35+00:00</td>\n",
       "      <td>-73.983934</td>\n",
       "      <td>40.754938</td>\n",
       "      <td>-73.983934</td>\n",
       "      <td>40.754938</td>\n",
       "      <td>1.0</td>\n",
       "      <td>0.0</td>\n",
       "      <td>2010.0</td>\n",
       "      <td>1.0</td>\n",
       "      <td>10.0</td>\n",
       "      <td>6.0</td>\n",
       "      <td>13.0</td>\n",
       "    </tr>\n",
       "    <tr>\n",
       "      <th>...</th>\n",
       "      <td>...</td>\n",
       "      <td>...</td>\n",
       "      <td>...</td>\n",
       "      <td>...</td>\n",
       "      <td>...</td>\n",
       "      <td>...</td>\n",
       "      <td>...</td>\n",
       "      <td>...</td>\n",
       "      <td>...</td>\n",
       "      <td>...</td>\n",
       "      <td>...</td>\n",
       "      <td>...</td>\n",
       "      <td>...</td>\n",
       "      <td>...</td>\n",
       "    </tr>\n",
       "    <tr>\n",
       "      <th>985217</th>\n",
       "      <td>2009-02-22 06:16:56.0000003</td>\n",
       "      <td>2.5</td>\n",
       "      <td>2009-02-22 06:16:56+00:00</td>\n",
       "      <td>-73.992602</td>\n",
       "      <td>40.763705</td>\n",
       "      <td>-73.992602</td>\n",
       "      <td>40.763705</td>\n",
       "      <td>1.0</td>\n",
       "      <td>0.0</td>\n",
       "      <td>2009.0</td>\n",
       "      <td>2.0</td>\n",
       "      <td>22.0</td>\n",
       "      <td>6.0</td>\n",
       "      <td>6.0</td>\n",
       "    </tr>\n",
       "    <tr>\n",
       "      <th>990173</th>\n",
       "      <td>2009-11-01 14:37:13.0000001</td>\n",
       "      <td>2.5</td>\n",
       "      <td>2009-11-01 14:37:13+00:00</td>\n",
       "      <td>-73.996724</td>\n",
       "      <td>40.764173</td>\n",
       "      <td>-73.996724</td>\n",
       "      <td>40.764173</td>\n",
       "      <td>1.0</td>\n",
       "      <td>0.0</td>\n",
       "      <td>2009.0</td>\n",
       "      <td>11.0</td>\n",
       "      <td>1.0</td>\n",
       "      <td>6.0</td>\n",
       "      <td>14.0</td>\n",
       "    </tr>\n",
       "    <tr>\n",
       "      <th>994092</th>\n",
       "      <td>2012-02-27 07:36:00.000000150</td>\n",
       "      <td>2.5</td>\n",
       "      <td>2012-02-27 07:36:00+00:00</td>\n",
       "      <td>0.000000</td>\n",
       "      <td>0.000000</td>\n",
       "      <td>0.000000</td>\n",
       "      <td>0.000000</td>\n",
       "      <td>1.0</td>\n",
       "      <td>0.0</td>\n",
       "      <td>2012.0</td>\n",
       "      <td>2.0</td>\n",
       "      <td>27.0</td>\n",
       "      <td>0.0</td>\n",
       "      <td>7.0</td>\n",
       "    </tr>\n",
       "    <tr>\n",
       "      <th>996710</th>\n",
       "      <td>2010-09-27 21:54:00.00000054</td>\n",
       "      <td>2.5</td>\n",
       "      <td>2010-09-27 21:54:00+00:00</td>\n",
       "      <td>-73.983942</td>\n",
       "      <td>40.744048</td>\n",
       "      <td>-73.983942</td>\n",
       "      <td>40.744048</td>\n",
       "      <td>1.0</td>\n",
       "      <td>0.0</td>\n",
       "      <td>2010.0</td>\n",
       "      <td>9.0</td>\n",
       "      <td>27.0</td>\n",
       "      <td>0.0</td>\n",
       "      <td>21.0</td>\n",
       "    </tr>\n",
       "    <tr>\n",
       "      <th>996752</th>\n",
       "      <td>2010-04-26 08:31:31.0000002</td>\n",
       "      <td>2.5</td>\n",
       "      <td>2010-04-26 08:31:31+00:00</td>\n",
       "      <td>-73.970879</td>\n",
       "      <td>40.764550</td>\n",
       "      <td>-73.970879</td>\n",
       "      <td>40.764550</td>\n",
       "      <td>1.0</td>\n",
       "      <td>0.0</td>\n",
       "      <td>2010.0</td>\n",
       "      <td>4.0</td>\n",
       "      <td>26.0</td>\n",
       "      <td>0.0</td>\n",
       "      <td>8.0</td>\n",
       "    </tr>\n",
       "  </tbody>\n",
       "</table>\n",
       "<p>372 rows × 14 columns</p>\n",
       "</div>"
      ],
      "text/plain": [
       "                                  key  fare_amount           pickup_datetime  \\\n",
       "472     2009-02-22 22:48:00.000000130          2.5 2009-02-22 22:48:00+00:00   \n",
       "1419      2013-07-21 00:10:23.0000001          2.5 2013-07-21 00:10:23+00:00   \n",
       "1774      2012-08-27 15:24:00.0000007          2.5 2012-08-27 15:24:00+00:00   \n",
       "4367      2014-01-13 16:14:48.0000001          2.5 2014-01-13 16:14:48+00:00   \n",
       "4954      2010-01-10 13:44:35.0000007          2.5 2010-01-10 13:44:35+00:00   \n",
       "...                               ...          ...                       ...   \n",
       "985217    2009-02-22 06:16:56.0000003          2.5 2009-02-22 06:16:56+00:00   \n",
       "990173    2009-11-01 14:37:13.0000001          2.5 2009-11-01 14:37:13+00:00   \n",
       "994092  2012-02-27 07:36:00.000000150          2.5 2012-02-27 07:36:00+00:00   \n",
       "996710   2010-09-27 21:54:00.00000054          2.5 2010-09-27 21:54:00+00:00   \n",
       "996752    2010-04-26 08:31:31.0000002          2.5 2010-04-26 08:31:31+00:00   \n",
       "\n",
       "        pickup_longitude  pickup_latitude  dropoff_longitude  \\\n",
       "472             0.000000         0.000000         -74.005433   \n",
       "1419          -73.956556        40.779828         -73.956556   \n",
       "1774          -73.950282        40.701282         -73.950282   \n",
       "4367          -73.948410        40.744969         -73.948410   \n",
       "4954          -73.983934        40.754938         -73.983934   \n",
       "...                  ...              ...                ...   \n",
       "985217        -73.992602        40.763705         -73.992602   \n",
       "990173        -73.996724        40.764173         -73.996724   \n",
       "994092          0.000000         0.000000           0.000000   \n",
       "996710        -73.983942        40.744048         -73.983942   \n",
       "996752        -73.970879        40.764550         -73.970879   \n",
       "\n",
       "        dropoff_latitude  passenger_count  H_Distance    Year  Month  Date  \\\n",
       "472            40.726685              2.0         0.0  2009.0    2.0  22.0   \n",
       "1419           40.779828              1.0         0.0  2013.0    7.0  21.0   \n",
       "1774           40.701282              1.0         0.0  2012.0    8.0  27.0   \n",
       "4367           40.744969              1.0         0.0  2014.0    1.0  13.0   \n",
       "4954           40.754938              1.0         0.0  2010.0    1.0  10.0   \n",
       "...                  ...              ...         ...     ...    ...   ...   \n",
       "985217         40.763705              1.0         0.0  2009.0    2.0  22.0   \n",
       "990173         40.764173              1.0         0.0  2009.0   11.0   1.0   \n",
       "994092          0.000000              1.0         0.0  2012.0    2.0  27.0   \n",
       "996710         40.744048              1.0         0.0  2010.0    9.0  27.0   \n",
       "996752         40.764550              1.0         0.0  2010.0    4.0  26.0   \n",
       "\n",
       "        Day of Week  Hour  \n",
       "472             6.0  22.0  \n",
       "1419            6.0   0.0  \n",
       "1774            0.0  15.0  \n",
       "4367            0.0  16.0  \n",
       "4954            6.0  13.0  \n",
       "...             ...   ...  \n",
       "985217          6.0   6.0  \n",
       "990173          6.0  14.0  \n",
       "994092          0.0   7.0  \n",
       "996710          0.0  21.0  \n",
       "996752          0.0   8.0  \n",
       "\n",
       "[372 rows x 14 columns]"
      ]
     },
     "execution_count": 95,
     "metadata": {},
     "output_type": "execute_result"
    }
   ],
   "source": [
    "#2-3. Saturday and Sunday all hours\n",
    "weekends = train.loc[((train['Day of Week']==0) | (train['Day of Week']==6)) & (train['H_Distance']==0) & (train['fare_amount'] < 3.0)]\n",
    "weekends"
   ]
  },
  {
   "cell_type": "markdown",
   "id": "7bfc26ef",
   "metadata": {},
   "source": [
    "* 흠 이것도 기본요금 2.5는 넘으니까 제거하지 않겠음"
   ]
  },
  {
   "cell_type": "markdown",
   "id": "5124eec4",
   "metadata": {},
   "source": [
    "#### 시나리오3. 요금은 0인데 주행거리는 0이 아닌 경우\n",
    "* fare = 2.5 + 1.56(H_Distance)"
   ]
  },
  {
   "cell_type": "code",
   "execution_count": 97,
   "id": "5ef260f3",
   "metadata": {},
   "outputs": [
    {
     "data": {
      "text/plain": [
       "21"
      ]
     },
     "execution_count": 97,
     "metadata": {},
     "output_type": "execute_result"
    }
   ],
   "source": [
    "# 요금은 0인데 주행거리는 0이 아닌 데이터\n",
    "scenario_3 = train.loc[(train['H_Distance']!=0) & (train['fare_amount']==0)]\n",
    "len(scenario_3) "
   ]
  },
  {
   "cell_type": "code",
   "execution_count": 98,
   "id": "86f80c1e",
   "metadata": {},
   "outputs": [
    {
     "data": {
      "text/html": [
       "<div>\n",
       "<style scoped>\n",
       "    .dataframe tbody tr th:only-of-type {\n",
       "        vertical-align: middle;\n",
       "    }\n",
       "\n",
       "    .dataframe tbody tr th {\n",
       "        vertical-align: top;\n",
       "    }\n",
       "\n",
       "    .dataframe thead th {\n",
       "        text-align: right;\n",
       "    }\n",
       "</style>\n",
       "<table border=\"1\" class=\"dataframe\">\n",
       "  <thead>\n",
       "    <tr style=\"text-align: right;\">\n",
       "      <th></th>\n",
       "      <th>key</th>\n",
       "      <th>fare_amount</th>\n",
       "      <th>pickup_datetime</th>\n",
       "      <th>pickup_longitude</th>\n",
       "      <th>pickup_latitude</th>\n",
       "      <th>dropoff_longitude</th>\n",
       "      <th>dropoff_latitude</th>\n",
       "      <th>passenger_count</th>\n",
       "      <th>H_Distance</th>\n",
       "      <th>Year</th>\n",
       "      <th>Month</th>\n",
       "      <th>Date</th>\n",
       "      <th>Day of Week</th>\n",
       "      <th>Hour</th>\n",
       "    </tr>\n",
       "  </thead>\n",
       "  <tbody>\n",
       "    <tr>\n",
       "      <th>788466</th>\n",
       "      <td>2010-02-26 22:10:53.0000002</td>\n",
       "      <td>0.0</td>\n",
       "      <td>2010-02-26 22:10:53+00:00</td>\n",
       "      <td>-73.812794</td>\n",
       "      <td>40.695922</td>\n",
       "      <td>-73.993577</td>\n",
       "      <td>40.749743</td>\n",
       "      <td>1.0</td>\n",
       "      <td>16.368200</td>\n",
       "      <td>2010.0</td>\n",
       "      <td>2.0</td>\n",
       "      <td>26.0</td>\n",
       "      <td>4.0</td>\n",
       "      <td>22.0</td>\n",
       "    </tr>\n",
       "    <tr>\n",
       "      <th>762802</th>\n",
       "      <td>2015-02-04 23:47:28.0000006</td>\n",
       "      <td>0.0</td>\n",
       "      <td>2015-02-04 23:47:28+00:00</td>\n",
       "      <td>-73.864532</td>\n",
       "      <td>40.770012</td>\n",
       "      <td>-74.030937</td>\n",
       "      <td>40.727139</td>\n",
       "      <td>1.0</td>\n",
       "      <td>14.806275</td>\n",
       "      <td>2015.0</td>\n",
       "      <td>2.0</td>\n",
       "      <td>4.0</td>\n",
       "      <td>2.0</td>\n",
       "      <td>23.0</td>\n",
       "    </tr>\n",
       "    <tr>\n",
       "      <th>561786</th>\n",
       "      <td>2013-08-26 00:22:00.00000058</td>\n",
       "      <td>0.0</td>\n",
       "      <td>2013-08-26 00:22:00+00:00</td>\n",
       "      <td>-73.988468</td>\n",
       "      <td>40.722775</td>\n",
       "      <td>-73.923687</td>\n",
       "      <td>40.807775</td>\n",
       "      <td>1.0</td>\n",
       "      <td>10.913162</td>\n",
       "      <td>2013.0</td>\n",
       "      <td>8.0</td>\n",
       "      <td>26.0</td>\n",
       "      <td>0.0</td>\n",
       "      <td>0.0</td>\n",
       "    </tr>\n",
       "    <tr>\n",
       "      <th>10002</th>\n",
       "      <td>2010-02-15 14:26:01.0000003</td>\n",
       "      <td>0.0</td>\n",
       "      <td>2010-02-15 14:26:01+00:00</td>\n",
       "      <td>-73.987115</td>\n",
       "      <td>40.738808</td>\n",
       "      <td>-74.005911</td>\n",
       "      <td>40.713960</td>\n",
       "      <td>1.0</td>\n",
       "      <td>3.184763</td>\n",
       "      <td>2010.0</td>\n",
       "      <td>2.0</td>\n",
       "      <td>15.0</td>\n",
       "      <td>0.0</td>\n",
       "      <td>14.0</td>\n",
       "    </tr>\n",
       "    <tr>\n",
       "      <th>431819</th>\n",
       "      <td>2015-01-13 00:48:21.0000001</td>\n",
       "      <td>0.0</td>\n",
       "      <td>2015-01-13 00:48:21+00:00</td>\n",
       "      <td>-73.998383</td>\n",
       "      <td>40.759418</td>\n",
       "      <td>-74.031189</td>\n",
       "      <td>40.748924</td>\n",
       "      <td>1.0</td>\n",
       "      <td>2.999630</td>\n",
       "      <td>2015.0</td>\n",
       "      <td>1.0</td>\n",
       "      <td>13.0</td>\n",
       "      <td>1.0</td>\n",
       "      <td>0.0</td>\n",
       "    </tr>\n",
       "    <tr>\n",
       "      <th>895361</th>\n",
       "      <td>2010-02-08 23:39:17.0000002</td>\n",
       "      <td>0.0</td>\n",
       "      <td>2010-02-08 23:39:17+00:00</td>\n",
       "      <td>-73.880422</td>\n",
       "      <td>40.741431</td>\n",
       "      <td>-73.873903</td>\n",
       "      <td>40.742301</td>\n",
       "      <td>1.0</td>\n",
       "      <td>0.557666</td>\n",
       "      <td>2010.0</td>\n",
       "      <td>2.0</td>\n",
       "      <td>8.0</td>\n",
       "      <td>0.0</td>\n",
       "      <td>23.0</td>\n",
       "    </tr>\n",
       "    <tr>\n",
       "      <th>386734</th>\n",
       "      <td>2015-05-08 07:02:38.0000001</td>\n",
       "      <td>0.0</td>\n",
       "      <td>2015-05-08 07:02:38+00:00</td>\n",
       "      <td>-73.999496</td>\n",
       "      <td>40.748787</td>\n",
       "      <td>-74.002556</td>\n",
       "      <td>40.744659</td>\n",
       "      <td>1.0</td>\n",
       "      <td>0.526370</td>\n",
       "      <td>2015.0</td>\n",
       "      <td>5.0</td>\n",
       "      <td>8.0</td>\n",
       "      <td>4.0</td>\n",
       "      <td>7.0</td>\n",
       "    </tr>\n",
       "    <tr>\n",
       "      <th>520715</th>\n",
       "      <td>2015-03-28 18:14:09.00000011</td>\n",
       "      <td>0.0</td>\n",
       "      <td>2015-03-28 18:14:09+00:00</td>\n",
       "      <td>-73.987694</td>\n",
       "      <td>40.764881</td>\n",
       "      <td>-73.990150</td>\n",
       "      <td>40.761581</td>\n",
       "      <td>4.0</td>\n",
       "      <td>0.421227</td>\n",
       "      <td>2015.0</td>\n",
       "      <td>3.0</td>\n",
       "      <td>28.0</td>\n",
       "      <td>5.0</td>\n",
       "      <td>18.0</td>\n",
       "    </tr>\n",
       "    <tr>\n",
       "      <th>760662</th>\n",
       "      <td>2015-05-24 03:16:52.0000002</td>\n",
       "      <td>0.0</td>\n",
       "      <td>2015-05-24 03:16:52+00:00</td>\n",
       "      <td>-74.001633</td>\n",
       "      <td>40.730762</td>\n",
       "      <td>-73.999748</td>\n",
       "      <td>40.733494</td>\n",
       "      <td>1.0</td>\n",
       "      <td>0.342713</td>\n",
       "      <td>2015.0</td>\n",
       "      <td>5.0</td>\n",
       "      <td>24.0</td>\n",
       "      <td>6.0</td>\n",
       "      <td>3.0</td>\n",
       "    </tr>\n",
       "    <tr>\n",
       "      <th>47302</th>\n",
       "      <td>2010-03-18 19:13:39.0000002</td>\n",
       "      <td>0.0</td>\n",
       "      <td>2010-03-18 19:13:39+00:00</td>\n",
       "      <td>-73.942346</td>\n",
       "      <td>40.806269</td>\n",
       "      <td>-73.942463</td>\n",
       "      <td>40.806129</td>\n",
       "      <td>1.0</td>\n",
       "      <td>0.018420</td>\n",
       "      <td>2010.0</td>\n",
       "      <td>3.0</td>\n",
       "      <td>18.0</td>\n",
       "      <td>3.0</td>\n",
       "      <td>19.0</td>\n",
       "    </tr>\n",
       "    <tr>\n",
       "      <th>175352</th>\n",
       "      <td>2014-06-29 16:04:29.0000002</td>\n",
       "      <td>0.0</td>\n",
       "      <td>2014-06-29 16:04:29+00:00</td>\n",
       "      <td>-73.484480</td>\n",
       "      <td>40.813401</td>\n",
       "      <td>-73.484442</td>\n",
       "      <td>40.813323</td>\n",
       "      <td>2.0</td>\n",
       "      <td>0.009244</td>\n",
       "      <td>2014.0</td>\n",
       "      <td>6.0</td>\n",
       "      <td>29.0</td>\n",
       "      <td>6.0</td>\n",
       "      <td>16.0</td>\n",
       "    </tr>\n",
       "    <tr>\n",
       "      <th>211455</th>\n",
       "      <td>2015-04-15 14:02:39.0000003</td>\n",
       "      <td>0.0</td>\n",
       "      <td>2015-04-15 14:02:39+00:00</td>\n",
       "      <td>-73.937378</td>\n",
       "      <td>40.758450</td>\n",
       "      <td>-73.937447</td>\n",
       "      <td>40.758450</td>\n",
       "      <td>1.0</td>\n",
       "      <td>0.005783</td>\n",
       "      <td>2015.0</td>\n",
       "      <td>4.0</td>\n",
       "      <td>15.0</td>\n",
       "      <td>2.0</td>\n",
       "      <td>14.0</td>\n",
       "    </tr>\n",
       "    <tr>\n",
       "      <th>957590</th>\n",
       "      <td>2010-02-01 08:04:01.0000005</td>\n",
       "      <td>0.0</td>\n",
       "      <td>2010-02-01 08:04:01+00:00</td>\n",
       "      <td>-73.776286</td>\n",
       "      <td>40.645382</td>\n",
       "      <td>-73.776277</td>\n",
       "      <td>40.645351</td>\n",
       "      <td>1.0</td>\n",
       "      <td>0.003530</td>\n",
       "      <td>2010.0</td>\n",
       "      <td>2.0</td>\n",
       "      <td>1.0</td>\n",
       "      <td>0.0</td>\n",
       "      <td>8.0</td>\n",
       "    </tr>\n",
       "    <tr>\n",
       "      <th>266485</th>\n",
       "      <td>2010-02-20 09:51:27.0000004</td>\n",
       "      <td>0.0</td>\n",
       "      <td>2010-02-20 09:51:27+00:00</td>\n",
       "      <td>-73.877376</td>\n",
       "      <td>40.772415</td>\n",
       "      <td>-73.877403</td>\n",
       "      <td>40.772391</td>\n",
       "      <td>1.0</td>\n",
       "      <td>0.003506</td>\n",
       "      <td>2010.0</td>\n",
       "      <td>2.0</td>\n",
       "      <td>20.0</td>\n",
       "      <td>5.0</td>\n",
       "      <td>9.0</td>\n",
       "    </tr>\n",
       "    <tr>\n",
       "      <th>27891</th>\n",
       "      <td>2015-05-15 21:40:28.00000010</td>\n",
       "      <td>0.0</td>\n",
       "      <td>2015-05-15 21:40:28+00:00</td>\n",
       "      <td>-74.077927</td>\n",
       "      <td>40.805714</td>\n",
       "      <td>-74.077919</td>\n",
       "      <td>40.805721</td>\n",
       "      <td>1.0</td>\n",
       "      <td>0.001064</td>\n",
       "      <td>2015.0</td>\n",
       "      <td>5.0</td>\n",
       "      <td>15.0</td>\n",
       "      <td>4.0</td>\n",
       "      <td>21.0</td>\n",
       "    </tr>\n",
       "    <tr>\n",
       "      <th>681342</th>\n",
       "      <td>2013-08-13 09:07:00.000000149</td>\n",
       "      <td>0.0</td>\n",
       "      <td>2013-08-13 09:07:00+00:00</td>\n",
       "      <td>-73.902000</td>\n",
       "      <td>40.764082</td>\n",
       "      <td>-73.902012</td>\n",
       "      <td>40.764082</td>\n",
       "      <td>1.0</td>\n",
       "      <td>0.001011</td>\n",
       "      <td>2013.0</td>\n",
       "      <td>8.0</td>\n",
       "      <td>13.0</td>\n",
       "      <td>1.0</td>\n",
       "      <td>9.0</td>\n",
       "    </tr>\n",
       "    <tr>\n",
       "      <th>938020</th>\n",
       "      <td>2015-04-28 22:02:23.00000014</td>\n",
       "      <td>0.0</td>\n",
       "      <td>2015-04-28 22:02:23+00:00</td>\n",
       "      <td>-73.852692</td>\n",
       "      <td>40.718555</td>\n",
       "      <td>-73.852699</td>\n",
       "      <td>40.718559</td>\n",
       "      <td>1.0</td>\n",
       "      <td>0.000770</td>\n",
       "      <td>2015.0</td>\n",
       "      <td>4.0</td>\n",
       "      <td>28.0</td>\n",
       "      <td>1.0</td>\n",
       "      <td>22.0</td>\n",
       "    </tr>\n",
       "    <tr>\n",
       "      <th>489767</th>\n",
       "      <td>2015-02-14 21:06:53.0000007</td>\n",
       "      <td>0.0</td>\n",
       "      <td>2015-02-14 21:06:53+00:00</td>\n",
       "      <td>-73.949951</td>\n",
       "      <td>40.776215</td>\n",
       "      <td>-73.949959</td>\n",
       "      <td>40.776218</td>\n",
       "      <td>2.0</td>\n",
       "      <td>0.000770</td>\n",
       "      <td>2015.0</td>\n",
       "      <td>2.0</td>\n",
       "      <td>14.0</td>\n",
       "      <td>5.0</td>\n",
       "      <td>21.0</td>\n",
       "    </tr>\n",
       "    <tr>\n",
       "      <th>211499</th>\n",
       "      <td>2010-03-08 18:22:00.00000076</td>\n",
       "      <td>0.0</td>\n",
       "      <td>2010-03-08 18:22:00+00:00</td>\n",
       "      <td>-73.937353</td>\n",
       "      <td>40.758227</td>\n",
       "      <td>-73.937358</td>\n",
       "      <td>40.758230</td>\n",
       "      <td>1.0</td>\n",
       "      <td>0.000537</td>\n",
       "      <td>2010.0</td>\n",
       "      <td>3.0</td>\n",
       "      <td>8.0</td>\n",
       "      <td>0.0</td>\n",
       "      <td>18.0</td>\n",
       "    </tr>\n",
       "    <tr>\n",
       "      <th>670254</th>\n",
       "      <td>2015-02-22 19:26:37.0000005</td>\n",
       "      <td>0.0</td>\n",
       "      <td>2015-02-22 19:26:37+00:00</td>\n",
       "      <td>-73.994370</td>\n",
       "      <td>40.750725</td>\n",
       "      <td>-73.994370</td>\n",
       "      <td>40.750721</td>\n",
       "      <td>1.0</td>\n",
       "      <td>0.000424</td>\n",
       "      <td>2015.0</td>\n",
       "      <td>2.0</td>\n",
       "      <td>22.0</td>\n",
       "      <td>6.0</td>\n",
       "      <td>19.0</td>\n",
       "    </tr>\n",
       "    <tr>\n",
       "      <th>495273</th>\n",
       "      <td>2015-05-26 12:28:03.0000003</td>\n",
       "      <td>0.0</td>\n",
       "      <td>2015-05-26 12:28:03+00:00</td>\n",
       "      <td>-73.986473</td>\n",
       "      <td>40.721909</td>\n",
       "      <td>-73.986473</td>\n",
       "      <td>40.721905</td>\n",
       "      <td>1.0</td>\n",
       "      <td>0.000424</td>\n",
       "      <td>2015.0</td>\n",
       "      <td>5.0</td>\n",
       "      <td>26.0</td>\n",
       "      <td>1.0</td>\n",
       "      <td>12.0</td>\n",
       "    </tr>\n",
       "  </tbody>\n",
       "</table>\n",
       "</div>"
      ],
      "text/plain": [
       "                                  key  fare_amount           pickup_datetime  \\\n",
       "788466    2010-02-26 22:10:53.0000002          0.0 2010-02-26 22:10:53+00:00   \n",
       "762802    2015-02-04 23:47:28.0000006          0.0 2015-02-04 23:47:28+00:00   \n",
       "561786   2013-08-26 00:22:00.00000058          0.0 2013-08-26 00:22:00+00:00   \n",
       "10002     2010-02-15 14:26:01.0000003          0.0 2010-02-15 14:26:01+00:00   \n",
       "431819    2015-01-13 00:48:21.0000001          0.0 2015-01-13 00:48:21+00:00   \n",
       "895361    2010-02-08 23:39:17.0000002          0.0 2010-02-08 23:39:17+00:00   \n",
       "386734    2015-05-08 07:02:38.0000001          0.0 2015-05-08 07:02:38+00:00   \n",
       "520715   2015-03-28 18:14:09.00000011          0.0 2015-03-28 18:14:09+00:00   \n",
       "760662    2015-05-24 03:16:52.0000002          0.0 2015-05-24 03:16:52+00:00   \n",
       "47302     2010-03-18 19:13:39.0000002          0.0 2010-03-18 19:13:39+00:00   \n",
       "175352    2014-06-29 16:04:29.0000002          0.0 2014-06-29 16:04:29+00:00   \n",
       "211455    2015-04-15 14:02:39.0000003          0.0 2015-04-15 14:02:39+00:00   \n",
       "957590    2010-02-01 08:04:01.0000005          0.0 2010-02-01 08:04:01+00:00   \n",
       "266485    2010-02-20 09:51:27.0000004          0.0 2010-02-20 09:51:27+00:00   \n",
       "27891    2015-05-15 21:40:28.00000010          0.0 2015-05-15 21:40:28+00:00   \n",
       "681342  2013-08-13 09:07:00.000000149          0.0 2013-08-13 09:07:00+00:00   \n",
       "938020   2015-04-28 22:02:23.00000014          0.0 2015-04-28 22:02:23+00:00   \n",
       "489767    2015-02-14 21:06:53.0000007          0.0 2015-02-14 21:06:53+00:00   \n",
       "211499   2010-03-08 18:22:00.00000076          0.0 2010-03-08 18:22:00+00:00   \n",
       "670254    2015-02-22 19:26:37.0000005          0.0 2015-02-22 19:26:37+00:00   \n",
       "495273    2015-05-26 12:28:03.0000003          0.0 2015-05-26 12:28:03+00:00   \n",
       "\n",
       "        pickup_longitude  pickup_latitude  dropoff_longitude  \\\n",
       "788466        -73.812794        40.695922         -73.993577   \n",
       "762802        -73.864532        40.770012         -74.030937   \n",
       "561786        -73.988468        40.722775         -73.923687   \n",
       "10002         -73.987115        40.738808         -74.005911   \n",
       "431819        -73.998383        40.759418         -74.031189   \n",
       "895361        -73.880422        40.741431         -73.873903   \n",
       "386734        -73.999496        40.748787         -74.002556   \n",
       "520715        -73.987694        40.764881         -73.990150   \n",
       "760662        -74.001633        40.730762         -73.999748   \n",
       "47302         -73.942346        40.806269         -73.942463   \n",
       "175352        -73.484480        40.813401         -73.484442   \n",
       "211455        -73.937378        40.758450         -73.937447   \n",
       "957590        -73.776286        40.645382         -73.776277   \n",
       "266485        -73.877376        40.772415         -73.877403   \n",
       "27891         -74.077927        40.805714         -74.077919   \n",
       "681342        -73.902000        40.764082         -73.902012   \n",
       "938020        -73.852692        40.718555         -73.852699   \n",
       "489767        -73.949951        40.776215         -73.949959   \n",
       "211499        -73.937353        40.758227         -73.937358   \n",
       "670254        -73.994370        40.750725         -73.994370   \n",
       "495273        -73.986473        40.721909         -73.986473   \n",
       "\n",
       "        dropoff_latitude  passenger_count  H_Distance    Year  Month  Date  \\\n",
       "788466         40.749743              1.0   16.368200  2010.0    2.0  26.0   \n",
       "762802         40.727139              1.0   14.806275  2015.0    2.0   4.0   \n",
       "561786         40.807775              1.0   10.913162  2013.0    8.0  26.0   \n",
       "10002          40.713960              1.0    3.184763  2010.0    2.0  15.0   \n",
       "431819         40.748924              1.0    2.999630  2015.0    1.0  13.0   \n",
       "895361         40.742301              1.0    0.557666  2010.0    2.0   8.0   \n",
       "386734         40.744659              1.0    0.526370  2015.0    5.0   8.0   \n",
       "520715         40.761581              4.0    0.421227  2015.0    3.0  28.0   \n",
       "760662         40.733494              1.0    0.342713  2015.0    5.0  24.0   \n",
       "47302          40.806129              1.0    0.018420  2010.0    3.0  18.0   \n",
       "175352         40.813323              2.0    0.009244  2014.0    6.0  29.0   \n",
       "211455         40.758450              1.0    0.005783  2015.0    4.0  15.0   \n",
       "957590         40.645351              1.0    0.003530  2010.0    2.0   1.0   \n",
       "266485         40.772391              1.0    0.003506  2010.0    2.0  20.0   \n",
       "27891          40.805721              1.0    0.001064  2015.0    5.0  15.0   \n",
       "681342         40.764082              1.0    0.001011  2013.0    8.0  13.0   \n",
       "938020         40.718559              1.0    0.000770  2015.0    4.0  28.0   \n",
       "489767         40.776218              2.0    0.000770  2015.0    2.0  14.0   \n",
       "211499         40.758230              1.0    0.000537  2010.0    3.0   8.0   \n",
       "670254         40.750721              1.0    0.000424  2015.0    2.0  22.0   \n",
       "495273         40.721905              1.0    0.000424  2015.0    5.0  26.0   \n",
       "\n",
       "        Day of Week  Hour  \n",
       "788466          4.0  22.0  \n",
       "762802          2.0  23.0  \n",
       "561786          0.0   0.0  \n",
       "10002           0.0  14.0  \n",
       "431819          1.0   0.0  \n",
       "895361          0.0  23.0  \n",
       "386734          4.0   7.0  \n",
       "520715          5.0  18.0  \n",
       "760662          6.0   3.0  \n",
       "47302           3.0  19.0  \n",
       "175352          6.0  16.0  \n",
       "211455          2.0  14.0  \n",
       "957590          0.0   8.0  \n",
       "266485          5.0   9.0  \n",
       "27891           4.0  21.0  \n",
       "681342          1.0   9.0  \n",
       "938020          1.0  22.0  \n",
       "489767          5.0  21.0  \n",
       "211499          0.0  18.0  \n",
       "670254          6.0  19.0  \n",
       "495273          1.0  12.0  "
      ]
     },
     "execution_count": 98,
     "metadata": {},
     "output_type": "execute_result"
    }
   ],
   "source": [
    "scenario_3.sort_values('H_Distance', ascending=False)"
   ]
  },
  {
   "cell_type": "markdown",
   "id": "514dbbc8",
   "metadata": {},
   "source": [
    "* 주행거리를 보니까 이상치인 값이 없음 -> 요금 공식을 이용하여 요금 채워주기"
   ]
  },
  {
   "cell_type": "code",
   "execution_count": 99,
   "id": "f974796c",
   "metadata": {},
   "outputs": [
    {
     "name": "stderr",
     "output_type": "stream",
     "text": [
      "/var/folders/b9/tj0xrps92c72qmrbfg4n9jb00000gn/T/ipykernel_2206/2596190451.py:2: SettingWithCopyWarning: \n",
      "A value is trying to be set on a copy of a slice from a DataFrame.\n",
      "Try using .loc[row_indexer,col_indexer] = value instead\n",
      "\n",
      "See the caveats in the documentation: https://pandas.pydata.org/pandas-docs/stable/user_guide/indexing.html#returning-a-view-versus-a-copy\n",
      "  scenario_3['fare_amount'] = scenario_3.apply(\n"
     ]
    },
    {
     "data": {
      "text/plain": [
       "10002      7.468230\n",
       "27891      2.501660\n",
       "47302      2.528736\n",
       "175352     2.514421\n",
       "211455     2.509022\n",
       "211499     2.500838\n",
       "266485     2.505469\n",
       "386734     3.321137\n",
       "431819     7.179423\n",
       "489767     2.501201\n",
       "495273     2.500662\n",
       "520715     3.157114\n",
       "561786    19.524533\n",
       "670254     2.500662\n",
       "681342     2.501577\n",
       "760662     3.034632\n",
       "762802    25.597788\n",
       "788466    28.034391\n",
       "895361     3.369958\n",
       "938020     2.501202\n",
       "957590     2.505506\n",
       "Name: fare_amount, dtype: float64"
      ]
     },
     "execution_count": 99,
     "metadata": {},
     "output_type": "execute_result"
    }
   ],
   "source": [
    "# 주행거리가 0인 데이터들 요금 구해서 넣어주기\n",
    "scenario_3['fare_amount'] = scenario_3.apply(\n",
    "    lambda row: ((row['H_Distance'] * 1.56) + 2.50), axis=1\n",
    ")\n",
    "scenario_3['fare_amount']"
   ]
  },
  {
   "cell_type": "code",
   "execution_count": 100,
   "id": "3e7585f8",
   "metadata": {},
   "outputs": [],
   "source": [
    "train.update(scenario_3)"
   ]
  },
  {
   "cell_type": "code",
   "execution_count": 101,
   "id": "748d44e2",
   "metadata": {},
   "outputs": [
    {
     "data": {
      "text/plain": [
       "(999901, 14)"
      ]
     },
     "execution_count": 101,
     "metadata": {},
     "output_type": "execute_result"
    }
   ],
   "source": [
    "train.shape"
   ]
  },
  {
   "cell_type": "markdown",
   "id": "169d90ec",
   "metadata": {},
   "source": [
    "#### 2-4 요금은 0이 아닌데 주행거리가 0\n",
    "*  distance = (fare_amount - 2.5)/1.56"
   ]
  },
  {
   "cell_type": "code",
   "execution_count": 102,
   "id": "db727773",
   "metadata": {},
   "outputs": [
    {
     "data": {
      "text/plain": [
       "28661"
      ]
     },
     "execution_count": 102,
     "metadata": {},
     "output_type": "execute_result"
    }
   ],
   "source": [
    "#요금은 0이 아닌데 주행거리가 0\n",
    "scenario_4 = train.loc[(train['H_Distance']==0) & (train['fare_amount']!=0)]\n",
    "len(scenario_4)"
   ]
  },
  {
   "cell_type": "code",
   "execution_count": 103,
   "id": "5139c2b5",
   "metadata": {},
   "outputs": [
    {
     "data": {
      "text/plain": [
       "27159"
      ]
     },
     "execution_count": 103,
     "metadata": {},
     "output_type": "execute_result"
    }
   ],
   "source": [
    "# 이 중 요금이 기본요금 이상인 값만 가져오기\n",
    "scenario_4_sub = scenario_4.loc[(scenario_4['fare_amount']>3.0)&(scenario_4['H_Distance']==0)]\n",
    "len(scenario_4_sub)"
   ]
  },
  {
   "cell_type": "code",
   "execution_count": 104,
   "id": "ad9ac690",
   "metadata": {},
   "outputs": [
    {
     "name": "stderr",
     "output_type": "stream",
     "text": [
      "/var/folders/b9/tj0xrps92c72qmrbfg4n9jb00000gn/T/ipykernel_2206/385517987.py:2: SettingWithCopyWarning: \n",
      "A value is trying to be set on a copy of a slice from a DataFrame.\n",
      "Try using .loc[row_indexer,col_indexer] = value instead\n",
      "\n",
      "See the caveats in the documentation: https://pandas.pydata.org/pandas-docs/stable/user_guide/indexing.html#returning-a-view-versus-a-copy\n",
      "  scenario_4_sub['H_Distance'] = scenario_4_sub.apply(\n"
     ]
    }
   ],
   "source": [
    "# 위와 마찬가지로 거리공식을 이용하여 값 계산한 뒤에 주행거리 값 대체해주기\n",
    "scenario_4_sub['H_Distance'] = scenario_4_sub.apply(\n",
    "lambda row: ((row['fare_amount']-2.50)/1.56), axis=1\n",
    ")"
   ]
  },
  {
   "cell_type": "code",
   "execution_count": 105,
   "id": "baff9300",
   "metadata": {},
   "outputs": [
    {
     "data": {
      "text/plain": [
       "(999901, 14)"
      ]
     },
     "execution_count": 105,
     "metadata": {},
     "output_type": "execute_result"
    }
   ],
   "source": [
    "train.update(scenario_4_sub)\n",
    "train.shape"
   ]
  },
  {
   "cell_type": "markdown",
   "id": "e41c6d48",
   "metadata": {},
   "source": [
    "## Modelling and prediction"
   ]
  },
  {
   "cell_type": "code",
   "execution_count": 107,
   "id": "3e72bb47",
   "metadata": {},
   "outputs": [
    {
     "data": {
      "text/plain": [
       "Index(['key', 'fare_amount', 'pickup_datetime', 'pickup_longitude',\n",
       "       'pickup_latitude', 'dropoff_longitude', 'dropoff_latitude',\n",
       "       'passenger_count', 'H_Distance', 'Year', 'Month', 'Date', 'Day of Week',\n",
       "       'Hour'],\n",
       "      dtype='object')"
      ]
     },
     "execution_count": 107,
     "metadata": {},
     "output_type": "execute_result"
    }
   ],
   "source": [
    "# train 컬럼 확인\n",
    "train.columns"
   ]
  },
  {
   "cell_type": "code",
   "execution_count": 108,
   "id": "39631850",
   "metadata": {},
   "outputs": [
    {
     "data": {
      "text/plain": [
       "Index(['key', 'pickup_datetime', 'pickup_longitude', 'pickup_latitude',\n",
       "       'dropoff_longitude', 'dropoff_latitude', 'passenger_count',\n",
       "       'H_Distance', 'Year', 'Month', 'Date', 'Day of Week', 'Hour'],\n",
       "      dtype='object')"
      ]
     },
     "execution_count": 108,
     "metadata": {},
     "output_type": "execute_result"
    }
   ],
   "source": [
    "# test 컬럼 확인\n",
    "test.columns"
   ]
  },
  {
   "cell_type": "code",
   "execution_count": 109,
   "id": "a8348b10",
   "metadata": {},
   "outputs": [],
   "source": [
    "# 필요없는 컬럼 제거\n",
    "train = train.drop(['key','pickup_datetime'], axis=1)\n",
    "test = test.drop(['key','pickup_datetime'], axis=1)"
   ]
  },
  {
   "cell_type": "code",
   "execution_count": 110,
   "id": "efce122d",
   "metadata": {},
   "outputs": [
    {
     "data": {
      "text/plain": [
       "(999901, 11)"
      ]
     },
     "execution_count": 110,
     "metadata": {},
     "output_type": "execute_result"
    }
   ],
   "source": [
    "# X_train\n",
    "X_train = train.iloc[:,train.columns!=\"fare_amount\"]\n",
    "X_train.shape"
   ]
  },
  {
   "cell_type": "code",
   "execution_count": 111,
   "id": "be77c95b",
   "metadata": {},
   "outputs": [
    {
     "data": {
      "text/plain": [
       "(9914, 11)"
      ]
     },
     "execution_count": 111,
     "metadata": {},
     "output_type": "execute_result"
    }
   ],
   "source": [
    "X_test = test\n",
    "X_test.shape"
   ]
  },
  {
   "cell_type": "code",
   "execution_count": 113,
   "id": "7a0247e8",
   "metadata": {},
   "outputs": [
    {
     "data": {
      "text/plain": [
       "(999901,)"
      ]
     },
     "execution_count": 113,
     "metadata": {},
     "output_type": "execute_result"
    }
   ],
   "source": [
    "y_train = train[\"fare_amount\"]\n",
    "y_train.shape"
   ]
  },
  {
   "cell_type": "markdown",
   "id": "5c4e06b0",
   "metadata": {},
   "source": [
    "### 랜덤포레스트 회귀분석"
   ]
  },
  {
   "cell_type": "code",
   "execution_count": 134,
   "id": "898a5dcf",
   "metadata": {},
   "outputs": [
    {
     "ename": "KeyboardInterrupt",
     "evalue": "",
     "output_type": "error",
     "traceback": [
      "\u001b[0;31m---------------------------------------------------------------------------\u001b[0m",
      "\u001b[0;31mKeyboardInterrupt\u001b[0m                         Traceback (most recent call last)",
      "Input \u001b[0;32mIn [134]\u001b[0m, in \u001b[0;36m<cell line: 5>\u001b[0;34m()\u001b[0m\n\u001b[1;32m      2\u001b[0m \u001b[38;5;28;01mfrom\u001b[39;00m \u001b[38;5;21;01msklearn\u001b[39;00m\u001b[38;5;21;01m.\u001b[39;00m\u001b[38;5;21;01mensemble\u001b[39;00m \u001b[38;5;28;01mimport\u001b[39;00m RandomForestRegressor\n\u001b[1;32m      4\u001b[0m rf \u001b[38;5;241m=\u001b[39m RandomForestRegressor()\n\u001b[0;32m----> 5\u001b[0m \u001b[43mrf\u001b[49m\u001b[38;5;241;43m.\u001b[39;49m\u001b[43mfit\u001b[49m\u001b[43m(\u001b[49m\u001b[43mX_train\u001b[49m\u001b[43m,\u001b[49m\u001b[43m \u001b[49m\u001b[43my_train\u001b[49m\u001b[43m)\u001b[49m\n",
      "File \u001b[0;32m~/opt/anaconda3/lib/python3.9/site-packages/sklearn/ensemble/_forest.py:450\u001b[0m, in \u001b[0;36mBaseForest.fit\u001b[0;34m(self, X, y, sample_weight)\u001b[0m\n\u001b[1;32m    439\u001b[0m trees \u001b[38;5;241m=\u001b[39m [\n\u001b[1;32m    440\u001b[0m     \u001b[38;5;28mself\u001b[39m\u001b[38;5;241m.\u001b[39m_make_estimator(append\u001b[38;5;241m=\u001b[39m\u001b[38;5;28;01mFalse\u001b[39;00m, random_state\u001b[38;5;241m=\u001b[39mrandom_state)\n\u001b[1;32m    441\u001b[0m     \u001b[38;5;28;01mfor\u001b[39;00m i \u001b[38;5;129;01min\u001b[39;00m \u001b[38;5;28mrange\u001b[39m(n_more_estimators)\n\u001b[1;32m    442\u001b[0m ]\n\u001b[1;32m    444\u001b[0m \u001b[38;5;66;03m# Parallel loop: we prefer the threading backend as the Cython code\u001b[39;00m\n\u001b[1;32m    445\u001b[0m \u001b[38;5;66;03m# for fitting the trees is internally releasing the Python GIL\u001b[39;00m\n\u001b[1;32m    446\u001b[0m \u001b[38;5;66;03m# making threading more efficient than multiprocessing in\u001b[39;00m\n\u001b[1;32m    447\u001b[0m \u001b[38;5;66;03m# that case. However, for joblib 0.12+ we respect any\u001b[39;00m\n\u001b[1;32m    448\u001b[0m \u001b[38;5;66;03m# parallel_backend contexts set at a higher level,\u001b[39;00m\n\u001b[1;32m    449\u001b[0m \u001b[38;5;66;03m# since correctness does not rely on using threads.\u001b[39;00m\n\u001b[0;32m--> 450\u001b[0m trees \u001b[38;5;241m=\u001b[39m \u001b[43mParallel\u001b[49m\u001b[43m(\u001b[49m\n\u001b[1;32m    451\u001b[0m \u001b[43m    \u001b[49m\u001b[43mn_jobs\u001b[49m\u001b[38;5;241;43m=\u001b[39;49m\u001b[38;5;28;43mself\u001b[39;49m\u001b[38;5;241;43m.\u001b[39;49m\u001b[43mn_jobs\u001b[49m\u001b[43m,\u001b[49m\n\u001b[1;32m    452\u001b[0m \u001b[43m    \u001b[49m\u001b[43mverbose\u001b[49m\u001b[38;5;241;43m=\u001b[39;49m\u001b[38;5;28;43mself\u001b[39;49m\u001b[38;5;241;43m.\u001b[39;49m\u001b[43mverbose\u001b[49m\u001b[43m,\u001b[49m\n\u001b[1;32m    453\u001b[0m \u001b[43m    \u001b[49m\u001b[38;5;241;43m*\u001b[39;49m\u001b[38;5;241;43m*\u001b[39;49m\u001b[43m_joblib_parallel_args\u001b[49m\u001b[43m(\u001b[49m\u001b[43mprefer\u001b[49m\u001b[38;5;241;43m=\u001b[39;49m\u001b[38;5;124;43m\"\u001b[39;49m\u001b[38;5;124;43mthreads\u001b[39;49m\u001b[38;5;124;43m\"\u001b[39;49m\u001b[43m)\u001b[49m\u001b[43m,\u001b[49m\n\u001b[1;32m    454\u001b[0m \u001b[43m\u001b[49m\u001b[43m)\u001b[49m\u001b[43m(\u001b[49m\n\u001b[1;32m    455\u001b[0m \u001b[43m    \u001b[49m\u001b[43mdelayed\u001b[49m\u001b[43m(\u001b[49m\u001b[43m_parallel_build_trees\u001b[49m\u001b[43m)\u001b[49m\u001b[43m(\u001b[49m\n\u001b[1;32m    456\u001b[0m \u001b[43m        \u001b[49m\u001b[43mt\u001b[49m\u001b[43m,\u001b[49m\n\u001b[1;32m    457\u001b[0m \u001b[43m        \u001b[49m\u001b[38;5;28;43mself\u001b[39;49m\u001b[43m,\u001b[49m\n\u001b[1;32m    458\u001b[0m \u001b[43m        \u001b[49m\u001b[43mX\u001b[49m\u001b[43m,\u001b[49m\n\u001b[1;32m    459\u001b[0m \u001b[43m        \u001b[49m\u001b[43my\u001b[49m\u001b[43m,\u001b[49m\n\u001b[1;32m    460\u001b[0m \u001b[43m        \u001b[49m\u001b[43msample_weight\u001b[49m\u001b[43m,\u001b[49m\n\u001b[1;32m    461\u001b[0m \u001b[43m        \u001b[49m\u001b[43mi\u001b[49m\u001b[43m,\u001b[49m\n\u001b[1;32m    462\u001b[0m \u001b[43m        \u001b[49m\u001b[38;5;28;43mlen\u001b[39;49m\u001b[43m(\u001b[49m\u001b[43mtrees\u001b[49m\u001b[43m)\u001b[49m\u001b[43m,\u001b[49m\n\u001b[1;32m    463\u001b[0m \u001b[43m        \u001b[49m\u001b[43mverbose\u001b[49m\u001b[38;5;241;43m=\u001b[39;49m\u001b[38;5;28;43mself\u001b[39;49m\u001b[38;5;241;43m.\u001b[39;49m\u001b[43mverbose\u001b[49m\u001b[43m,\u001b[49m\n\u001b[1;32m    464\u001b[0m \u001b[43m        \u001b[49m\u001b[43mclass_weight\u001b[49m\u001b[38;5;241;43m=\u001b[39;49m\u001b[38;5;28;43mself\u001b[39;49m\u001b[38;5;241;43m.\u001b[39;49m\u001b[43mclass_weight\u001b[49m\u001b[43m,\u001b[49m\n\u001b[1;32m    465\u001b[0m \u001b[43m        \u001b[49m\u001b[43mn_samples_bootstrap\u001b[49m\u001b[38;5;241;43m=\u001b[39;49m\u001b[43mn_samples_bootstrap\u001b[49m\u001b[43m,\u001b[49m\n\u001b[1;32m    466\u001b[0m \u001b[43m    \u001b[49m\u001b[43m)\u001b[49m\n\u001b[1;32m    467\u001b[0m \u001b[43m    \u001b[49m\u001b[38;5;28;43;01mfor\u001b[39;49;00m\u001b[43m \u001b[49m\u001b[43mi\u001b[49m\u001b[43m,\u001b[49m\u001b[43m \u001b[49m\u001b[43mt\u001b[49m\u001b[43m \u001b[49m\u001b[38;5;129;43;01min\u001b[39;49;00m\u001b[43m \u001b[49m\u001b[38;5;28;43menumerate\u001b[39;49m\u001b[43m(\u001b[49m\u001b[43mtrees\u001b[49m\u001b[43m)\u001b[49m\n\u001b[1;32m    468\u001b[0m \u001b[43m\u001b[49m\u001b[43m)\u001b[49m\n\u001b[1;32m    470\u001b[0m \u001b[38;5;66;03m# Collect newly grown trees\u001b[39;00m\n\u001b[1;32m    471\u001b[0m \u001b[38;5;28mself\u001b[39m\u001b[38;5;241m.\u001b[39mestimators_\u001b[38;5;241m.\u001b[39mextend(trees)\n",
      "File \u001b[0;32m~/opt/anaconda3/lib/python3.9/site-packages/joblib/parallel.py:1046\u001b[0m, in \u001b[0;36mParallel.__call__\u001b[0;34m(self, iterable)\u001b[0m\n\u001b[1;32m   1043\u001b[0m \u001b[38;5;28;01mif\u001b[39;00m \u001b[38;5;28mself\u001b[39m\u001b[38;5;241m.\u001b[39mdispatch_one_batch(iterator):\n\u001b[1;32m   1044\u001b[0m     \u001b[38;5;28mself\u001b[39m\u001b[38;5;241m.\u001b[39m_iterating \u001b[38;5;241m=\u001b[39m \u001b[38;5;28mself\u001b[39m\u001b[38;5;241m.\u001b[39m_original_iterator \u001b[38;5;129;01mis\u001b[39;00m \u001b[38;5;129;01mnot\u001b[39;00m \u001b[38;5;28;01mNone\u001b[39;00m\n\u001b[0;32m-> 1046\u001b[0m \u001b[38;5;28;01mwhile\u001b[39;00m \u001b[38;5;28;43mself\u001b[39;49m\u001b[38;5;241;43m.\u001b[39;49m\u001b[43mdispatch_one_batch\u001b[49m\u001b[43m(\u001b[49m\u001b[43miterator\u001b[49m\u001b[43m)\u001b[49m:\n\u001b[1;32m   1047\u001b[0m     \u001b[38;5;28;01mpass\u001b[39;00m\n\u001b[1;32m   1049\u001b[0m \u001b[38;5;28;01mif\u001b[39;00m pre_dispatch \u001b[38;5;241m==\u001b[39m \u001b[38;5;124m\"\u001b[39m\u001b[38;5;124mall\u001b[39m\u001b[38;5;124m\"\u001b[39m \u001b[38;5;129;01mor\u001b[39;00m n_jobs \u001b[38;5;241m==\u001b[39m \u001b[38;5;241m1\u001b[39m:\n\u001b[1;32m   1050\u001b[0m     \u001b[38;5;66;03m# The iterable was consumed all at once by the above for loop.\u001b[39;00m\n\u001b[1;32m   1051\u001b[0m     \u001b[38;5;66;03m# No need to wait for async callbacks to trigger to\u001b[39;00m\n\u001b[1;32m   1052\u001b[0m     \u001b[38;5;66;03m# consumption.\u001b[39;00m\n",
      "File \u001b[0;32m~/opt/anaconda3/lib/python3.9/site-packages/joblib/parallel.py:861\u001b[0m, in \u001b[0;36mParallel.dispatch_one_batch\u001b[0;34m(self, iterator)\u001b[0m\n\u001b[1;32m    859\u001b[0m     \u001b[38;5;28;01mreturn\u001b[39;00m \u001b[38;5;28;01mFalse\u001b[39;00m\n\u001b[1;32m    860\u001b[0m \u001b[38;5;28;01melse\u001b[39;00m:\n\u001b[0;32m--> 861\u001b[0m     \u001b[38;5;28;43mself\u001b[39;49m\u001b[38;5;241;43m.\u001b[39;49m\u001b[43m_dispatch\u001b[49m\u001b[43m(\u001b[49m\u001b[43mtasks\u001b[49m\u001b[43m)\u001b[49m\n\u001b[1;32m    862\u001b[0m     \u001b[38;5;28;01mreturn\u001b[39;00m \u001b[38;5;28;01mTrue\u001b[39;00m\n",
      "File \u001b[0;32m~/opt/anaconda3/lib/python3.9/site-packages/joblib/parallel.py:779\u001b[0m, in \u001b[0;36mParallel._dispatch\u001b[0;34m(self, batch)\u001b[0m\n\u001b[1;32m    777\u001b[0m \u001b[38;5;28;01mwith\u001b[39;00m \u001b[38;5;28mself\u001b[39m\u001b[38;5;241m.\u001b[39m_lock:\n\u001b[1;32m    778\u001b[0m     job_idx \u001b[38;5;241m=\u001b[39m \u001b[38;5;28mlen\u001b[39m(\u001b[38;5;28mself\u001b[39m\u001b[38;5;241m.\u001b[39m_jobs)\n\u001b[0;32m--> 779\u001b[0m     job \u001b[38;5;241m=\u001b[39m \u001b[38;5;28;43mself\u001b[39;49m\u001b[38;5;241;43m.\u001b[39;49m\u001b[43m_backend\u001b[49m\u001b[38;5;241;43m.\u001b[39;49m\u001b[43mapply_async\u001b[49m\u001b[43m(\u001b[49m\u001b[43mbatch\u001b[49m\u001b[43m,\u001b[49m\u001b[43m \u001b[49m\u001b[43mcallback\u001b[49m\u001b[38;5;241;43m=\u001b[39;49m\u001b[43mcb\u001b[49m\u001b[43m)\u001b[49m\n\u001b[1;32m    780\u001b[0m     \u001b[38;5;66;03m# A job can complete so quickly than its callback is\u001b[39;00m\n\u001b[1;32m    781\u001b[0m     \u001b[38;5;66;03m# called before we get here, causing self._jobs to\u001b[39;00m\n\u001b[1;32m    782\u001b[0m     \u001b[38;5;66;03m# grow. To ensure correct results ordering, .insert is\u001b[39;00m\n\u001b[1;32m    783\u001b[0m     \u001b[38;5;66;03m# used (rather than .append) in the following line\u001b[39;00m\n\u001b[1;32m    784\u001b[0m     \u001b[38;5;28mself\u001b[39m\u001b[38;5;241m.\u001b[39m_jobs\u001b[38;5;241m.\u001b[39minsert(job_idx, job)\n",
      "File \u001b[0;32m~/opt/anaconda3/lib/python3.9/site-packages/joblib/_parallel_backends.py:208\u001b[0m, in \u001b[0;36mSequentialBackend.apply_async\u001b[0;34m(self, func, callback)\u001b[0m\n\u001b[1;32m    206\u001b[0m \u001b[38;5;28;01mdef\u001b[39;00m \u001b[38;5;21mapply_async\u001b[39m(\u001b[38;5;28mself\u001b[39m, func, callback\u001b[38;5;241m=\u001b[39m\u001b[38;5;28;01mNone\u001b[39;00m):\n\u001b[1;32m    207\u001b[0m     \u001b[38;5;124;03m\"\"\"Schedule a func to be run\"\"\"\u001b[39;00m\n\u001b[0;32m--> 208\u001b[0m     result \u001b[38;5;241m=\u001b[39m \u001b[43mImmediateResult\u001b[49m\u001b[43m(\u001b[49m\u001b[43mfunc\u001b[49m\u001b[43m)\u001b[49m\n\u001b[1;32m    209\u001b[0m     \u001b[38;5;28;01mif\u001b[39;00m callback:\n\u001b[1;32m    210\u001b[0m         callback(result)\n",
      "File \u001b[0;32m~/opt/anaconda3/lib/python3.9/site-packages/joblib/_parallel_backends.py:572\u001b[0m, in \u001b[0;36mImmediateResult.__init__\u001b[0;34m(self, batch)\u001b[0m\n\u001b[1;32m    569\u001b[0m \u001b[38;5;28;01mdef\u001b[39;00m \u001b[38;5;21m__init__\u001b[39m(\u001b[38;5;28mself\u001b[39m, batch):\n\u001b[1;32m    570\u001b[0m     \u001b[38;5;66;03m# Don't delay the application, to avoid keeping the input\u001b[39;00m\n\u001b[1;32m    571\u001b[0m     \u001b[38;5;66;03m# arguments in memory\u001b[39;00m\n\u001b[0;32m--> 572\u001b[0m     \u001b[38;5;28mself\u001b[39m\u001b[38;5;241m.\u001b[39mresults \u001b[38;5;241m=\u001b[39m \u001b[43mbatch\u001b[49m\u001b[43m(\u001b[49m\u001b[43m)\u001b[49m\n",
      "File \u001b[0;32m~/opt/anaconda3/lib/python3.9/site-packages/joblib/parallel.py:262\u001b[0m, in \u001b[0;36mBatchedCalls.__call__\u001b[0;34m(self)\u001b[0m\n\u001b[1;32m    258\u001b[0m \u001b[38;5;28;01mdef\u001b[39;00m \u001b[38;5;21m__call__\u001b[39m(\u001b[38;5;28mself\u001b[39m):\n\u001b[1;32m    259\u001b[0m     \u001b[38;5;66;03m# Set the default nested backend to self._backend but do not set the\u001b[39;00m\n\u001b[1;32m    260\u001b[0m     \u001b[38;5;66;03m# change the default number of processes to -1\u001b[39;00m\n\u001b[1;32m    261\u001b[0m     \u001b[38;5;28;01mwith\u001b[39;00m parallel_backend(\u001b[38;5;28mself\u001b[39m\u001b[38;5;241m.\u001b[39m_backend, n_jobs\u001b[38;5;241m=\u001b[39m\u001b[38;5;28mself\u001b[39m\u001b[38;5;241m.\u001b[39m_n_jobs):\n\u001b[0;32m--> 262\u001b[0m         \u001b[38;5;28;01mreturn\u001b[39;00m [func(\u001b[38;5;241m*\u001b[39margs, \u001b[38;5;241m*\u001b[39m\u001b[38;5;241m*\u001b[39mkwargs)\n\u001b[1;32m    263\u001b[0m                 \u001b[38;5;28;01mfor\u001b[39;00m func, args, kwargs \u001b[38;5;129;01min\u001b[39;00m \u001b[38;5;28mself\u001b[39m\u001b[38;5;241m.\u001b[39mitems]\n",
      "File \u001b[0;32m~/opt/anaconda3/lib/python3.9/site-packages/joblib/parallel.py:262\u001b[0m, in \u001b[0;36m<listcomp>\u001b[0;34m(.0)\u001b[0m\n\u001b[1;32m    258\u001b[0m \u001b[38;5;28;01mdef\u001b[39;00m \u001b[38;5;21m__call__\u001b[39m(\u001b[38;5;28mself\u001b[39m):\n\u001b[1;32m    259\u001b[0m     \u001b[38;5;66;03m# Set the default nested backend to self._backend but do not set the\u001b[39;00m\n\u001b[1;32m    260\u001b[0m     \u001b[38;5;66;03m# change the default number of processes to -1\u001b[39;00m\n\u001b[1;32m    261\u001b[0m     \u001b[38;5;28;01mwith\u001b[39;00m parallel_backend(\u001b[38;5;28mself\u001b[39m\u001b[38;5;241m.\u001b[39m_backend, n_jobs\u001b[38;5;241m=\u001b[39m\u001b[38;5;28mself\u001b[39m\u001b[38;5;241m.\u001b[39m_n_jobs):\n\u001b[0;32m--> 262\u001b[0m         \u001b[38;5;28;01mreturn\u001b[39;00m [\u001b[43mfunc\u001b[49m\u001b[43m(\u001b[49m\u001b[38;5;241;43m*\u001b[39;49m\u001b[43margs\u001b[49m\u001b[43m,\u001b[49m\u001b[43m \u001b[49m\u001b[38;5;241;43m*\u001b[39;49m\u001b[38;5;241;43m*\u001b[39;49m\u001b[43mkwargs\u001b[49m\u001b[43m)\u001b[49m\n\u001b[1;32m    263\u001b[0m                 \u001b[38;5;28;01mfor\u001b[39;00m func, args, kwargs \u001b[38;5;129;01min\u001b[39;00m \u001b[38;5;28mself\u001b[39m\u001b[38;5;241m.\u001b[39mitems]\n",
      "File \u001b[0;32m~/opt/anaconda3/lib/python3.9/site-packages/sklearn/utils/fixes.py:216\u001b[0m, in \u001b[0;36m_FuncWrapper.__call__\u001b[0;34m(self, *args, **kwargs)\u001b[0m\n\u001b[1;32m    214\u001b[0m \u001b[38;5;28;01mdef\u001b[39;00m \u001b[38;5;21m__call__\u001b[39m(\u001b[38;5;28mself\u001b[39m, \u001b[38;5;241m*\u001b[39margs, \u001b[38;5;241m*\u001b[39m\u001b[38;5;241m*\u001b[39mkwargs):\n\u001b[1;32m    215\u001b[0m     \u001b[38;5;28;01mwith\u001b[39;00m config_context(\u001b[38;5;241m*\u001b[39m\u001b[38;5;241m*\u001b[39m\u001b[38;5;28mself\u001b[39m\u001b[38;5;241m.\u001b[39mconfig):\n\u001b[0;32m--> 216\u001b[0m         \u001b[38;5;28;01mreturn\u001b[39;00m \u001b[38;5;28;43mself\u001b[39;49m\u001b[38;5;241;43m.\u001b[39;49m\u001b[43mfunction\u001b[49m\u001b[43m(\u001b[49m\u001b[38;5;241;43m*\u001b[39;49m\u001b[43margs\u001b[49m\u001b[43m,\u001b[49m\u001b[43m \u001b[49m\u001b[38;5;241;43m*\u001b[39;49m\u001b[38;5;241;43m*\u001b[39;49m\u001b[43mkwargs\u001b[49m\u001b[43m)\u001b[49m\n",
      "File \u001b[0;32m~/opt/anaconda3/lib/python3.9/site-packages/sklearn/ensemble/_forest.py:185\u001b[0m, in \u001b[0;36m_parallel_build_trees\u001b[0;34m(tree, forest, X, y, sample_weight, tree_idx, n_trees, verbose, class_weight, n_samples_bootstrap)\u001b[0m\n\u001b[1;32m    182\u001b[0m     \u001b[38;5;28;01melif\u001b[39;00m class_weight \u001b[38;5;241m==\u001b[39m \u001b[38;5;124m\"\u001b[39m\u001b[38;5;124mbalanced_subsample\u001b[39m\u001b[38;5;124m\"\u001b[39m:\n\u001b[1;32m    183\u001b[0m         curr_sample_weight \u001b[38;5;241m*\u001b[39m\u001b[38;5;241m=\u001b[39m compute_sample_weight(\u001b[38;5;124m\"\u001b[39m\u001b[38;5;124mbalanced\u001b[39m\u001b[38;5;124m\"\u001b[39m, y, indices\u001b[38;5;241m=\u001b[39mindices)\n\u001b[0;32m--> 185\u001b[0m     \u001b[43mtree\u001b[49m\u001b[38;5;241;43m.\u001b[39;49m\u001b[43mfit\u001b[49m\u001b[43m(\u001b[49m\u001b[43mX\u001b[49m\u001b[43m,\u001b[49m\u001b[43m \u001b[49m\u001b[43my\u001b[49m\u001b[43m,\u001b[49m\u001b[43m \u001b[49m\u001b[43msample_weight\u001b[49m\u001b[38;5;241;43m=\u001b[39;49m\u001b[43mcurr_sample_weight\u001b[49m\u001b[43m,\u001b[49m\u001b[43m \u001b[49m\u001b[43mcheck_input\u001b[49m\u001b[38;5;241;43m=\u001b[39;49m\u001b[38;5;28;43;01mFalse\u001b[39;49;00m\u001b[43m)\u001b[49m\n\u001b[1;32m    186\u001b[0m \u001b[38;5;28;01melse\u001b[39;00m:\n\u001b[1;32m    187\u001b[0m     tree\u001b[38;5;241m.\u001b[39mfit(X, y, sample_weight\u001b[38;5;241m=\u001b[39msample_weight, check_input\u001b[38;5;241m=\u001b[39m\u001b[38;5;28;01mFalse\u001b[39;00m)\n",
      "File \u001b[0;32m~/opt/anaconda3/lib/python3.9/site-packages/sklearn/tree/_classes.py:1315\u001b[0m, in \u001b[0;36mDecisionTreeRegressor.fit\u001b[0;34m(self, X, y, sample_weight, check_input, X_idx_sorted)\u001b[0m\n\u001b[1;32m   1278\u001b[0m \u001b[38;5;28;01mdef\u001b[39;00m \u001b[38;5;21mfit\u001b[39m(\n\u001b[1;32m   1279\u001b[0m     \u001b[38;5;28mself\u001b[39m, X, y, sample_weight\u001b[38;5;241m=\u001b[39m\u001b[38;5;28;01mNone\u001b[39;00m, check_input\u001b[38;5;241m=\u001b[39m\u001b[38;5;28;01mTrue\u001b[39;00m, X_idx_sorted\u001b[38;5;241m=\u001b[39m\u001b[38;5;124m\"\u001b[39m\u001b[38;5;124mdeprecated\u001b[39m\u001b[38;5;124m\"\u001b[39m\n\u001b[1;32m   1280\u001b[0m ):\n\u001b[1;32m   1281\u001b[0m     \u001b[38;5;124;03m\"\"\"Build a decision tree regressor from the training set (X, y).\u001b[39;00m\n\u001b[1;32m   1282\u001b[0m \n\u001b[1;32m   1283\u001b[0m \u001b[38;5;124;03m    Parameters\u001b[39;00m\n\u001b[0;32m   (...)\u001b[0m\n\u001b[1;32m   1312\u001b[0m \u001b[38;5;124;03m        Fitted estimator.\u001b[39;00m\n\u001b[1;32m   1313\u001b[0m \u001b[38;5;124;03m    \"\"\"\u001b[39;00m\n\u001b[0;32m-> 1315\u001b[0m     \u001b[38;5;28;43msuper\u001b[39;49m\u001b[43m(\u001b[49m\u001b[43m)\u001b[49m\u001b[38;5;241;43m.\u001b[39;49m\u001b[43mfit\u001b[49m\u001b[43m(\u001b[49m\n\u001b[1;32m   1316\u001b[0m \u001b[43m        \u001b[49m\u001b[43mX\u001b[49m\u001b[43m,\u001b[49m\n\u001b[1;32m   1317\u001b[0m \u001b[43m        \u001b[49m\u001b[43my\u001b[49m\u001b[43m,\u001b[49m\n\u001b[1;32m   1318\u001b[0m \u001b[43m        \u001b[49m\u001b[43msample_weight\u001b[49m\u001b[38;5;241;43m=\u001b[39;49m\u001b[43msample_weight\u001b[49m\u001b[43m,\u001b[49m\n\u001b[1;32m   1319\u001b[0m \u001b[43m        \u001b[49m\u001b[43mcheck_input\u001b[49m\u001b[38;5;241;43m=\u001b[39;49m\u001b[43mcheck_input\u001b[49m\u001b[43m,\u001b[49m\n\u001b[1;32m   1320\u001b[0m \u001b[43m        \u001b[49m\u001b[43mX_idx_sorted\u001b[49m\u001b[38;5;241;43m=\u001b[39;49m\u001b[43mX_idx_sorted\u001b[49m\u001b[43m,\u001b[49m\n\u001b[1;32m   1321\u001b[0m \u001b[43m    \u001b[49m\u001b[43m)\u001b[49m\n\u001b[1;32m   1322\u001b[0m     \u001b[38;5;28;01mreturn\u001b[39;00m \u001b[38;5;28mself\u001b[39m\n",
      "File \u001b[0;32m~/opt/anaconda3/lib/python3.9/site-packages/sklearn/tree/_classes.py:420\u001b[0m, in \u001b[0;36mBaseDecisionTree.fit\u001b[0;34m(self, X, y, sample_weight, check_input, X_idx_sorted)\u001b[0m\n\u001b[1;32m    409\u001b[0m \u001b[38;5;28;01melse\u001b[39;00m:\n\u001b[1;32m    410\u001b[0m     builder \u001b[38;5;241m=\u001b[39m BestFirstTreeBuilder(\n\u001b[1;32m    411\u001b[0m         splitter,\n\u001b[1;32m    412\u001b[0m         min_samples_split,\n\u001b[0;32m   (...)\u001b[0m\n\u001b[1;32m    417\u001b[0m         \u001b[38;5;28mself\u001b[39m\u001b[38;5;241m.\u001b[39mmin_impurity_decrease,\n\u001b[1;32m    418\u001b[0m     )\n\u001b[0;32m--> 420\u001b[0m \u001b[43mbuilder\u001b[49m\u001b[38;5;241;43m.\u001b[39;49m\u001b[43mbuild\u001b[49m\u001b[43m(\u001b[49m\u001b[38;5;28;43mself\u001b[39;49m\u001b[38;5;241;43m.\u001b[39;49m\u001b[43mtree_\u001b[49m\u001b[43m,\u001b[49m\u001b[43m \u001b[49m\u001b[43mX\u001b[49m\u001b[43m,\u001b[49m\u001b[43m \u001b[49m\u001b[43my\u001b[49m\u001b[43m,\u001b[49m\u001b[43m \u001b[49m\u001b[43msample_weight\u001b[49m\u001b[43m)\u001b[49m\n\u001b[1;32m    422\u001b[0m \u001b[38;5;28;01mif\u001b[39;00m \u001b[38;5;28mself\u001b[39m\u001b[38;5;241m.\u001b[39mn_outputs_ \u001b[38;5;241m==\u001b[39m \u001b[38;5;241m1\u001b[39m \u001b[38;5;129;01mand\u001b[39;00m is_classifier(\u001b[38;5;28mself\u001b[39m):\n\u001b[1;32m    423\u001b[0m     \u001b[38;5;28mself\u001b[39m\u001b[38;5;241m.\u001b[39mn_classes_ \u001b[38;5;241m=\u001b[39m \u001b[38;5;28mself\u001b[39m\u001b[38;5;241m.\u001b[39mn_classes_[\u001b[38;5;241m0\u001b[39m]\n",
      "\u001b[0;31mKeyboardInterrupt\u001b[0m: "
     ]
    }
   ],
   "source": [
    "### 랜덤포레스트 회귀분석\n",
    "from sklearn.ensemble import RandomForestRegressor\n",
    "\n",
    "rf = RandomForestRegressor()\n",
    "rf.fit(X_train, y_train)"
   ]
  },
  {
   "cell_type": "code",
   "execution_count": null,
   "id": "942687ef",
   "metadata": {},
   "outputs": [],
   "source": [
    "rf_predict = rf.predict(X_test)\n",
    "rf_predict"
   ]
  },
  {
   "cell_type": "code",
   "execution_count": null,
   "id": "ce679b95",
   "metadata": {},
   "outputs": [],
   "source": [
    "# 답안저장\n",
    "submission = pd.read_csv(\"data/taxi/sample_submission.csv\")\n",
    "submission[\"fare_amount\"] = rf_predict\n",
    "submission.to_csv(\"data/taxi/submission_rf.csv\", index=False)\n",
    "pd.read_csv(\"data/taxi/submission_rf.csv\")"
   ]
  },
  {
   "cell_type": "markdown",
   "id": "8b2a1327",
   "metadata": {},
   "source": [
    "### LGBM"
   ]
  },
  {
   "cell_type": "code",
   "execution_count": 117,
   "id": "af609e61",
   "metadata": {},
   "outputs": [],
   "source": [
    "# LGBM\n",
    "import lightgbm as lgbm"
   ]
  },
  {
   "cell_type": "code",
   "execution_count": 118,
   "id": "57597423",
   "metadata": {},
   "outputs": [],
   "source": [
    "# 하이퍼파라미터\n",
    "params = {\n",
    "        'boosting_type':'gbdt',\n",
    "        'objective': 'regression',\n",
    "        'nthread': -1,\n",
    "        'verbose': 0,\n",
    "        'num_leaves': 31,\n",
    "        'learning_rate': 0.05,\n",
    "        'max_depth': 1,\n",
    "        'subsample': 0.8,\n",
    "        'subsample_freq': 1,\n",
    "        'colsample_bytree': 0.6,\n",
    "        'reg_aplha': 1,\n",
    "        'reg_lambda': 0.001,\n",
    "        'metric': 'rmse',\n",
    "        'min_split_gain': 0.5,\n",
    "        'min_child_weight': 1,\n",
    "        'min_child_samples': 10,\n",
    "        'scale_pos_weight':1     \n",
    "    }"
   ]
  },
  {
   "cell_type": "code",
   "execution_count": 119,
   "id": "a4ce99a2",
   "metadata": {},
   "outputs": [
    {
     "data": {
      "text/plain": [
       "(9914,)"
      ]
     },
     "execution_count": 119,
     "metadata": {},
     "output_type": "execute_result"
    }
   ],
   "source": [
    "pred_test_y = np.zeros(X_test.shape[0])\n",
    "pred_test_y.shape"
   ]
  },
  {
   "cell_type": "code",
   "execution_count": 122,
   "id": "3d76976d",
   "metadata": {},
   "outputs": [
    {
     "data": {
      "text/plain": [
       "<lightgbm.basic.Dataset at 0x7faf7b637190>"
      ]
     },
     "execution_count": 122,
     "metadata": {},
     "output_type": "execute_result"
    }
   ],
   "source": [
    "train_set = lgbm.Dataset(X_train, y_train, silent=True)\n",
    "train_set"
   ]
  },
  {
   "cell_type": "code",
   "execution_count": 123,
   "id": "bf39315d",
   "metadata": {},
   "outputs": [
    {
     "name": "stderr",
     "output_type": "stream",
     "text": [
      "/Users/kwonsojung/opt/anaconda3/lib/python3.9/site-packages/lightgbm/basic.py:1491: UserWarning: 'silent' argument is deprecated and will be removed in a future release of LightGBM. Pass 'verbose' parameter via 'params' instead.\n",
      "  _log_warning(\"'silent' argument is deprecated and will be removed in a future release of LightGBM. \"\n"
     ]
    },
    {
     "name": "stdout",
     "output_type": "stream",
     "text": [
      "[LightGBM] [Warning] Unknown parameter: reg_aplha\n",
      "[LightGBM] [Warning] Found whitespace in feature_names, replace with underlines\n",
      "[LightGBM] [Warning] Unknown parameter: reg_aplha\n",
      "[LightGBM] [Warning] Auto-choosing row-wise multi-threading, the overhead of testing was 0.007606 seconds.\n",
      "You can set `force_row_wise=true` to remove the overhead.\n",
      "And if memory is not enough, you can set `force_col_wise=true`.\n",
      "<lightgbm.basic.Booster object at 0x7faf7b63e7c0>\n"
     ]
    }
   ],
   "source": [
    "# num_boost_round: boosting을 얼마나 돌릴지\n",
    "model = lgbm.train(params, train_set = train_set, num_boost_round=300)\n",
    "print(model)"
   ]
  },
  {
   "cell_type": "code",
   "execution_count": 124,
   "id": "1d9696a1",
   "metadata": {},
   "outputs": [
    {
     "name": "stdout",
     "output_type": "stream",
     "text": [
      "[ 8.1981973   8.53477465  4.9959965  ... 45.29399368 20.97271032\n",
      "  7.41365799]\n"
     ]
    }
   ],
   "source": [
    "# 예측\n",
    "pred_test_y = model.predict(X_test, num_iteration = model.best_iteration)\n",
    "print(pred_test_y)"
   ]
  },
  {
   "cell_type": "code",
   "execution_count": 126,
   "id": "8a025bf3",
   "metadata": {},
   "outputs": [
    {
     "data": {
      "text/html": [
       "<div>\n",
       "<style scoped>\n",
       "    .dataframe tbody tr th:only-of-type {\n",
       "        vertical-align: middle;\n",
       "    }\n",
       "\n",
       "    .dataframe tbody tr th {\n",
       "        vertical-align: top;\n",
       "    }\n",
       "\n",
       "    .dataframe thead th {\n",
       "        text-align: right;\n",
       "    }\n",
       "</style>\n",
       "<table border=\"1\" class=\"dataframe\">\n",
       "  <thead>\n",
       "    <tr style=\"text-align: right;\">\n",
       "      <th></th>\n",
       "      <th>key</th>\n",
       "      <th>fare_amount</th>\n",
       "    </tr>\n",
       "  </thead>\n",
       "  <tbody>\n",
       "    <tr>\n",
       "      <th>0</th>\n",
       "      <td>2015-01-27 13:08:24.0000002</td>\n",
       "      <td>8.198197</td>\n",
       "    </tr>\n",
       "    <tr>\n",
       "      <th>1</th>\n",
       "      <td>2015-01-27 13:08:24.0000003</td>\n",
       "      <td>8.534775</td>\n",
       "    </tr>\n",
       "    <tr>\n",
       "      <th>2</th>\n",
       "      <td>2011-10-08 11:53:44.0000002</td>\n",
       "      <td>4.995997</td>\n",
       "    </tr>\n",
       "    <tr>\n",
       "      <th>3</th>\n",
       "      <td>2012-12-01 21:12:12.0000002</td>\n",
       "      <td>7.640134</td>\n",
       "    </tr>\n",
       "    <tr>\n",
       "      <th>4</th>\n",
       "      <td>2012-12-01 21:12:12.0000003</td>\n",
       "      <td>13.891320</td>\n",
       "    </tr>\n",
       "    <tr>\n",
       "      <th>...</th>\n",
       "      <td>...</td>\n",
       "      <td>...</td>\n",
       "    </tr>\n",
       "    <tr>\n",
       "      <th>9909</th>\n",
       "      <td>2015-05-10 12:37:51.0000002</td>\n",
       "      <td>9.238950</td>\n",
       "    </tr>\n",
       "    <tr>\n",
       "      <th>9910</th>\n",
       "      <td>2015-01-12 17:05:51.0000001</td>\n",
       "      <td>11.235000</td>\n",
       "    </tr>\n",
       "    <tr>\n",
       "      <th>9911</th>\n",
       "      <td>2015-04-19 20:44:15.0000001</td>\n",
       "      <td>45.293994</td>\n",
       "    </tr>\n",
       "    <tr>\n",
       "      <th>9912</th>\n",
       "      <td>2015-01-31 01:05:19.0000005</td>\n",
       "      <td>20.972710</td>\n",
       "    </tr>\n",
       "    <tr>\n",
       "      <th>9913</th>\n",
       "      <td>2015-01-18 14:06:23.0000006</td>\n",
       "      <td>7.413658</td>\n",
       "    </tr>\n",
       "  </tbody>\n",
       "</table>\n",
       "<p>9914 rows × 2 columns</p>\n",
       "</div>"
      ],
      "text/plain": [
       "                              key  fare_amount\n",
       "0     2015-01-27 13:08:24.0000002     8.198197\n",
       "1     2015-01-27 13:08:24.0000003     8.534775\n",
       "2     2011-10-08 11:53:44.0000002     4.995997\n",
       "3     2012-12-01 21:12:12.0000002     7.640134\n",
       "4     2012-12-01 21:12:12.0000003    13.891320\n",
       "...                           ...          ...\n",
       "9909  2015-05-10 12:37:51.0000002     9.238950\n",
       "9910  2015-01-12 17:05:51.0000001    11.235000\n",
       "9911  2015-04-19 20:44:15.0000001    45.293994\n",
       "9912  2015-01-31 01:05:19.0000005    20.972710\n",
       "9913  2015-01-18 14:06:23.0000006     7.413658\n",
       "\n",
       "[9914 rows x 2 columns]"
      ]
     },
     "execution_count": 126,
     "metadata": {},
     "output_type": "execute_result"
    }
   ],
   "source": [
    "# 답안 저장\n",
    "submission = pd.read_csv(\"data/taxi/sample_submission.csv\")\n",
    "submission['fare_amount'] = pred_test_y\n",
    "submission.to_csv('data/taxi/submission_LGBM.csv', index=False)\n",
    "pd.read_csv(\"data/taxi/submission_LGBM.csv\")"
   ]
  },
  {
   "cell_type": "code",
   "execution_count": null,
   "id": "c796abf2",
   "metadata": {},
   "outputs": [],
   "source": []
  },
  {
   "cell_type": "markdown",
   "id": "5915b16d",
   "metadata": {},
   "source": [
    "### XGBM"
   ]
  },
  {
   "cell_type": "code",
   "execution_count": 127,
   "id": "9f5f2ed9",
   "metadata": {},
   "outputs": [
    {
     "name": "stderr",
     "output_type": "stream",
     "text": [
      "/Users/kwonsojung/opt/anaconda3/lib/python3.9/site-packages/xgboost/compat.py:36: FutureWarning: pandas.Int64Index is deprecated and will be removed from pandas in a future version. Use pandas.Index with the appropriate dtype instead.\n",
      "  from pandas import MultiIndex, Int64Index\n"
     ]
    }
   ],
   "source": [
    "#XGBM\n",
    "import xgboost as xgb"
   ]
  },
  {
   "cell_type": "code",
   "execution_count": 128,
   "id": "703fdd30",
   "metadata": {},
   "outputs": [
    {
     "name": "stderr",
     "output_type": "stream",
     "text": [
      "/Users/kwonsojung/opt/anaconda3/lib/python3.9/site-packages/xgboost/data.py:262: FutureWarning: pandas.Int64Index is deprecated and will be removed from pandas in a future version. Use pandas.Index with the appropriate dtype instead.\n",
      "  elif isinstance(data.columns, (pd.Int64Index, pd.RangeIndex)):\n"
     ]
    },
    {
     "data": {
      "text/plain": [
       "<xgboost.core.DMatrix at 0x7faf5ae9fa60>"
      ]
     },
     "execution_count": 128,
     "metadata": {},
     "output_type": "execute_result"
    }
   ],
   "source": [
    "dtrain = xgb.DMatrix(X_train, label = y_train)\n",
    "dtest = xgb.DMatrix(X_test)\n",
    "dtrain"
   ]
  },
  {
   "cell_type": "code",
   "execution_count": 129,
   "id": "01d07609",
   "metadata": {},
   "outputs": [],
   "source": [
    "# 하이퍼파라미터\n",
    "params = {'max_depth':7,\n",
    "          'eta':1,\n",
    "          'silent':1,\n",
    "          'objective':'reg:linear',\n",
    "          'eval_metric':'rmse',\n",
    "          'learning_rate':0.05,\n",
    "         }\n",
    "num_rounds = 50"
   ]
  },
  {
   "cell_type": "code",
   "execution_count": 130,
   "id": "69a41519",
   "metadata": {},
   "outputs": [
    {
     "name": "stdout",
     "output_type": "stream",
     "text": [
      "[19:37:35] WARNING: /Users/runner/miniforge3/conda-bld/xgboost-split_1645117948562/work/src/objective/regression_obj.cu:188: reg:linear is now deprecated in favor of reg:squarederror.\n",
      "[19:37:35] WARNING: /Users/runner/miniforge3/conda-bld/xgboost-split_1645117948562/work/src/learner.cc:576: \n",
      "Parameters: { \"silent\" } might not be used.\n",
      "\n",
      "  This could be a false alarm, with some parameters getting used by language bindings but\n",
      "  then being mistakenly passed down to XGBoost core, or some parameter actually being used\n",
      "  but getting flagged wrongly here. Please open an issue if you find any such cases.\n",
      "\n",
      "\n"
     ]
    }
   ],
   "source": [
    "xb = xgb.train(params, dtrain, num_rounds)"
   ]
  },
  {
   "cell_type": "code",
   "execution_count": 131,
   "id": "9a3eaa55",
   "metadata": {},
   "outputs": [
    {
     "name": "stdout",
     "output_type": "stream",
     "text": [
      "[ 7.795204   8.047973   4.5814323 ... 42.70728   16.297667   6.336797 ]\n"
     ]
    }
   ],
   "source": [
    "y_pred_xgb = xb.predict(dtest)\n",
    "print(y_pred_xgb)"
   ]
  },
  {
   "cell_type": "code",
   "execution_count": 133,
   "id": "7c0adf1c",
   "metadata": {},
   "outputs": [
    {
     "data": {
      "text/html": [
       "<div>\n",
       "<style scoped>\n",
       "    .dataframe tbody tr th:only-of-type {\n",
       "        vertical-align: middle;\n",
       "    }\n",
       "\n",
       "    .dataframe tbody tr th {\n",
       "        vertical-align: top;\n",
       "    }\n",
       "\n",
       "    .dataframe thead th {\n",
       "        text-align: right;\n",
       "    }\n",
       "</style>\n",
       "<table border=\"1\" class=\"dataframe\">\n",
       "  <thead>\n",
       "    <tr style=\"text-align: right;\">\n",
       "      <th></th>\n",
       "      <th>key</th>\n",
       "      <th>fare_amount</th>\n",
       "    </tr>\n",
       "  </thead>\n",
       "  <tbody>\n",
       "    <tr>\n",
       "      <th>0</th>\n",
       "      <td>2015-01-27 13:08:24.0000002</td>\n",
       "      <td>7.795204</td>\n",
       "    </tr>\n",
       "    <tr>\n",
       "      <th>1</th>\n",
       "      <td>2015-01-27 13:08:24.0000003</td>\n",
       "      <td>8.047973</td>\n",
       "    </tr>\n",
       "    <tr>\n",
       "      <th>2</th>\n",
       "      <td>2011-10-08 11:53:44.0000002</td>\n",
       "      <td>4.581432</td>\n",
       "    </tr>\n",
       "    <tr>\n",
       "      <th>3</th>\n",
       "      <td>2012-12-01 21:12:12.0000002</td>\n",
       "      <td>6.665927</td>\n",
       "    </tr>\n",
       "    <tr>\n",
       "      <th>4</th>\n",
       "      <td>2012-12-01 21:12:12.0000003</td>\n",
       "      <td>12.298733</td>\n",
       "    </tr>\n",
       "    <tr>\n",
       "      <th>...</th>\n",
       "      <td>...</td>\n",
       "      <td>...</td>\n",
       "    </tr>\n",
       "    <tr>\n",
       "      <th>9909</th>\n",
       "      <td>2015-05-10 12:37:51.0000002</td>\n",
       "      <td>8.151809</td>\n",
       "    </tr>\n",
       "    <tr>\n",
       "      <th>9910</th>\n",
       "      <td>2015-01-12 17:05:51.0000001</td>\n",
       "      <td>10.362726</td>\n",
       "    </tr>\n",
       "    <tr>\n",
       "      <th>9911</th>\n",
       "      <td>2015-04-19 20:44:15.0000001</td>\n",
       "      <td>42.707280</td>\n",
       "    </tr>\n",
       "    <tr>\n",
       "      <th>9912</th>\n",
       "      <td>2015-01-31 01:05:19.0000005</td>\n",
       "      <td>16.297667</td>\n",
       "    </tr>\n",
       "    <tr>\n",
       "      <th>9913</th>\n",
       "      <td>2015-01-18 14:06:23.0000006</td>\n",
       "      <td>6.336797</td>\n",
       "    </tr>\n",
       "  </tbody>\n",
       "</table>\n",
       "<p>9914 rows × 2 columns</p>\n",
       "</div>"
      ],
      "text/plain": [
       "                              key  fare_amount\n",
       "0     2015-01-27 13:08:24.0000002     7.795204\n",
       "1     2015-01-27 13:08:24.0000003     8.047973\n",
       "2     2011-10-08 11:53:44.0000002     4.581432\n",
       "3     2012-12-01 21:12:12.0000002     6.665927\n",
       "4     2012-12-01 21:12:12.0000003    12.298733\n",
       "...                           ...          ...\n",
       "9909  2015-05-10 12:37:51.0000002     8.151809\n",
       "9910  2015-01-12 17:05:51.0000001    10.362726\n",
       "9911  2015-04-19 20:44:15.0000001    42.707280\n",
       "9912  2015-01-31 01:05:19.0000005    16.297667\n",
       "9913  2015-01-18 14:06:23.0000006     6.336797\n",
       "\n",
       "[9914 rows x 2 columns]"
      ]
     },
     "execution_count": 133,
     "metadata": {},
     "output_type": "execute_result"
    }
   ],
   "source": [
    "# 답안저장\n",
    "submission['fare_amount'] = y_pred_xgb\n",
    "submission.to_csv('data/taxi/submission_XGBM.csv', index=False)\n",
    "pd.read_csv(\"data/taxi/submission_XGBM.csv\")"
   ]
  },
  {
   "cell_type": "code",
   "execution_count": null,
   "id": "7fd92f83",
   "metadata": {},
   "outputs": [],
   "source": []
  }
 ],
 "metadata": {
  "kernelspec": {
   "display_name": "Python 3 (ipykernel)",
   "language": "python",
   "name": "python3"
  },
  "language_info": {
   "codemirror_mode": {
    "name": "ipython",
    "version": 3
   },
   "file_extension": ".py",
   "mimetype": "text/x-python",
   "name": "python",
   "nbconvert_exporter": "python",
   "pygments_lexer": "ipython3",
   "version": "3.9.12"
  },
  "toc": {
   "base_numbering": 1,
   "nav_menu": {},
   "number_sections": true,
   "sideBar": true,
   "skip_h1_title": false,
   "title_cell": "Table of Contents",
   "title_sidebar": "Contents",
   "toc_cell": false,
   "toc_position": {},
   "toc_section_display": true,
   "toc_window_display": false
  }
 },
 "nbformat": 4,
 "nbformat_minor": 5
}
